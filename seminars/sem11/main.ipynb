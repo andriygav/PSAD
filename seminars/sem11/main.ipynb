{
  "cells": [
    {
      "cell_type": "markdown",
      "metadata": {
        "id": "g85Vj6EZbZ0V"
      },
      "source": [
        "# Причиность"
      ]
    },
    {
      "cell_type": "code",
      "source": [
        "import warnings\n",
        "warnings.filterwarnings(\"ignore\")\n",
        "\n",
        "try:\n",
        "    import google.colab\n",
        "    IN_COLAB = True\n",
        "except:\n",
        "    IN_COLAB = False\n",
        "\n",
        "if IN_COLAB:\n",
        "    !wget -q -O requirements.txt https://raw.githubusercontent.com/Intelligent-Systems-Phystech/psad/master/seminars/sem11/requirements.txt\n",
        "    !pip install -qU -r requirements.txt\n",
        "    !pip install -qU matplotlib==2.2.3"
      ],
      "metadata": {
        "id": "aR1pINW-bpqr",
        "outputId": "88116bf9-8184-492e-9da1-2406eea19b3a",
        "colab": {
          "base_uri": "https://localhost:8080/"
        }
      },
      "execution_count": 1,
      "outputs": [
        {
          "output_type": "stream",
          "name": "stdout",
          "text": [
            "\u001b[2K     \u001b[90m━━━━━━━━━━━━━━━━━━━━━━━━━━━━━━━━━━━━━━━━\u001b[0m \u001b[32m11.6/11.6 MB\u001b[0m \u001b[31m42.9 MB/s\u001b[0m eta \u001b[36m0:00:00\u001b[0m\n",
            "\u001b[?25h  Preparing metadata (setup.py) ... \u001b[?25l\u001b[?25hdone\n",
            "\u001b[2K     \u001b[90m━━━━━━━━━━━━━━━━━━━━━━━━━━━━━━━━━━━━━━━━\u001b[0m \u001b[32m383.4/383.4 kB\u001b[0m \u001b[31m22.0 MB/s\u001b[0m eta \u001b[36m0:00:00\u001b[0m\n",
            "\u001b[2K     \u001b[90m━━━━━━━━━━━━━━━━━━━━━━━━━━━━━━━━━━━━━━━━\u001b[0m \u001b[32m174.5/174.5 kB\u001b[0m \u001b[31m11.3 MB/s\u001b[0m eta \u001b[36m0:00:00\u001b[0m\n",
            "\u001b[?25h  Building wheel for causality (setup.py) ... \u001b[?25l\u001b[?25hdone\n",
            "\u001b[2K     \u001b[90m━━━━━━━━━━━━━━━━━━━━━━━━━━━━━━━━━━━━━━━━\u001b[0m \u001b[32m36.8/36.8 MB\u001b[0m \u001b[31m10.7 MB/s\u001b[0m eta \u001b[36m0:00:00\u001b[0m\n",
            "\u001b[?25h  Preparing metadata (setup.py) ... \u001b[?25l\u001b[?25hdone\n",
            "  Building wheel for matplotlib (setup.py) ... \u001b[?25l\u001b[?25hdone\n",
            "\u001b[31mERROR: pip's dependency resolver does not currently take into account all the packages that are installed. This behaviour is the source of the following dependency conflicts.\n",
            "arviz 0.15.1 requires matplotlib>=3.2, but you have matplotlib 2.2.3 which is incompatible.\n",
            "bigframes 1.4.0 requires matplotlib>=3.7.1, but you have matplotlib 2.2.3 which is incompatible.\n",
            "datascience 0.17.6 requires matplotlib>=3.0.0, but you have matplotlib 2.2.3 which is incompatible.\n",
            "mizani 0.9.3 requires matplotlib>=3.5.0, but you have matplotlib 2.2.3 which is incompatible.\n",
            "mlxtend 0.22.0 requires matplotlib>=3.0.0, but you have matplotlib 2.2.3 which is incompatible.\n",
            "plotnine 0.12.4 requires matplotlib>=3.6.0, but you have matplotlib 2.2.3 which is incompatible.\n",
            "seaborn 0.13.1 requires matplotlib!=3.6.1,>=3.4, but you have matplotlib 2.2.3 which is incompatible.\u001b[0m\u001b[31m\n",
            "\u001b[0m"
          ]
        }
      ]
    },
    {
      "cell_type": "markdown",
      "metadata": {
        "id": "wDFn3y4VbZ0b"
      },
      "source": [
        "## Библиотеки"
      ]
    },
    {
      "cell_type": "code",
      "execution_count": 6,
      "metadata": {
        "id": "Jst96y3fbZ0b"
      },
      "outputs": [],
      "source": [
        "import numpy as np\n",
        "import networkx as nx\n",
        "import matplotlib.pyplot as plt\n",
        "\n",
        "import collections.abc\n",
        "collections.Iterable = collections.abc.Iterable\n",
        "collections.Mapping = collections.abc.Mapping\n",
        "collections.MutableSet = collections.abc.MutableSet\n",
        "collections.MutableMapping = collections.abc.MutableMapping\n",
        "\n",
        "from statsmodels.regression.linear_model import OLS\n",
        "import statsmodels.api as sm\n",
        "\n",
        "import pandas as pd\n",
        "import seaborn as sns\n",
        "\n",
        "from causality.estimation.adjustments import AdjustForDirectCauses\n",
        "from causality.estimation.nonparametric import CausalEffect\n",
        "from causality.inference.search import IC\n",
        "from causality.inference.independence_tests import MutualInformationTest\n",
        "from causalgraphicalmodels import CausalGraphicalModel\n",
        "\n",
        "import dowhy\n",
        "from dowhy import CausalModel"
      ]
    },
    {
      "cell_type": "markdown",
      "metadata": {
        "id": "r0wEVxktbZ0d"
      },
      "source": [
        "## Warmup"
      ]
    },
    {
      "cell_type": "markdown",
      "metadata": {
        "id": "ly82uu0PbZ0e"
      },
      "source": [
        "### Связь в линейной регрессии"
      ]
    },
    {
      "cell_type": "markdown",
      "metadata": {
        "id": "1wAa8-WEbZ0e"
      },
      "source": [
        "#### Fork\n",
        "\n",
        "Смоделируем зависимости,соответствующие типу Fork.\n",
        "\n",
        "Заметим, что здесь есть только одна переменная, которая является экзогенной (Z), то есть она не зависит ни от какой другой переменной в системе (не зависит от X, Y, эндогенных переменных).\n",
        "\n",
        "$$Z->X, Z->Y, X->Y$$"
      ]
    },
    {
      "cell_type": "markdown",
      "metadata": {
        "id": "E1wlcB9mbZ0f"
      },
      "source": [
        "![title](https://github.com/Intelligent-Systems-Phystech/psad/blob/master/seminars/sem11/data/fork.png?raw=1)"
      ]
    },
    {
      "cell_type": "code",
      "execution_count": 7,
      "metadata": {
        "id": "o0yxURkFbZ0g"
      },
      "outputs": [],
      "source": [
        "rs = np.random.RandomState(42)\n",
        "N = 10000\n",
        "Z = rs.randn(10000)\n",
        "X = 0.5 * Z + rs.randn(10000)\n",
        "Y = 0.3 * Z + 0.4 * X + rs.randn(10000)"
      ]
    },
    {
      "cell_type": "markdown",
      "metadata": {
        "id": "z7yX3pTDbZ0h"
      },
      "source": [
        "Построим разные регрессии регрессии Y ~ X, Y ~ Z + X, Y ~ Z. Что можно сказать о 95% доверительном интервале (confint) на коэффициент регрессии перед X в двух этих моделях?"
      ]
    },
    {
      "cell_type": "code",
      "execution_count": 8,
      "metadata": {
        "id": "E7aw43RpbZ0h",
        "outputId": "5fbee54c-2823-4432-9c83-fda462455253",
        "colab": {
          "base_uri": "https://localhost:8080/",
          "height": 456
        }
      },
      "outputs": [
        {
          "output_type": "execute_result",
          "data": {
            "text/plain": [
              "<class 'statsmodels.iolib.summary.Summary'>\n",
              "\"\"\"\n",
              "                                 OLS Regression Results                                \n",
              "=======================================================================================\n",
              "Dep. Variable:                      y   R-squared (uncentered):                   0.263\n",
              "Model:                            OLS   Adj. R-squared (uncentered):              0.263\n",
              "Method:                 Least Squares   F-statistic:                              3564.\n",
              "Date:                Fri, 03 May 2024   Prob (F-statistic):                        0.00\n",
              "Time:                        15:44:53   Log-Likelihood:                         -14486.\n",
              "No. Observations:               10000   AIC:                                  2.897e+04\n",
              "Df Residuals:                    9999   BIC:                                  2.898e+04\n",
              "Df Model:                           1                                                  \n",
              "Covariance Type:            nonrobust                                                  \n",
              "==============================================================================\n",
              "                 coef    std err          t      P>|t|      [0.025      0.975]\n",
              "------------------------------------------------------------------------------\n",
              "x1             0.5511      0.009     59.699      0.000       0.533       0.569\n",
              "==============================================================================\n",
              "Omnibus:                        0.062   Durbin-Watson:                   1.995\n",
              "Prob(Omnibus):                  0.969   Jarque-Bera (JB):                0.051\n",
              "Skew:                          -0.004   Prob(JB):                        0.975\n",
              "Kurtosis:                       3.007   Cond. No.                         1.00\n",
              "==============================================================================\n",
              "\n",
              "Notes:\n",
              "[1] R² is computed without centering (uncentered) since the model does not contain a constant.\n",
              "[2] Standard Errors assume that the covariance matrix of the errors is correctly specified.\n",
              "\"\"\""
            ],
            "text/html": [
              "<table class=\"simpletable\">\n",
              "<caption>OLS Regression Results</caption>\n",
              "<tr>\n",
              "  <th>Dep. Variable:</th>            <td>y</td>        <th>  R-squared (uncentered):</th>      <td>   0.263</td> \n",
              "</tr>\n",
              "<tr>\n",
              "  <th>Model:</th>                   <td>OLS</td>       <th>  Adj. R-squared (uncentered):</th> <td>   0.263</td> \n",
              "</tr>\n",
              "<tr>\n",
              "  <th>Method:</th>             <td>Least Squares</td>  <th>  F-statistic:       </th>          <td>   3564.</td> \n",
              "</tr>\n",
              "<tr>\n",
              "  <th>Date:</th>             <td>Fri, 03 May 2024</td> <th>  Prob (F-statistic):</th>           <td>  0.00</td>  \n",
              "</tr>\n",
              "<tr>\n",
              "  <th>Time:</th>                 <td>15:44:53</td>     <th>  Log-Likelihood:    </th>          <td> -14486.</td> \n",
              "</tr>\n",
              "<tr>\n",
              "  <th>No. Observations:</th>      <td> 10000</td>      <th>  AIC:               </th>          <td>2.897e+04</td>\n",
              "</tr>\n",
              "<tr>\n",
              "  <th>Df Residuals:</th>          <td>  9999</td>      <th>  BIC:               </th>          <td>2.898e+04</td>\n",
              "</tr>\n",
              "<tr>\n",
              "  <th>Df Model:</th>              <td>     1</td>      <th>                     </th>              <td> </td>    \n",
              "</tr>\n",
              "<tr>\n",
              "  <th>Covariance Type:</th>      <td>nonrobust</td>    <th>                     </th>              <td> </td>    \n",
              "</tr>\n",
              "</table>\n",
              "<table class=\"simpletable\">\n",
              "<tr>\n",
              "   <td></td>     <th>coef</th>     <th>std err</th>      <th>t</th>      <th>P>|t|</th>  <th>[0.025</th>    <th>0.975]</th>  \n",
              "</tr>\n",
              "<tr>\n",
              "  <th>x1</th> <td>    0.5511</td> <td>    0.009</td> <td>   59.699</td> <td> 0.000</td> <td>    0.533</td> <td>    0.569</td>\n",
              "</tr>\n",
              "</table>\n",
              "<table class=\"simpletable\">\n",
              "<tr>\n",
              "  <th>Omnibus:</th>       <td> 0.062</td> <th>  Durbin-Watson:     </th> <td>   1.995</td>\n",
              "</tr>\n",
              "<tr>\n",
              "  <th>Prob(Omnibus):</th> <td> 0.969</td> <th>  Jarque-Bera (JB):  </th> <td>   0.051</td>\n",
              "</tr>\n",
              "<tr>\n",
              "  <th>Skew:</th>          <td>-0.004</td> <th>  Prob(JB):          </th> <td>   0.975</td>\n",
              "</tr>\n",
              "<tr>\n",
              "  <th>Kurtosis:</th>      <td> 3.007</td> <th>  Cond. No.          </th> <td>    1.00</td>\n",
              "</tr>\n",
              "</table><br/><br/>Notes:<br/>[1] R² is computed without centering (uncentered) since the model does not contain a constant.<br/>[2] Standard Errors assume that the covariance matrix of the errors is correctly specified."
            ],
            "text/latex": "\\begin{center}\n\\begin{tabular}{lclc}\n\\toprule\n\\textbf{Dep. Variable:}    &        y         & \\textbf{  R-squared (uncentered):}      &     0.263   \\\\\n\\textbf{Model:}            &       OLS        & \\textbf{  Adj. R-squared (uncentered):} &     0.263   \\\\\n\\textbf{Method:}           &  Least Squares   & \\textbf{  F-statistic:       }          &     3564.   \\\\\n\\textbf{Date:}             & Fri, 03 May 2024 & \\textbf{  Prob (F-statistic):}          &     0.00    \\\\\n\\textbf{Time:}             &     15:44:53     & \\textbf{  Log-Likelihood:    }          &   -14486.   \\\\\n\\textbf{No. Observations:} &       10000      & \\textbf{  AIC:               }          & 2.897e+04   \\\\\n\\textbf{Df Residuals:}     &        9999      & \\textbf{  BIC:               }          & 2.898e+04   \\\\\n\\textbf{Df Model:}         &           1      & \\textbf{                     }          &             \\\\\n\\textbf{Covariance Type:}  &    nonrobust     & \\textbf{                     }          &             \\\\\n\\bottomrule\n\\end{tabular}\n\\begin{tabular}{lcccccc}\n            & \\textbf{coef} & \\textbf{std err} & \\textbf{t} & \\textbf{P$> |$t$|$} & \\textbf{[0.025} & \\textbf{0.975]}  \\\\\n\\midrule\n\\textbf{x1} &       0.5511  &        0.009     &    59.699  &         0.000        &        0.533    &        0.569     \\\\\n\\bottomrule\n\\end{tabular}\n\\begin{tabular}{lclc}\n\\textbf{Omnibus:}       &  0.062 & \\textbf{  Durbin-Watson:     } &    1.995  \\\\\n\\textbf{Prob(Omnibus):} &  0.969 & \\textbf{  Jarque-Bera (JB):  } &    0.051  \\\\\n\\textbf{Skew:}          & -0.004 & \\textbf{  Prob(JB):          } &    0.975  \\\\\n\\textbf{Kurtosis:}      &  3.007 & \\textbf{  Cond. No.          } &     1.00  \\\\\n\\bottomrule\n\\end{tabular}\n%\\caption{OLS Regression Results}\n\\end{center}\n\nNotes: \\newline\n [1] R² is computed without centering (uncentered) since the model does not contain a constant. \\newline\n [2] Standard Errors assume that the covariance matrix of the errors is correctly specified."
          },
          "metadata": {},
          "execution_count": 8
        }
      ],
      "source": [
        "l1 = OLS(Y, np.vstack([X]).T).fit()\n",
        "l1.summary()"
      ]
    },
    {
      "cell_type": "code",
      "execution_count": 9,
      "metadata": {
        "id": "WpyL3UvubZ0j",
        "outputId": "1e63ae87-3284-4ed0-c61e-0c3099684f1c",
        "colab": {
          "base_uri": "https://localhost:8080/",
          "height": 477
        }
      },
      "outputs": [
        {
          "output_type": "execute_result",
          "data": {
            "text/plain": [
              "<class 'statsmodels.iolib.summary.Summary'>\n",
              "\"\"\"\n",
              "                                 OLS Regression Results                                \n",
              "=======================================================================================\n",
              "Dep. Variable:                      y   R-squared (uncentered):                   0.318\n",
              "Model:                            OLS   Adj. R-squared (uncentered):              0.318\n",
              "Method:                 Least Squares   F-statistic:                              2331.\n",
              "Date:                Fri, 03 May 2024   Prob (F-statistic):                        0.00\n",
              "Time:                        15:44:53   Log-Likelihood:                         -14096.\n",
              "No. Observations:               10000   AIC:                                  2.820e+04\n",
              "Df Residuals:                    9998   BIC:                                  2.821e+04\n",
              "Df Model:                           2                                                  \n",
              "Covariance Type:            nonrobust                                                  \n",
              "==============================================================================\n",
              "                 coef    std err          t      P>|t|      [0.025      0.975]\n",
              "------------------------------------------------------------------------------\n",
              "x1             0.4266      0.010     43.099      0.000       0.407       0.446\n",
              "x2             0.3134      0.011     28.467      0.000       0.292       0.335\n",
              "==============================================================================\n",
              "Omnibus:                        3.320   Durbin-Watson:                   1.995\n",
              "Prob(Omnibus):                  0.190   Jarque-Bera (JB):                3.163\n",
              "Skew:                           0.007   Prob(JB):                        0.206\n",
              "Kurtosis:                       2.914   Cond. No.                         1.63\n",
              "==============================================================================\n",
              "\n",
              "Notes:\n",
              "[1] R² is computed without centering (uncentered) since the model does not contain a constant.\n",
              "[2] Standard Errors assume that the covariance matrix of the errors is correctly specified.\n",
              "\"\"\""
            ],
            "text/html": [
              "<table class=\"simpletable\">\n",
              "<caption>OLS Regression Results</caption>\n",
              "<tr>\n",
              "  <th>Dep. Variable:</th>            <td>y</td>        <th>  R-squared (uncentered):</th>      <td>   0.318</td> \n",
              "</tr>\n",
              "<tr>\n",
              "  <th>Model:</th>                   <td>OLS</td>       <th>  Adj. R-squared (uncentered):</th> <td>   0.318</td> \n",
              "</tr>\n",
              "<tr>\n",
              "  <th>Method:</th>             <td>Least Squares</td>  <th>  F-statistic:       </th>          <td>   2331.</td> \n",
              "</tr>\n",
              "<tr>\n",
              "  <th>Date:</th>             <td>Fri, 03 May 2024</td> <th>  Prob (F-statistic):</th>           <td>  0.00</td>  \n",
              "</tr>\n",
              "<tr>\n",
              "  <th>Time:</th>                 <td>15:44:53</td>     <th>  Log-Likelihood:    </th>          <td> -14096.</td> \n",
              "</tr>\n",
              "<tr>\n",
              "  <th>No. Observations:</th>      <td> 10000</td>      <th>  AIC:               </th>          <td>2.820e+04</td>\n",
              "</tr>\n",
              "<tr>\n",
              "  <th>Df Residuals:</th>          <td>  9998</td>      <th>  BIC:               </th>          <td>2.821e+04</td>\n",
              "</tr>\n",
              "<tr>\n",
              "  <th>Df Model:</th>              <td>     2</td>      <th>                     </th>              <td> </td>    \n",
              "</tr>\n",
              "<tr>\n",
              "  <th>Covariance Type:</th>      <td>nonrobust</td>    <th>                     </th>              <td> </td>    \n",
              "</tr>\n",
              "</table>\n",
              "<table class=\"simpletable\">\n",
              "<tr>\n",
              "   <td></td>     <th>coef</th>     <th>std err</th>      <th>t</th>      <th>P>|t|</th>  <th>[0.025</th>    <th>0.975]</th>  \n",
              "</tr>\n",
              "<tr>\n",
              "  <th>x1</th> <td>    0.4266</td> <td>    0.010</td> <td>   43.099</td> <td> 0.000</td> <td>    0.407</td> <td>    0.446</td>\n",
              "</tr>\n",
              "<tr>\n",
              "  <th>x2</th> <td>    0.3134</td> <td>    0.011</td> <td>   28.467</td> <td> 0.000</td> <td>    0.292</td> <td>    0.335</td>\n",
              "</tr>\n",
              "</table>\n",
              "<table class=\"simpletable\">\n",
              "<tr>\n",
              "  <th>Omnibus:</th>       <td> 3.320</td> <th>  Durbin-Watson:     </th> <td>   1.995</td>\n",
              "</tr>\n",
              "<tr>\n",
              "  <th>Prob(Omnibus):</th> <td> 0.190</td> <th>  Jarque-Bera (JB):  </th> <td>   3.163</td>\n",
              "</tr>\n",
              "<tr>\n",
              "  <th>Skew:</th>          <td> 0.007</td> <th>  Prob(JB):          </th> <td>   0.206</td>\n",
              "</tr>\n",
              "<tr>\n",
              "  <th>Kurtosis:</th>      <td> 2.914</td> <th>  Cond. No.          </th> <td>    1.63</td>\n",
              "</tr>\n",
              "</table><br/><br/>Notes:<br/>[1] R² is computed without centering (uncentered) since the model does not contain a constant.<br/>[2] Standard Errors assume that the covariance matrix of the errors is correctly specified."
            ],
            "text/latex": "\\begin{center}\n\\begin{tabular}{lclc}\n\\toprule\n\\textbf{Dep. Variable:}    &        y         & \\textbf{  R-squared (uncentered):}      &     0.318   \\\\\n\\textbf{Model:}            &       OLS        & \\textbf{  Adj. R-squared (uncentered):} &     0.318   \\\\\n\\textbf{Method:}           &  Least Squares   & \\textbf{  F-statistic:       }          &     2331.   \\\\\n\\textbf{Date:}             & Fri, 03 May 2024 & \\textbf{  Prob (F-statistic):}          &     0.00    \\\\\n\\textbf{Time:}             &     15:44:53     & \\textbf{  Log-Likelihood:    }          &   -14096.   \\\\\n\\textbf{No. Observations:} &       10000      & \\textbf{  AIC:               }          & 2.820e+04   \\\\\n\\textbf{Df Residuals:}     &        9998      & \\textbf{  BIC:               }          & 2.821e+04   \\\\\n\\textbf{Df Model:}         &           2      & \\textbf{                     }          &             \\\\\n\\textbf{Covariance Type:}  &    nonrobust     & \\textbf{                     }          &             \\\\\n\\bottomrule\n\\end{tabular}\n\\begin{tabular}{lcccccc}\n            & \\textbf{coef} & \\textbf{std err} & \\textbf{t} & \\textbf{P$> |$t$|$} & \\textbf{[0.025} & \\textbf{0.975]}  \\\\\n\\midrule\n\\textbf{x1} &       0.4266  &        0.010     &    43.099  &         0.000        &        0.407    &        0.446     \\\\\n\\textbf{x2} &       0.3134  &        0.011     &    28.467  &         0.000        &        0.292    &        0.335     \\\\\n\\bottomrule\n\\end{tabular}\n\\begin{tabular}{lclc}\n\\textbf{Omnibus:}       &  3.320 & \\textbf{  Durbin-Watson:     } &    1.995  \\\\\n\\textbf{Prob(Omnibus):} &  0.190 & \\textbf{  Jarque-Bera (JB):  } &    3.163  \\\\\n\\textbf{Skew:}          &  0.007 & \\textbf{  Prob(JB):          } &    0.206  \\\\\n\\textbf{Kurtosis:}      &  2.914 & \\textbf{  Cond. No.          } &     1.63  \\\\\n\\bottomrule\n\\end{tabular}\n%\\caption{OLS Regression Results}\n\\end{center}\n\nNotes: \\newline\n [1] R² is computed without centering (uncentered) since the model does not contain a constant. \\newline\n [2] Standard Errors assume that the covariance matrix of the errors is correctly specified."
          },
          "metadata": {},
          "execution_count": 9
        }
      ],
      "source": [
        "l1 = OLS(Y, np.vstack([X, Z]).T).fit()\n",
        "l1.summary()"
      ]
    },
    {
      "cell_type": "code",
      "execution_count": 10,
      "metadata": {
        "id": "SLHORBudbZ0k",
        "outputId": "d21a63db-00d6-4031-8b10-e4c71f735046",
        "colab": {
          "base_uri": "https://localhost:8080/",
          "height": 456
        }
      },
      "outputs": [
        {
          "output_type": "execute_result",
          "data": {
            "text/plain": [
              "<class 'statsmodels.iolib.summary.Summary'>\n",
              "\"\"\"\n",
              "                                 OLS Regression Results                                \n",
              "=======================================================================================\n",
              "Dep. Variable:                      y   R-squared (uncentered):                   0.191\n",
              "Model:                            OLS   Adj. R-squared (uncentered):              0.191\n",
              "Method:                 Least Squares   F-statistic:                              2366.\n",
              "Date:                Fri, 03 May 2024   Prob (F-statistic):                        0.00\n",
              "Time:                        15:44:53   Log-Likelihood:                         -14948.\n",
              "No. Observations:               10000   AIC:                                  2.990e+04\n",
              "Df Residuals:                    9999   BIC:                                  2.991e+04\n",
              "Df Model:                           1                                                  \n",
              "Covariance Type:            nonrobust                                                  \n",
              "==============================================================================\n",
              "                 coef    std err          t      P>|t|      [0.025      0.975]\n",
              "------------------------------------------------------------------------------\n",
              "x1             0.5230      0.011     48.641      0.000       0.502       0.544\n",
              "==============================================================================\n",
              "Omnibus:                       12.818   Durbin-Watson:                   1.999\n",
              "Prob(Omnibus):                  0.002   Jarque-Bera (JB):               11.305\n",
              "Skew:                           0.029   Prob(JB):                      0.00351\n",
              "Kurtosis:                       2.846   Cond. No.                         1.00\n",
              "==============================================================================\n",
              "\n",
              "Notes:\n",
              "[1] R² is computed without centering (uncentered) since the model does not contain a constant.\n",
              "[2] Standard Errors assume that the covariance matrix of the errors is correctly specified.\n",
              "\"\"\""
            ],
            "text/html": [
              "<table class=\"simpletable\">\n",
              "<caption>OLS Regression Results</caption>\n",
              "<tr>\n",
              "  <th>Dep. Variable:</th>            <td>y</td>        <th>  R-squared (uncentered):</th>      <td>   0.191</td> \n",
              "</tr>\n",
              "<tr>\n",
              "  <th>Model:</th>                   <td>OLS</td>       <th>  Adj. R-squared (uncentered):</th> <td>   0.191</td> \n",
              "</tr>\n",
              "<tr>\n",
              "  <th>Method:</th>             <td>Least Squares</td>  <th>  F-statistic:       </th>          <td>   2366.</td> \n",
              "</tr>\n",
              "<tr>\n",
              "  <th>Date:</th>             <td>Fri, 03 May 2024</td> <th>  Prob (F-statistic):</th>           <td>  0.00</td>  \n",
              "</tr>\n",
              "<tr>\n",
              "  <th>Time:</th>                 <td>15:44:53</td>     <th>  Log-Likelihood:    </th>          <td> -14948.</td> \n",
              "</tr>\n",
              "<tr>\n",
              "  <th>No. Observations:</th>      <td> 10000</td>      <th>  AIC:               </th>          <td>2.990e+04</td>\n",
              "</tr>\n",
              "<tr>\n",
              "  <th>Df Residuals:</th>          <td>  9999</td>      <th>  BIC:               </th>          <td>2.991e+04</td>\n",
              "</tr>\n",
              "<tr>\n",
              "  <th>Df Model:</th>              <td>     1</td>      <th>                     </th>              <td> </td>    \n",
              "</tr>\n",
              "<tr>\n",
              "  <th>Covariance Type:</th>      <td>nonrobust</td>    <th>                     </th>              <td> </td>    \n",
              "</tr>\n",
              "</table>\n",
              "<table class=\"simpletable\">\n",
              "<tr>\n",
              "   <td></td>     <th>coef</th>     <th>std err</th>      <th>t</th>      <th>P>|t|</th>  <th>[0.025</th>    <th>0.975]</th>  \n",
              "</tr>\n",
              "<tr>\n",
              "  <th>x1</th> <td>    0.5230</td> <td>    0.011</td> <td>   48.641</td> <td> 0.000</td> <td>    0.502</td> <td>    0.544</td>\n",
              "</tr>\n",
              "</table>\n",
              "<table class=\"simpletable\">\n",
              "<tr>\n",
              "  <th>Omnibus:</th>       <td>12.818</td> <th>  Durbin-Watson:     </th> <td>   1.999</td>\n",
              "</tr>\n",
              "<tr>\n",
              "  <th>Prob(Omnibus):</th> <td> 0.002</td> <th>  Jarque-Bera (JB):  </th> <td>  11.305</td>\n",
              "</tr>\n",
              "<tr>\n",
              "  <th>Skew:</th>          <td> 0.029</td> <th>  Prob(JB):          </th> <td> 0.00351</td>\n",
              "</tr>\n",
              "<tr>\n",
              "  <th>Kurtosis:</th>      <td> 2.846</td> <th>  Cond. No.          </th> <td>    1.00</td>\n",
              "</tr>\n",
              "</table><br/><br/>Notes:<br/>[1] R² is computed without centering (uncentered) since the model does not contain a constant.<br/>[2] Standard Errors assume that the covariance matrix of the errors is correctly specified."
            ],
            "text/latex": "\\begin{center}\n\\begin{tabular}{lclc}\n\\toprule\n\\textbf{Dep. Variable:}    &        y         & \\textbf{  R-squared (uncentered):}      &     0.191   \\\\\n\\textbf{Model:}            &       OLS        & \\textbf{  Adj. R-squared (uncentered):} &     0.191   \\\\\n\\textbf{Method:}           &  Least Squares   & \\textbf{  F-statistic:       }          &     2366.   \\\\\n\\textbf{Date:}             & Fri, 03 May 2024 & \\textbf{  Prob (F-statistic):}          &     0.00    \\\\\n\\textbf{Time:}             &     15:44:53     & \\textbf{  Log-Likelihood:    }          &   -14948.   \\\\\n\\textbf{No. Observations:} &       10000      & \\textbf{  AIC:               }          & 2.990e+04   \\\\\n\\textbf{Df Residuals:}     &        9999      & \\textbf{  BIC:               }          & 2.991e+04   \\\\\n\\textbf{Df Model:}         &           1      & \\textbf{                     }          &             \\\\\n\\textbf{Covariance Type:}  &    nonrobust     & \\textbf{                     }          &             \\\\\n\\bottomrule\n\\end{tabular}\n\\begin{tabular}{lcccccc}\n            & \\textbf{coef} & \\textbf{std err} & \\textbf{t} & \\textbf{P$> |$t$|$} & \\textbf{[0.025} & \\textbf{0.975]}  \\\\\n\\midrule\n\\textbf{x1} &       0.5230  &        0.011     &    48.641  &         0.000        &        0.502    &        0.544     \\\\\n\\bottomrule\n\\end{tabular}\n\\begin{tabular}{lclc}\n\\textbf{Omnibus:}       & 12.818 & \\textbf{  Durbin-Watson:     } &    1.999  \\\\\n\\textbf{Prob(Omnibus):} &  0.002 & \\textbf{  Jarque-Bera (JB):  } &   11.305  \\\\\n\\textbf{Skew:}          &  0.029 & \\textbf{  Prob(JB):          } &  0.00351  \\\\\n\\textbf{Kurtosis:}      &  2.846 & \\textbf{  Cond. No.          } &     1.00  \\\\\n\\bottomrule\n\\end{tabular}\n%\\caption{OLS Regression Results}\n\\end{center}\n\nNotes: \\newline\n [1] R² is computed without centering (uncentered) since the model does not contain a constant. \\newline\n [2] Standard Errors assume that the covariance matrix of the errors is correctly specified."
          },
          "metadata": {},
          "execution_count": 10
        }
      ],
      "source": [
        "l1 = OLS(Y, np.vstack([Z]).T).fit()\n",
        "l1.summary()"
      ]
    },
    {
      "cell_type": "markdown",
      "metadata": {
        "id": "M2wXCyqJbZ0l"
      },
      "source": [
        "### Collider\n",
        "\n",
        "Рассмотрим collider:\n",
        "```\n",
        "X -> Z\n",
        "X -> Y\n",
        "Y -> Z\n",
        "```"
      ]
    },
    {
      "cell_type": "markdown",
      "metadata": {
        "id": "Y1gSM73SbZ0l"
      },
      "source": [
        "![title](https://github.com/Intelligent-Systems-Phystech/psad/blob/master/seminars/sem11/data/collider.png?raw=1)"
      ]
    },
    {
      "cell_type": "code",
      "execution_count": 11,
      "metadata": {
        "id": "X3upo2yCbZ0m"
      },
      "outputs": [],
      "source": [
        "X = rs.randn(N)\n",
        "Y = 0.7 * X + rs.randn(N)\n",
        "Z = 1.2 * X + 0.6 * Y + rs.randn(N)"
      ]
    },
    {
      "cell_type": "code",
      "execution_count": 12,
      "metadata": {
        "id": "3zpirLf5bZ0m",
        "outputId": "7c675fb9-b30b-41f1-b439-6d2823170b26",
        "colab": {
          "base_uri": "https://localhost:8080/",
          "height": 456
        }
      },
      "outputs": [
        {
          "output_type": "execute_result",
          "data": {
            "text/plain": [
              "<class 'statsmodels.iolib.summary.Summary'>\n",
              "\"\"\"\n",
              "                                 OLS Regression Results                                \n",
              "=======================================================================================\n",
              "Dep. Variable:                      y   R-squared (uncentered):                   0.336\n",
              "Model:                            OLS   Adj. R-squared (uncentered):              0.336\n",
              "Method:                 Least Squares   F-statistic:                              5053.\n",
              "Date:                Fri, 03 May 2024   Prob (F-statistic):                        0.00\n",
              "Time:                        15:44:55   Log-Likelihood:                         -14193.\n",
              "No. Observations:               10000   AIC:                                  2.839e+04\n",
              "Df Residuals:                    9999   BIC:                                  2.839e+04\n",
              "Df Model:                           1                                                  \n",
              "Covariance Type:            nonrobust                                                  \n",
              "==============================================================================\n",
              "                 coef    std err          t      P>|t|      [0.025      0.975]\n",
              "------------------------------------------------------------------------------\n",
              "x1             0.7079      0.010     71.083      0.000       0.688       0.727\n",
              "==============================================================================\n",
              "Omnibus:                        3.522   Durbin-Watson:                   1.985\n",
              "Prob(Omnibus):                  0.172   Jarque-Bera (JB):                3.548\n",
              "Skew:                          -0.045   Prob(JB):                        0.170\n",
              "Kurtosis:                       2.978   Cond. No.                         1.00\n",
              "==============================================================================\n",
              "\n",
              "Notes:\n",
              "[1] R² is computed without centering (uncentered) since the model does not contain a constant.\n",
              "[2] Standard Errors assume that the covariance matrix of the errors is correctly specified.\n",
              "\"\"\""
            ],
            "text/html": [
              "<table class=\"simpletable\">\n",
              "<caption>OLS Regression Results</caption>\n",
              "<tr>\n",
              "  <th>Dep. Variable:</th>            <td>y</td>        <th>  R-squared (uncentered):</th>      <td>   0.336</td> \n",
              "</tr>\n",
              "<tr>\n",
              "  <th>Model:</th>                   <td>OLS</td>       <th>  Adj. R-squared (uncentered):</th> <td>   0.336</td> \n",
              "</tr>\n",
              "<tr>\n",
              "  <th>Method:</th>             <td>Least Squares</td>  <th>  F-statistic:       </th>          <td>   5053.</td> \n",
              "</tr>\n",
              "<tr>\n",
              "  <th>Date:</th>             <td>Fri, 03 May 2024</td> <th>  Prob (F-statistic):</th>           <td>  0.00</td>  \n",
              "</tr>\n",
              "<tr>\n",
              "  <th>Time:</th>                 <td>15:44:55</td>     <th>  Log-Likelihood:    </th>          <td> -14193.</td> \n",
              "</tr>\n",
              "<tr>\n",
              "  <th>No. Observations:</th>      <td> 10000</td>      <th>  AIC:               </th>          <td>2.839e+04</td>\n",
              "</tr>\n",
              "<tr>\n",
              "  <th>Df Residuals:</th>          <td>  9999</td>      <th>  BIC:               </th>          <td>2.839e+04</td>\n",
              "</tr>\n",
              "<tr>\n",
              "  <th>Df Model:</th>              <td>     1</td>      <th>                     </th>              <td> </td>    \n",
              "</tr>\n",
              "<tr>\n",
              "  <th>Covariance Type:</th>      <td>nonrobust</td>    <th>                     </th>              <td> </td>    \n",
              "</tr>\n",
              "</table>\n",
              "<table class=\"simpletable\">\n",
              "<tr>\n",
              "   <td></td>     <th>coef</th>     <th>std err</th>      <th>t</th>      <th>P>|t|</th>  <th>[0.025</th>    <th>0.975]</th>  \n",
              "</tr>\n",
              "<tr>\n",
              "  <th>x1</th> <td>    0.7079</td> <td>    0.010</td> <td>   71.083</td> <td> 0.000</td> <td>    0.688</td> <td>    0.727</td>\n",
              "</tr>\n",
              "</table>\n",
              "<table class=\"simpletable\">\n",
              "<tr>\n",
              "  <th>Omnibus:</th>       <td> 3.522</td> <th>  Durbin-Watson:     </th> <td>   1.985</td>\n",
              "</tr>\n",
              "<tr>\n",
              "  <th>Prob(Omnibus):</th> <td> 0.172</td> <th>  Jarque-Bera (JB):  </th> <td>   3.548</td>\n",
              "</tr>\n",
              "<tr>\n",
              "  <th>Skew:</th>          <td>-0.045</td> <th>  Prob(JB):          </th> <td>   0.170</td>\n",
              "</tr>\n",
              "<tr>\n",
              "  <th>Kurtosis:</th>      <td> 2.978</td> <th>  Cond. No.          </th> <td>    1.00</td>\n",
              "</tr>\n",
              "</table><br/><br/>Notes:<br/>[1] R² is computed without centering (uncentered) since the model does not contain a constant.<br/>[2] Standard Errors assume that the covariance matrix of the errors is correctly specified."
            ],
            "text/latex": "\\begin{center}\n\\begin{tabular}{lclc}\n\\toprule\n\\textbf{Dep. Variable:}    &        y         & \\textbf{  R-squared (uncentered):}      &     0.336   \\\\\n\\textbf{Model:}            &       OLS        & \\textbf{  Adj. R-squared (uncentered):} &     0.336   \\\\\n\\textbf{Method:}           &  Least Squares   & \\textbf{  F-statistic:       }          &     5053.   \\\\\n\\textbf{Date:}             & Fri, 03 May 2024 & \\textbf{  Prob (F-statistic):}          &     0.00    \\\\\n\\textbf{Time:}             &     15:44:55     & \\textbf{  Log-Likelihood:    }          &   -14193.   \\\\\n\\textbf{No. Observations:} &       10000      & \\textbf{  AIC:               }          & 2.839e+04   \\\\\n\\textbf{Df Residuals:}     &        9999      & \\textbf{  BIC:               }          & 2.839e+04   \\\\\n\\textbf{Df Model:}         &           1      & \\textbf{                     }          &             \\\\\n\\textbf{Covariance Type:}  &    nonrobust     & \\textbf{                     }          &             \\\\\n\\bottomrule\n\\end{tabular}\n\\begin{tabular}{lcccccc}\n            & \\textbf{coef} & \\textbf{std err} & \\textbf{t} & \\textbf{P$> |$t$|$} & \\textbf{[0.025} & \\textbf{0.975]}  \\\\\n\\midrule\n\\textbf{x1} &       0.7079  &        0.010     &    71.083  &         0.000        &        0.688    &        0.727     \\\\\n\\bottomrule\n\\end{tabular}\n\\begin{tabular}{lclc}\n\\textbf{Omnibus:}       &  3.522 & \\textbf{  Durbin-Watson:     } &    1.985  \\\\\n\\textbf{Prob(Omnibus):} &  0.172 & \\textbf{  Jarque-Bera (JB):  } &    3.548  \\\\\n\\textbf{Skew:}          & -0.045 & \\textbf{  Prob(JB):          } &    0.170  \\\\\n\\textbf{Kurtosis:}      &  2.978 & \\textbf{  Cond. No.          } &     1.00  \\\\\n\\bottomrule\n\\end{tabular}\n%\\caption{OLS Regression Results}\n\\end{center}\n\nNotes: \\newline\n [1] R² is computed without centering (uncentered) since the model does not contain a constant. \\newline\n [2] Standard Errors assume that the covariance matrix of the errors is correctly specified."
          },
          "metadata": {},
          "execution_count": 12
        }
      ],
      "source": [
        "l1 = OLS(Y, np.vstack([X]).T).fit()\n",
        "l1.summary()"
      ]
    },
    {
      "cell_type": "code",
      "execution_count": 13,
      "metadata": {
        "id": "YXloR62VbZ0n",
        "outputId": "f6ce5439-a562-4930-ebdf-c64c88343397",
        "colab": {
          "base_uri": "https://localhost:8080/",
          "height": 477
        }
      },
      "outputs": [
        {
          "output_type": "execute_result",
          "data": {
            "text/plain": [
              "<class 'statsmodels.iolib.summary.Summary'>\n",
              "\"\"\"\n",
              "                                 OLS Regression Results                                \n",
              "=======================================================================================\n",
              "Dep. Variable:                      y   R-squared (uncentered):                   0.504\n",
              "Model:                            OLS   Adj. R-squared (uncentered):              0.504\n",
              "Method:                 Least Squares   F-statistic:                              5084.\n",
              "Date:                Fri, 03 May 2024   Prob (F-statistic):                        0.00\n",
              "Time:                        15:44:55   Log-Likelihood:                         -12730.\n",
              "No. Observations:               10000   AIC:                                  2.546e+04\n",
              "Df Residuals:                    9998   BIC:                                  2.548e+04\n",
              "Df Model:                           2                                                  \n",
              "Covariance Type:            nonrobust                                                  \n",
              "==============================================================================\n",
              "                 coef    std err          t      P>|t|      [0.025      0.975]\n",
              "------------------------------------------------------------------------------\n",
              "x1             0.0107      0.015      0.725      0.468      -0.018       0.040\n",
              "x2             0.4311      0.007     58.298      0.000       0.417       0.446\n",
              "==============================================================================\n",
              "Omnibus:                        0.285   Durbin-Watson:                   2.008\n",
              "Prob(Omnibus):                  0.867   Jarque-Bera (JB):                0.269\n",
              "Skew:                          -0.012   Prob(JB):                        0.874\n",
              "Kurtosis:                       3.010   Cond. No.                         4.02\n",
              "==============================================================================\n",
              "\n",
              "Notes:\n",
              "[1] R² is computed without centering (uncentered) since the model does not contain a constant.\n",
              "[2] Standard Errors assume that the covariance matrix of the errors is correctly specified.\n",
              "\"\"\""
            ],
            "text/html": [
              "<table class=\"simpletable\">\n",
              "<caption>OLS Regression Results</caption>\n",
              "<tr>\n",
              "  <th>Dep. Variable:</th>            <td>y</td>        <th>  R-squared (uncentered):</th>      <td>   0.504</td> \n",
              "</tr>\n",
              "<tr>\n",
              "  <th>Model:</th>                   <td>OLS</td>       <th>  Adj. R-squared (uncentered):</th> <td>   0.504</td> \n",
              "</tr>\n",
              "<tr>\n",
              "  <th>Method:</th>             <td>Least Squares</td>  <th>  F-statistic:       </th>          <td>   5084.</td> \n",
              "</tr>\n",
              "<tr>\n",
              "  <th>Date:</th>             <td>Fri, 03 May 2024</td> <th>  Prob (F-statistic):</th>           <td>  0.00</td>  \n",
              "</tr>\n",
              "<tr>\n",
              "  <th>Time:</th>                 <td>15:44:55</td>     <th>  Log-Likelihood:    </th>          <td> -12730.</td> \n",
              "</tr>\n",
              "<tr>\n",
              "  <th>No. Observations:</th>      <td> 10000</td>      <th>  AIC:               </th>          <td>2.546e+04</td>\n",
              "</tr>\n",
              "<tr>\n",
              "  <th>Df Residuals:</th>          <td>  9998</td>      <th>  BIC:               </th>          <td>2.548e+04</td>\n",
              "</tr>\n",
              "<tr>\n",
              "  <th>Df Model:</th>              <td>     2</td>      <th>                     </th>              <td> </td>    \n",
              "</tr>\n",
              "<tr>\n",
              "  <th>Covariance Type:</th>      <td>nonrobust</td>    <th>                     </th>              <td> </td>    \n",
              "</tr>\n",
              "</table>\n",
              "<table class=\"simpletable\">\n",
              "<tr>\n",
              "   <td></td>     <th>coef</th>     <th>std err</th>      <th>t</th>      <th>P>|t|</th>  <th>[0.025</th>    <th>0.975]</th>  \n",
              "</tr>\n",
              "<tr>\n",
              "  <th>x1</th> <td>    0.0107</td> <td>    0.015</td> <td>    0.725</td> <td> 0.468</td> <td>   -0.018</td> <td>    0.040</td>\n",
              "</tr>\n",
              "<tr>\n",
              "  <th>x2</th> <td>    0.4311</td> <td>    0.007</td> <td>   58.298</td> <td> 0.000</td> <td>    0.417</td> <td>    0.446</td>\n",
              "</tr>\n",
              "</table>\n",
              "<table class=\"simpletable\">\n",
              "<tr>\n",
              "  <th>Omnibus:</th>       <td> 0.285</td> <th>  Durbin-Watson:     </th> <td>   2.008</td>\n",
              "</tr>\n",
              "<tr>\n",
              "  <th>Prob(Omnibus):</th> <td> 0.867</td> <th>  Jarque-Bera (JB):  </th> <td>   0.269</td>\n",
              "</tr>\n",
              "<tr>\n",
              "  <th>Skew:</th>          <td>-0.012</td> <th>  Prob(JB):          </th> <td>   0.874</td>\n",
              "</tr>\n",
              "<tr>\n",
              "  <th>Kurtosis:</th>      <td> 3.010</td> <th>  Cond. No.          </th> <td>    4.02</td>\n",
              "</tr>\n",
              "</table><br/><br/>Notes:<br/>[1] R² is computed without centering (uncentered) since the model does not contain a constant.<br/>[2] Standard Errors assume that the covariance matrix of the errors is correctly specified."
            ],
            "text/latex": "\\begin{center}\n\\begin{tabular}{lclc}\n\\toprule\n\\textbf{Dep. Variable:}    &        y         & \\textbf{  R-squared (uncentered):}      &     0.504   \\\\\n\\textbf{Model:}            &       OLS        & \\textbf{  Adj. R-squared (uncentered):} &     0.504   \\\\\n\\textbf{Method:}           &  Least Squares   & \\textbf{  F-statistic:       }          &     5084.   \\\\\n\\textbf{Date:}             & Fri, 03 May 2024 & \\textbf{  Prob (F-statistic):}          &     0.00    \\\\\n\\textbf{Time:}             &     15:44:55     & \\textbf{  Log-Likelihood:    }          &   -12730.   \\\\\n\\textbf{No. Observations:} &       10000      & \\textbf{  AIC:               }          & 2.546e+04   \\\\\n\\textbf{Df Residuals:}     &        9998      & \\textbf{  BIC:               }          & 2.548e+04   \\\\\n\\textbf{Df Model:}         &           2      & \\textbf{                     }          &             \\\\\n\\textbf{Covariance Type:}  &    nonrobust     & \\textbf{                     }          &             \\\\\n\\bottomrule\n\\end{tabular}\n\\begin{tabular}{lcccccc}\n            & \\textbf{coef} & \\textbf{std err} & \\textbf{t} & \\textbf{P$> |$t$|$} & \\textbf{[0.025} & \\textbf{0.975]}  \\\\\n\\midrule\n\\textbf{x1} &       0.0107  &        0.015     &     0.725  &         0.468        &       -0.018    &        0.040     \\\\\n\\textbf{x2} &       0.4311  &        0.007     &    58.298  &         0.000        &        0.417    &        0.446     \\\\\n\\bottomrule\n\\end{tabular}\n\\begin{tabular}{lclc}\n\\textbf{Omnibus:}       &  0.285 & \\textbf{  Durbin-Watson:     } &    2.008  \\\\\n\\textbf{Prob(Omnibus):} &  0.867 & \\textbf{  Jarque-Bera (JB):  } &    0.269  \\\\\n\\textbf{Skew:}          & -0.012 & \\textbf{  Prob(JB):          } &    0.874  \\\\\n\\textbf{Kurtosis:}      &  3.010 & \\textbf{  Cond. No.          } &     4.02  \\\\\n\\bottomrule\n\\end{tabular}\n%\\caption{OLS Regression Results}\n\\end{center}\n\nNotes: \\newline\n [1] R² is computed without centering (uncentered) since the model does not contain a constant. \\newline\n [2] Standard Errors assume that the covariance matrix of the errors is correctly specified."
          },
          "metadata": {},
          "execution_count": 13
        }
      ],
      "source": [
        "l1 = OLS(Y, np.vstack([X, Z]).T).fit()\n",
        "l1.summary()"
      ]
    },
    {
      "cell_type": "code",
      "execution_count": 14,
      "metadata": {
        "id": "UNZZoR1zbZ0o",
        "outputId": "ffad3ee7-bbfe-4e8b-b54f-25c686af9bf2",
        "colab": {
          "base_uri": "https://localhost:8080/",
          "height": 456
        }
      },
      "outputs": [
        {
          "output_type": "execute_result",
          "data": {
            "text/plain": [
              "<class 'statsmodels.iolib.summary.Summary'>\n",
              "\"\"\"\n",
              "                                 OLS Regression Results                                \n",
              "=======================================================================================\n",
              "Dep. Variable:                      y   R-squared (uncentered):                   0.504\n",
              "Model:                            OLS   Adj. R-squared (uncentered):              0.504\n",
              "Method:                 Least Squares   F-statistic:                          1.017e+04\n",
              "Date:                Fri, 03 May 2024   Prob (F-statistic):                        0.00\n",
              "Time:                        15:44:55   Log-Likelihood:                         -12730.\n",
              "No. Observations:               10000   AIC:                                  2.546e+04\n",
              "Df Residuals:                    9999   BIC:                                  2.547e+04\n",
              "Df Model:                           1                                                  \n",
              "Covariance Type:            nonrobust                                                  \n",
              "==============================================================================\n",
              "                 coef    std err          t      P>|t|      [0.025      0.975]\n",
              "------------------------------------------------------------------------------\n",
              "x1             0.4355      0.004    100.838      0.000       0.427       0.444\n",
              "==============================================================================\n",
              "Omnibus:                        0.272   Durbin-Watson:                   2.008\n",
              "Prob(Omnibus):                  0.873   Jarque-Bera (JB):                0.256\n",
              "Skew:                          -0.011   Prob(JB):                        0.880\n",
              "Kurtosis:                       3.010   Cond. No.                         1.00\n",
              "==============================================================================\n",
              "\n",
              "Notes:\n",
              "[1] R² is computed without centering (uncentered) since the model does not contain a constant.\n",
              "[2] Standard Errors assume that the covariance matrix of the errors is correctly specified.\n",
              "\"\"\""
            ],
            "text/html": [
              "<table class=\"simpletable\">\n",
              "<caption>OLS Regression Results</caption>\n",
              "<tr>\n",
              "  <th>Dep. Variable:</th>            <td>y</td>        <th>  R-squared (uncentered):</th>      <td>   0.504</td> \n",
              "</tr>\n",
              "<tr>\n",
              "  <th>Model:</th>                   <td>OLS</td>       <th>  Adj. R-squared (uncentered):</th> <td>   0.504</td> \n",
              "</tr>\n",
              "<tr>\n",
              "  <th>Method:</th>             <td>Least Squares</td>  <th>  F-statistic:       </th>          <td>1.017e+04</td>\n",
              "</tr>\n",
              "<tr>\n",
              "  <th>Date:</th>             <td>Fri, 03 May 2024</td> <th>  Prob (F-statistic):</th>           <td>  0.00</td>  \n",
              "</tr>\n",
              "<tr>\n",
              "  <th>Time:</th>                 <td>15:44:55</td>     <th>  Log-Likelihood:    </th>          <td> -12730.</td> \n",
              "</tr>\n",
              "<tr>\n",
              "  <th>No. Observations:</th>      <td> 10000</td>      <th>  AIC:               </th>          <td>2.546e+04</td>\n",
              "</tr>\n",
              "<tr>\n",
              "  <th>Df Residuals:</th>          <td>  9999</td>      <th>  BIC:               </th>          <td>2.547e+04</td>\n",
              "</tr>\n",
              "<tr>\n",
              "  <th>Df Model:</th>              <td>     1</td>      <th>                     </th>              <td> </td>    \n",
              "</tr>\n",
              "<tr>\n",
              "  <th>Covariance Type:</th>      <td>nonrobust</td>    <th>                     </th>              <td> </td>    \n",
              "</tr>\n",
              "</table>\n",
              "<table class=\"simpletable\">\n",
              "<tr>\n",
              "   <td></td>     <th>coef</th>     <th>std err</th>      <th>t</th>      <th>P>|t|</th>  <th>[0.025</th>    <th>0.975]</th>  \n",
              "</tr>\n",
              "<tr>\n",
              "  <th>x1</th> <td>    0.4355</td> <td>    0.004</td> <td>  100.838</td> <td> 0.000</td> <td>    0.427</td> <td>    0.444</td>\n",
              "</tr>\n",
              "</table>\n",
              "<table class=\"simpletable\">\n",
              "<tr>\n",
              "  <th>Omnibus:</th>       <td> 0.272</td> <th>  Durbin-Watson:     </th> <td>   2.008</td>\n",
              "</tr>\n",
              "<tr>\n",
              "  <th>Prob(Omnibus):</th> <td> 0.873</td> <th>  Jarque-Bera (JB):  </th> <td>   0.256</td>\n",
              "</tr>\n",
              "<tr>\n",
              "  <th>Skew:</th>          <td>-0.011</td> <th>  Prob(JB):          </th> <td>   0.880</td>\n",
              "</tr>\n",
              "<tr>\n",
              "  <th>Kurtosis:</th>      <td> 3.010</td> <th>  Cond. No.          </th> <td>    1.00</td>\n",
              "</tr>\n",
              "</table><br/><br/>Notes:<br/>[1] R² is computed without centering (uncentered) since the model does not contain a constant.<br/>[2] Standard Errors assume that the covariance matrix of the errors is correctly specified."
            ],
            "text/latex": "\\begin{center}\n\\begin{tabular}{lclc}\n\\toprule\n\\textbf{Dep. Variable:}    &        y         & \\textbf{  R-squared (uncentered):}      &     0.504   \\\\\n\\textbf{Model:}            &       OLS        & \\textbf{  Adj. R-squared (uncentered):} &     0.504   \\\\\n\\textbf{Method:}           &  Least Squares   & \\textbf{  F-statistic:       }          & 1.017e+04   \\\\\n\\textbf{Date:}             & Fri, 03 May 2024 & \\textbf{  Prob (F-statistic):}          &     0.00    \\\\\n\\textbf{Time:}             &     15:44:55     & \\textbf{  Log-Likelihood:    }          &   -12730.   \\\\\n\\textbf{No. Observations:} &       10000      & \\textbf{  AIC:               }          & 2.546e+04   \\\\\n\\textbf{Df Residuals:}     &        9999      & \\textbf{  BIC:               }          & 2.547e+04   \\\\\n\\textbf{Df Model:}         &           1      & \\textbf{                     }          &             \\\\\n\\textbf{Covariance Type:}  &    nonrobust     & \\textbf{                     }          &             \\\\\n\\bottomrule\n\\end{tabular}\n\\begin{tabular}{lcccccc}\n            & \\textbf{coef} & \\textbf{std err} & \\textbf{t} & \\textbf{P$> |$t$|$} & \\textbf{[0.025} & \\textbf{0.975]}  \\\\\n\\midrule\n\\textbf{x1} &       0.4355  &        0.004     &   100.838  &         0.000        &        0.427    &        0.444     \\\\\n\\bottomrule\n\\end{tabular}\n\\begin{tabular}{lclc}\n\\textbf{Omnibus:}       &  0.272 & \\textbf{  Durbin-Watson:     } &    2.008  \\\\\n\\textbf{Prob(Omnibus):} &  0.873 & \\textbf{  Jarque-Bera (JB):  } &    0.256  \\\\\n\\textbf{Skew:}          & -0.011 & \\textbf{  Prob(JB):          } &    0.880  \\\\\n\\textbf{Kurtosis:}      &  3.010 & \\textbf{  Cond. No.          } &     1.00  \\\\\n\\bottomrule\n\\end{tabular}\n%\\caption{OLS Regression Results}\n\\end{center}\n\nNotes: \\newline\n [1] R² is computed without centering (uncentered) since the model does not contain a constant. \\newline\n [2] Standard Errors assume that the covariance matrix of the errors is correctly specified."
          },
          "metadata": {},
          "execution_count": 14
        }
      ],
      "source": [
        "l1 = OLS(Y, np.vstack([Z]).T).fit()\n",
        "l1.summary()"
      ]
    },
    {
      "cell_type": "markdown",
      "metadata": {
        "id": "r2XHdls4bZ0p"
      },
      "source": [
        "### DAGs (Directed Acyclic Graphs)"
      ]
    },
    {
      "cell_type": "markdown",
      "metadata": {
        "id": "SG_BKB_ebZ0p"
      },
      "source": [
        "#### Рассмотрим простой граф"
      ]
    },
    {
      "cell_type": "code",
      "execution_count": 15,
      "metadata": {
        "id": "0Ac1fxEqbZ0q",
        "outputId": "747be940-057f-4e1e-951d-8512707ecaff",
        "colab": {
          "base_uri": "https://localhost:8080/",
          "height": 388
        }
      },
      "outputs": [
        {
          "output_type": "execute_result",
          "data": {
            "image/svg+xml": "<?xml version=\"1.0\" encoding=\"UTF-8\" standalone=\"no\"?>\n<!DOCTYPE svg PUBLIC \"-//W3C//DTD SVG 1.1//EN\"\n \"http://www.w3.org/Graphics/SVG/1.1/DTD/svg11.dtd\">\n<!-- Generated by graphviz version 2.43.0 (0)\n -->\n<!-- Title: %3 Pages: 1 -->\n<svg width=\"89pt\" height=\"260pt\"\n viewBox=\"0.00 0.00 89.00 260.00\" xmlns=\"http://www.w3.org/2000/svg\" xmlns:xlink=\"http://www.w3.org/1999/xlink\">\n<g id=\"graph0\" class=\"graph\" transform=\"scale(1 1) rotate(0) translate(4 256)\">\n<title>%3</title>\n<polygon fill=\"white\" stroke=\"transparent\" points=\"-4,4 -4,-256 85,-256 85,4 -4,4\"/>\n<!-- Z -->\n<g id=\"node1\" class=\"node\">\n<title>Z</title>\n<ellipse fill=\"none\" stroke=\"black\" cx=\"27\" cy=\"-90\" rx=\"27\" ry=\"18\"/>\n<text text-anchor=\"middle\" x=\"27\" y=\"-86.3\" font-family=\"Times,serif\" font-size=\"14.00\">Z</text>\n</g>\n<!-- Y -->\n<g id=\"node4\" class=\"node\">\n<title>Y</title>\n<ellipse fill=\"none\" stroke=\"black\" cx=\"54\" cy=\"-18\" rx=\"27\" ry=\"18\"/>\n<text text-anchor=\"middle\" x=\"54\" y=\"-14.3\" font-family=\"Times,serif\" font-size=\"14.00\">Y</text>\n</g>\n<!-- Z&#45;&gt;Y -->\n<g id=\"edge3\" class=\"edge\">\n<title>Z&#45;&gt;Y</title>\n<path fill=\"none\" stroke=\"black\" d=\"M33.4,-72.41C36.51,-64.34 40.33,-54.43 43.83,-45.35\"/>\n<polygon fill=\"black\" stroke=\"black\" points=\"47.13,-46.55 47.46,-35.96 40.6,-44.03 47.13,-46.55\"/>\n</g>\n<!-- X -->\n<g id=\"node2\" class=\"node\">\n<title>X</title>\n<ellipse fill=\"none\" stroke=\"black\" cx=\"27\" cy=\"-162\" rx=\"27\" ry=\"18\"/>\n<text text-anchor=\"middle\" x=\"27\" y=\"-158.3\" font-family=\"Times,serif\" font-size=\"14.00\">X</text>\n</g>\n<!-- X&#45;&gt;Z -->\n<g id=\"edge4\" class=\"edge\">\n<title>X&#45;&gt;Z</title>\n<path fill=\"none\" stroke=\"black\" d=\"M27,-143.7C27,-135.98 27,-126.71 27,-118.11\"/>\n<polygon fill=\"black\" stroke=\"black\" points=\"30.5,-118.1 27,-108.1 23.5,-118.1 30.5,-118.1\"/>\n</g>\n<!-- U -->\n<g id=\"node3\" class=\"node\">\n<title>U</title>\n<ellipse fill=\"none\" stroke=\"black\" cx=\"54\" cy=\"-234\" rx=\"27\" ry=\"18\"/>\n<text text-anchor=\"middle\" x=\"54\" y=\"-230.3\" font-family=\"Times,serif\" font-size=\"14.00\">U</text>\n</g>\n<!-- U&#45;&gt;X -->\n<g id=\"edge2\" class=\"edge\">\n<title>U&#45;&gt;X</title>\n<path fill=\"none\" stroke=\"black\" d=\"M47.6,-216.41C44.49,-208.34 40.67,-198.43 37.17,-189.35\"/>\n<polygon fill=\"black\" stroke=\"black\" points=\"40.4,-188.03 33.54,-179.96 33.87,-190.55 40.4,-188.03\"/>\n</g>\n<!-- U&#45;&gt;Y -->\n<g id=\"edge1\" class=\"edge\">\n<title>U&#45;&gt;Y</title>\n<path fill=\"none\" stroke=\"black\" d=\"M57.65,-215.91C59.68,-205.57 61.98,-192.09 63,-180 67.03,-132.17 67.03,-119.83 63,-72 62.28,-63.5 60.93,-54.31 59.49,-46.01\"/>\n<polygon fill=\"black\" stroke=\"black\" points=\"62.91,-45.29 57.65,-36.09 56.03,-46.56 62.91,-45.29\"/>\n</g>\n</g>\n</svg>\n",
            "text/plain": [
              "<graphviz.graphs.Digraph at 0x7b074ca32740>"
            ]
          },
          "metadata": {},
          "execution_count": 15
        }
      ],
      "source": [
        "G = CausalGraphicalModel(nodes=['U', 'Z', 'X', 'Y'], edges=[\n",
        "    ('U', 'Y'),\n",
        "    ('U', 'X'),\n",
        "    ('X', 'Z'),\n",
        "    ('Z', 'Y')\n",
        "])\n",
        "G.draw()"
      ]
    },
    {
      "cell_type": "markdown",
      "metadata": {
        "id": "ZAcC7HtAbZ0q"
      },
      "source": [
        "#### Найдем все пути в графе (без циклов)"
      ]
    },
    {
      "cell_type": "code",
      "execution_count": 16,
      "metadata": {
        "id": "7EZMQONUbZ0r",
        "outputId": "a74e5baa-b67d-4585-f7b6-906556ad9eb4",
        "colab": {
          "base_uri": "https://localhost:8080/"
        }
      },
      "outputs": [
        {
          "output_type": "execute_result",
          "data": {
            "text/plain": [
              "[['X', 'Z', 'Y']]"
            ]
          },
          "metadata": {},
          "execution_count": 16
        }
      ],
      "source": [
        "list(nx.all_simple_paths(G.dag, 'X', 'Y'))"
      ]
    },
    {
      "cell_type": "markdown",
      "metadata": {
        "id": "lD4A6_9bbZ0r"
      },
      "source": [
        "#### Все пути, если считать граф не ориентированным"
      ]
    },
    {
      "cell_type": "code",
      "execution_count": 17,
      "metadata": {
        "id": "x3UXFJsKbZ0s",
        "outputId": "71866cfc-0b54-4d35-be3b-57e042f2c38c",
        "colab": {
          "base_uri": "https://localhost:8080/"
        }
      },
      "outputs": [
        {
          "output_type": "execute_result",
          "data": {
            "text/plain": [
              "[['X', 'U', 'Y'], ['X', 'Z', 'Y']]"
            ]
          },
          "metadata": {},
          "execution_count": 17
        }
      ],
      "source": [
        "list(nx.all_simple_paths(G.dag.to_undirected(), 'X', 'Y'))"
      ]
    },
    {
      "cell_type": "markdown",
      "metadata": {
        "id": "_6U7orT5bZ0s"
      },
      "source": [
        "#### Рассмотрим все зависимости"
      ]
    },
    {
      "cell_type": "code",
      "execution_count": 18,
      "metadata": {
        "id": "ttEX9yrRbZ0t",
        "outputId": "b253587d-bcd1-47f4-df4e-135e0e1fe425",
        "colab": {
          "base_uri": "https://localhost:8080/"
        }
      },
      "outputs": [
        {
          "output_type": "execute_result",
          "data": {
            "text/plain": [
              "[('Z', 'U', {'X'}), ('X', 'Y', {'U', 'Z'})]"
            ]
          },
          "metadata": {},
          "execution_count": 18
        }
      ],
      "source": [
        "G.get_all_independence_relationships()"
      ]
    },
    {
      "cell_type": "markdown",
      "metadata": {
        "id": "REZVtDNRbZ0t"
      },
      "source": [
        "#### Сгенерим распределение"
      ]
    },
    {
      "cell_type": "code",
      "execution_count": 19,
      "metadata": {
        "id": "66WCjErUbZ0t",
        "outputId": "f1a124e4-fbe1-4697-c4e6-cfd7432e1784",
        "colab": {
          "base_uri": "https://localhost:8080/",
          "height": 56
        }
      },
      "outputs": [
        {
          "output_type": "execute_result",
          "data": {
            "text/plain": [
              "'P(U)P(X|U)P(Z|X)P(Y|U,Z)'"
            ],
            "application/vnd.google.colaboratory.intrinsic+json": {
              "type": "string"
            }
          },
          "metadata": {},
          "execution_count": 19
        }
      ],
      "source": [
        "G.get_distribution()"
      ]
    },
    {
      "cell_type": "markdown",
      "metadata": {
        "id": "4Z1ZNVopbZ0u"
      },
      "source": [
        "#### Обусловимся на переменную X"
      ]
    },
    {
      "cell_type": "code",
      "execution_count": 20,
      "metadata": {
        "id": "2DVkfesAbZ0u",
        "outputId": "80f6380e-db22-4756-d254-ec4ab2346aba",
        "colab": {
          "base_uri": "https://localhost:8080/",
          "height": 303
        }
      },
      "outputs": [
        {
          "output_type": "execute_result",
          "data": {
            "image/svg+xml": "<?xml version=\"1.0\" encoding=\"UTF-8\" standalone=\"no\"?>\n<!DOCTYPE svg PUBLIC \"-//W3C//DTD SVG 1.1//EN\"\n \"http://www.w3.org/Graphics/SVG/1.1/DTD/svg11.dtd\">\n<!-- Generated by graphviz version 2.43.0 (0)\n -->\n<!-- Title: %3 Pages: 1 -->\n<svg width=\"138pt\" height=\"196pt\"\n viewBox=\"0.00 0.00 138.00 196.00\" xmlns=\"http://www.w3.org/2000/svg\" xmlns:xlink=\"http://www.w3.org/1999/xlink\">\n<g id=\"graph0\" class=\"graph\" transform=\"scale(1 1) rotate(0) translate(4 192)\">\n<title>%3</title>\n<polygon fill=\"white\" stroke=\"transparent\" points=\"-4,4 -4,-192 134,-192 134,4 -4,4\"/>\n<!-- Z -->\n<g id=\"node1\" class=\"node\">\n<title>Z</title>\n<ellipse fill=\"none\" stroke=\"black\" cx=\"99\" cy=\"-90\" rx=\"27\" ry=\"18\"/>\n<text text-anchor=\"middle\" x=\"99\" y=\"-86.3\" font-family=\"Times,serif\" font-size=\"14.00\">Z</text>\n</g>\n<!-- Y -->\n<g id=\"node4\" class=\"node\">\n<title>Y</title>\n<ellipse fill=\"none\" stroke=\"black\" cx=\"63\" cy=\"-18\" rx=\"27\" ry=\"18\"/>\n<text text-anchor=\"middle\" x=\"63\" y=\"-14.3\" font-family=\"Times,serif\" font-size=\"14.00\">Y</text>\n</g>\n<!-- Z&#45;&gt;Y -->\n<g id=\"edge1\" class=\"edge\">\n<title>Z&#45;&gt;Y</title>\n<path fill=\"none\" stroke=\"black\" d=\"M90.65,-72.76C86.29,-64.28 80.85,-53.71 75.96,-44.2\"/>\n<polygon fill=\"black\" stroke=\"black\" points=\"78.99,-42.44 71.3,-35.15 72.77,-45.64 78.99,-42.44\"/>\n</g>\n<!-- X -->\n<g id=\"node2\" class=\"node\">\n<title>X</title>\n<ellipse fill=\"none\" stroke=\"black\" cx=\"99\" cy=\"-166\" rx=\"27\" ry=\"18\"/>\n<ellipse fill=\"none\" stroke=\"black\" cx=\"99\" cy=\"-166\" rx=\"31\" ry=\"22\"/>\n<text text-anchor=\"middle\" x=\"99\" y=\"-162.3\" font-family=\"Times,serif\" font-size=\"14.00\">X</text>\n</g>\n<!-- X&#45;&gt;Z -->\n<g id=\"edge2\" class=\"edge\">\n<title>X&#45;&gt;Z</title>\n<path fill=\"none\" stroke=\"black\" d=\"M99,-143.99C99,-136.06 99,-126.91 99,-118.48\"/>\n<polygon fill=\"black\" stroke=\"black\" points=\"102.5,-118.31 99,-108.31 95.5,-118.31 102.5,-118.31\"/>\n</g>\n<!-- U -->\n<g id=\"node3\" class=\"node\">\n<title>U</title>\n<ellipse fill=\"none\" stroke=\"black\" cx=\"27\" cy=\"-90\" rx=\"27\" ry=\"18\"/>\n<text text-anchor=\"middle\" x=\"27\" y=\"-86.3\" font-family=\"Times,serif\" font-size=\"14.00\">U</text>\n</g>\n<!-- U&#45;&gt;Y -->\n<g id=\"edge3\" class=\"edge\">\n<title>U&#45;&gt;Y</title>\n<path fill=\"none\" stroke=\"black\" d=\"M35.35,-72.76C39.71,-64.28 45.15,-53.71 50.04,-44.2\"/>\n<polygon fill=\"black\" stroke=\"black\" points=\"53.23,-45.64 54.7,-35.15 47.01,-42.44 53.23,-45.64\"/>\n</g>\n</g>\n</svg>\n",
            "text/plain": [
              "<graphviz.graphs.Digraph at 0x7b0708169870>"
            ]
          },
          "metadata": {},
          "execution_count": 20
        }
      ],
      "source": [
        "G.do('X').draw()"
      ]
    },
    {
      "cell_type": "code",
      "execution_count": 21,
      "metadata": {
        "id": "QuEZKb6ubZ0v",
        "outputId": "02e02b36-60ec-470a-bafe-38c4c9f13d50",
        "colab": {
          "base_uri": "https://localhost:8080/",
          "height": 388
        }
      },
      "outputs": [
        {
          "output_type": "execute_result",
          "data": {
            "image/svg+xml": "<?xml version=\"1.0\" encoding=\"UTF-8\" standalone=\"no\"?>\n<!DOCTYPE svg PUBLIC \"-//W3C//DTD SVG 1.1//EN\"\n \"http://www.w3.org/Graphics/SVG/1.1/DTD/svg11.dtd\">\n<!-- Generated by graphviz version 2.43.0 (0)\n -->\n<!-- Title: %3 Pages: 1 -->\n<svg width=\"89pt\" height=\"260pt\"\n viewBox=\"0.00 0.00 89.00 260.00\" xmlns=\"http://www.w3.org/2000/svg\" xmlns:xlink=\"http://www.w3.org/1999/xlink\">\n<g id=\"graph0\" class=\"graph\" transform=\"scale(1 1) rotate(0) translate(4 256)\">\n<title>%3</title>\n<polygon fill=\"white\" stroke=\"transparent\" points=\"-4,4 -4,-256 85,-256 85,4 -4,4\"/>\n<!-- Z -->\n<g id=\"node1\" class=\"node\">\n<title>Z</title>\n<ellipse fill=\"none\" stroke=\"black\" cx=\"27\" cy=\"-90\" rx=\"27\" ry=\"18\"/>\n<text text-anchor=\"middle\" x=\"27\" y=\"-86.3\" font-family=\"Times,serif\" font-size=\"14.00\">Z</text>\n</g>\n<!-- Y -->\n<g id=\"node4\" class=\"node\">\n<title>Y</title>\n<ellipse fill=\"none\" stroke=\"black\" cx=\"54\" cy=\"-18\" rx=\"27\" ry=\"18\"/>\n<text text-anchor=\"middle\" x=\"54\" y=\"-14.3\" font-family=\"Times,serif\" font-size=\"14.00\">Y</text>\n</g>\n<!-- Z&#45;&gt;Y -->\n<g id=\"edge3\" class=\"edge\">\n<title>Z&#45;&gt;Y</title>\n<path fill=\"none\" stroke=\"black\" d=\"M33.4,-72.41C36.51,-64.34 40.33,-54.43 43.83,-45.35\"/>\n<polygon fill=\"black\" stroke=\"black\" points=\"47.13,-46.55 47.46,-35.96 40.6,-44.03 47.13,-46.55\"/>\n</g>\n<!-- X -->\n<g id=\"node2\" class=\"node\">\n<title>X</title>\n<ellipse fill=\"none\" stroke=\"black\" cx=\"27\" cy=\"-162\" rx=\"27\" ry=\"18\"/>\n<text text-anchor=\"middle\" x=\"27\" y=\"-158.3\" font-family=\"Times,serif\" font-size=\"14.00\">X</text>\n</g>\n<!-- X&#45;&gt;Z -->\n<g id=\"edge4\" class=\"edge\">\n<title>X&#45;&gt;Z</title>\n<path fill=\"none\" stroke=\"black\" d=\"M27,-143.7C27,-135.98 27,-126.71 27,-118.11\"/>\n<polygon fill=\"black\" stroke=\"black\" points=\"30.5,-118.1 27,-108.1 23.5,-118.1 30.5,-118.1\"/>\n</g>\n<!-- U -->\n<g id=\"node3\" class=\"node\">\n<title>U</title>\n<ellipse fill=\"none\" stroke=\"black\" cx=\"54\" cy=\"-234\" rx=\"27\" ry=\"18\"/>\n<text text-anchor=\"middle\" x=\"54\" y=\"-230.3\" font-family=\"Times,serif\" font-size=\"14.00\">U</text>\n</g>\n<!-- U&#45;&gt;X -->\n<g id=\"edge2\" class=\"edge\">\n<title>U&#45;&gt;X</title>\n<path fill=\"none\" stroke=\"black\" d=\"M47.6,-216.41C44.49,-208.34 40.67,-198.43 37.17,-189.35\"/>\n<polygon fill=\"black\" stroke=\"black\" points=\"40.4,-188.03 33.54,-179.96 33.87,-190.55 40.4,-188.03\"/>\n</g>\n<!-- U&#45;&gt;Y -->\n<g id=\"edge1\" class=\"edge\">\n<title>U&#45;&gt;Y</title>\n<path fill=\"none\" stroke=\"black\" d=\"M57.65,-215.91C59.68,-205.57 61.98,-192.09 63,-180 67.03,-132.17 67.03,-119.83 63,-72 62.28,-63.5 60.93,-54.31 59.49,-46.01\"/>\n<polygon fill=\"black\" stroke=\"black\" points=\"62.91,-45.29 57.65,-36.09 56.03,-46.56 62.91,-45.29\"/>\n</g>\n</g>\n</svg>\n",
            "text/plain": [
              "<graphviz.graphs.Digraph at 0x7b074ca33340>"
            ]
          },
          "metadata": {},
          "execution_count": 21
        }
      ],
      "source": [
        "G.draw()"
      ]
    },
    {
      "cell_type": "code",
      "execution_count": 22,
      "metadata": {
        "id": "9M3witOgbZ0x",
        "outputId": "b3a99b12-79b6-4f20-e95b-38b75eddf67e",
        "colab": {
          "base_uri": "https://localhost:8080/"
        }
      },
      "outputs": [
        {
          "output_type": "execute_result",
          "data": {
            "text/plain": [
              "frozenset({frozenset({'U', 'Z'})})"
            ]
          },
          "metadata": {},
          "execution_count": 22
        }
      ],
      "source": [
        "G.get_all_backdoor_adjustment_sets('Y','X')"
      ]
    },
    {
      "cell_type": "code",
      "execution_count": 23,
      "metadata": {
        "id": "Xp7FXPSmbZ0y",
        "outputId": "76654d14-21da-481c-a413-a66e74ab56de",
        "colab": {
          "base_uri": "https://localhost:8080/",
          "height": 57
        }
      },
      "outputs": [
        {
          "output_type": "execute_result",
          "data": {
            "text/plain": [
              "frozenset({frozenset()})"
            ],
            "text/latex": "$\\displaystyle \\left\\{\\left\\{\\right\\}\\right\\}$"
          },
          "metadata": {},
          "execution_count": 23
        }
      ],
      "source": [
        "G.get_all_frontdoor_adjustment_sets('Y','X')"
      ]
    },
    {
      "cell_type": "code",
      "execution_count": 24,
      "metadata": {
        "id": "KzIWzJ_hbZ00",
        "outputId": "bddc6d2b-7ef2-4320-f2d9-11247855e752",
        "colab": {
          "base_uri": "https://localhost:8080/"
        }
      },
      "outputs": [
        {
          "output_type": "execute_result",
          "data": {
            "text/plain": [
              "frozenset({frozenset({'Z'})})"
            ]
          },
          "metadata": {},
          "execution_count": 24
        }
      ],
      "source": [
        "G.get_all_frontdoor_adjustment_sets('X','Y')"
      ]
    },
    {
      "cell_type": "markdown",
      "metadata": {
        "id": "D2ZADM8ibZ01"
      },
      "source": [
        "## Inductive search"
      ]
    },
    {
      "cell_type": "markdown",
      "metadata": {
        "id": "9vu2t5d4bZ02"
      },
      "source": [
        "Допустим, у нас есть несколько событий:\n",
        "\n",
        "1. Продажа мороженного (ICE)\n",
        "2. Количество преступлений (CRIMES)\n",
        "3. Количество полицейских на тысячу человек (POLICE)\n",
        "4. Средняя температура (TEMP)\n",
        "5. Количество скачиваний браузера IE (IE)\n",
        "6. Количество зараженных компьютеров (COMP)\n",
        "7. Уровень загрязнения воздуха (AIR)\n",
        "\n",
        "P.S. Полная синтетика!"
      ]
    },
    {
      "cell_type": "code",
      "execution_count": 25,
      "metadata": {
        "id": "4Ob_u2wBbZ03",
        "outputId": "a9979681-5e96-451d-9695-1e63c4ecf8c7",
        "colab": {
          "base_uri": "https://localhost:8080/",
          "height": 196
        }
      },
      "outputs": [
        {
          "output_type": "execute_result",
          "data": {
            "image/svg+xml": "<?xml version=\"1.0\" encoding=\"UTF-8\" standalone=\"no\"?>\n<!DOCTYPE svg PUBLIC \"-//W3C//DTD SVG 1.1//EN\"\n \"http://www.w3.org/Graphics/SVG/1.1/DTD/svg11.dtd\">\n<!-- Generated by graphviz version 2.43.0 (0)\n -->\n<!-- Title: %3 Pages: 1 -->\n<svg width=\"331pt\" height=\"116pt\"\n viewBox=\"0.00 0.00 331.45 116.00\" xmlns=\"http://www.w3.org/2000/svg\" xmlns:xlink=\"http://www.w3.org/1999/xlink\">\n<g id=\"graph0\" class=\"graph\" transform=\"scale(1 1) rotate(0) translate(4 112)\">\n<title>%3</title>\n<polygon fill=\"white\" stroke=\"transparent\" points=\"-4,4 -4,-112 327.45,-112 327.45,4 -4,4\"/>\n<!-- ICE -->\n<g id=\"node1\" class=\"node\">\n<title>ICE</title>\n<ellipse fill=\"none\" stroke=\"black\" cx=\"34.45\" cy=\"-18\" rx=\"27\" ry=\"18\"/>\n<text text-anchor=\"middle\" x=\"34.45\" y=\"-14.3\" font-family=\"Times,serif\" font-size=\"14.00\">ICE</text>\n</g>\n<!-- POLICE -->\n<g id=\"node2\" class=\"node\">\n<title>POLICE</title>\n<ellipse fill=\"none\" stroke=\"black\" cx=\"128.45\" cy=\"-90\" rx=\"41.69\" ry=\"18\"/>\n<text text-anchor=\"middle\" x=\"128.45\" y=\"-86.3\" font-family=\"Times,serif\" font-size=\"14.00\">POLICE</text>\n</g>\n<!-- CRIMES -->\n<g id=\"node4\" class=\"node\">\n<title>CRIMES</title>\n<ellipse fill=\"none\" stroke=\"black\" cx=\"125.45\" cy=\"-18\" rx=\"44.39\" ry=\"18\"/>\n<text text-anchor=\"middle\" x=\"125.45\" y=\"-14.3\" font-family=\"Times,serif\" font-size=\"14.00\">CRIMES</text>\n</g>\n<!-- POLICE&#45;&gt;CRIMES -->\n<g id=\"edge1\" class=\"edge\">\n<title>POLICE&#45;&gt;CRIMES</title>\n<path fill=\"none\" stroke=\"black\" d=\"M127.71,-71.7C127.37,-63.98 126.98,-54.71 126.61,-46.11\"/>\n<polygon fill=\"black\" stroke=\"black\" points=\"130.11,-45.95 126.18,-36.1 123.11,-46.25 130.11,-45.95\"/>\n</g>\n<!-- COMP -->\n<g id=\"node3\" class=\"node\">\n<title>COMP</title>\n<ellipse fill=\"none\" stroke=\"black\" cx=\"224.45\" cy=\"-18\" rx=\"36.29\" ry=\"18\"/>\n<text text-anchor=\"middle\" x=\"224.45\" y=\"-14.3\" font-family=\"Times,serif\" font-size=\"14.00\">COMP</text>\n</g>\n<!-- AIR -->\n<g id=\"node5\" class=\"node\">\n<title>AIR</title>\n<ellipse fill=\"none\" stroke=\"black\" cx=\"296.45\" cy=\"-90\" rx=\"27\" ry=\"18\"/>\n<text text-anchor=\"middle\" x=\"296.45\" y=\"-86.3\" font-family=\"Times,serif\" font-size=\"14.00\">AIR</text>\n</g>\n<!-- IE -->\n<g id=\"node6\" class=\"node\">\n<title>IE</title>\n<ellipse fill=\"none\" stroke=\"black\" cx=\"224.45\" cy=\"-90\" rx=\"27\" ry=\"18\"/>\n<text text-anchor=\"middle\" x=\"224.45\" y=\"-86.3\" font-family=\"Times,serif\" font-size=\"14.00\">IE</text>\n</g>\n<!-- IE&#45;&gt;COMP -->\n<g id=\"edge4\" class=\"edge\">\n<title>IE&#45;&gt;COMP</title>\n<path fill=\"none\" stroke=\"black\" d=\"M224.45,-71.7C224.45,-63.98 224.45,-54.71 224.45,-46.11\"/>\n<polygon fill=\"black\" stroke=\"black\" points=\"227.95,-46.1 224.45,-36.1 220.95,-46.1 227.95,-46.1\"/>\n</g>\n<!-- TEMP -->\n<g id=\"node7\" class=\"node\">\n<title>TEMP</title>\n<ellipse fill=\"none\" stroke=\"black\" cx=\"34.45\" cy=\"-90\" rx=\"34.39\" ry=\"18\"/>\n<text text-anchor=\"middle\" x=\"34.45\" y=\"-86.3\" font-family=\"Times,serif\" font-size=\"14.00\">TEMP</text>\n</g>\n<!-- TEMP&#45;&gt;ICE -->\n<g id=\"edge2\" class=\"edge\">\n<title>TEMP&#45;&gt;ICE</title>\n<path fill=\"none\" stroke=\"black\" d=\"M34.45,-71.7C34.45,-63.98 34.45,-54.71 34.45,-46.11\"/>\n<polygon fill=\"black\" stroke=\"black\" points=\"37.95,-46.1 34.45,-36.1 30.95,-46.1 37.95,-46.1\"/>\n</g>\n<!-- TEMP&#45;&gt;CRIMES -->\n<g id=\"edge3\" class=\"edge\">\n<title>TEMP&#45;&gt;CRIMES</title>\n<path fill=\"none\" stroke=\"black\" d=\"M53.3,-74.5C66.1,-64.65 83.23,-51.47 97.59,-40.43\"/>\n<polygon fill=\"black\" stroke=\"black\" points=\"99.88,-43.08 105.67,-34.21 95.61,-37.53 99.88,-43.08\"/>\n</g>\n</g>\n</svg>\n",
            "text/plain": [
              "<graphviz.graphs.Digraph at 0x7b074ca31540>"
            ]
          },
          "metadata": {},
          "execution_count": 25
        }
      ],
      "source": [
        "G = CausalGraphicalModel(nodes=['ICE','CRIMES','POLICE', 'TEMP','IE','COMP', 'AIR'],\n",
        "edges=[('TEMP','ICE'),  ('TEMP','CRIMES'), ('IE','COMP'), ('POLICE', 'CRIMES')])\n",
        "G.draw()"
      ]
    },
    {
      "cell_type": "code",
      "execution_count": 26,
      "metadata": {
        "id": "FoK-2Z_AbZ03"
      },
      "outputs": [],
      "source": [
        "rs = np.random.RandomState(42)\n",
        "police = rs.uniform(low=1, high=100, size=1000)\n",
        "temp = rs.uniform(low=-40, high=40, size=1000)\n",
        "air = rs.uniform(size=1000)\n",
        "crimes = (temp + 40) / police\n",
        "ice = temp + 40\n",
        "ie = rs.uniform(size=1000)\n",
        "comp = ie**2\n",
        "dataframe = pd.DataFrame({'police':police, 'temp':temp, 'air':air, 'crimes':crimes, 'ice':ice, 'ie':ie, 'comp':comp})"
      ]
    },
    {
      "cell_type": "code",
      "execution_count": 27,
      "metadata": {
        "id": "BtTvYWHabZ04",
        "outputId": "d071984d-41cc-4091-b2fe-c8a314e9f6cd",
        "colab": {
          "base_uri": "https://localhost:8080/",
          "height": 436
        }
      },
      "outputs": [
        {
          "output_type": "execute_result",
          "data": {
            "text/plain": [
              "        police       temp       air    crimes        ice        ie      comp\n",
              "0    38.079472 -25.189366  0.261706  0.388940  14.810634  0.672703  0.452529\n",
              "1    95.120716   3.352076  0.246979  0.455759  43.352076  0.796681  0.634701\n",
              "2    73.467400  29.835667  0.906255  0.950567  69.835667  0.250468  0.062734\n",
              "3    60.267190  18.577991  0.249546  0.971971  58.577991  0.624874  0.390468\n",
              "4    16.445845  24.524892  0.271950  3.923477  64.524892  0.571746  0.326893\n",
              "..         ...        ...       ...       ...        ...       ...       ...\n",
              "995  10.066625  12.556413  0.865296  5.220857  52.556413  0.442107  0.195459\n",
              "996  91.814044  36.529170  0.157273  0.833524  76.529170  0.334401  0.111824\n",
              "997  14.545044 -34.483359  0.309788  0.379280   5.516641  0.394572  0.155687\n",
              "998  95.073498 -35.435622  0.290046  0.048009   4.564378  0.529941  0.280837\n",
              "999  45.154572 -17.425034  0.871414  0.499949  22.574966  0.161367  0.026039\n",
              "\n",
              "[1000 rows x 7 columns]"
            ],
            "text/html": [
              "\n",
              "  <div id=\"df-8e6e9d72-ee0e-49a8-9e0b-a9fcd93576e6\" class=\"colab-df-container\">\n",
              "    <div>\n",
              "<style scoped>\n",
              "    .dataframe tbody tr th:only-of-type {\n",
              "        vertical-align: middle;\n",
              "    }\n",
              "\n",
              "    .dataframe tbody tr th {\n",
              "        vertical-align: top;\n",
              "    }\n",
              "\n",
              "    .dataframe thead th {\n",
              "        text-align: right;\n",
              "    }\n",
              "</style>\n",
              "<table border=\"1\" class=\"dataframe\">\n",
              "  <thead>\n",
              "    <tr style=\"text-align: right;\">\n",
              "      <th></th>\n",
              "      <th>police</th>\n",
              "      <th>temp</th>\n",
              "      <th>air</th>\n",
              "      <th>crimes</th>\n",
              "      <th>ice</th>\n",
              "      <th>ie</th>\n",
              "      <th>comp</th>\n",
              "    </tr>\n",
              "  </thead>\n",
              "  <tbody>\n",
              "    <tr>\n",
              "      <th>0</th>\n",
              "      <td>38.079472</td>\n",
              "      <td>-25.189366</td>\n",
              "      <td>0.261706</td>\n",
              "      <td>0.388940</td>\n",
              "      <td>14.810634</td>\n",
              "      <td>0.672703</td>\n",
              "      <td>0.452529</td>\n",
              "    </tr>\n",
              "    <tr>\n",
              "      <th>1</th>\n",
              "      <td>95.120716</td>\n",
              "      <td>3.352076</td>\n",
              "      <td>0.246979</td>\n",
              "      <td>0.455759</td>\n",
              "      <td>43.352076</td>\n",
              "      <td>0.796681</td>\n",
              "      <td>0.634701</td>\n",
              "    </tr>\n",
              "    <tr>\n",
              "      <th>2</th>\n",
              "      <td>73.467400</td>\n",
              "      <td>29.835667</td>\n",
              "      <td>0.906255</td>\n",
              "      <td>0.950567</td>\n",
              "      <td>69.835667</td>\n",
              "      <td>0.250468</td>\n",
              "      <td>0.062734</td>\n",
              "    </tr>\n",
              "    <tr>\n",
              "      <th>3</th>\n",
              "      <td>60.267190</td>\n",
              "      <td>18.577991</td>\n",
              "      <td>0.249546</td>\n",
              "      <td>0.971971</td>\n",
              "      <td>58.577991</td>\n",
              "      <td>0.624874</td>\n",
              "      <td>0.390468</td>\n",
              "    </tr>\n",
              "    <tr>\n",
              "      <th>4</th>\n",
              "      <td>16.445845</td>\n",
              "      <td>24.524892</td>\n",
              "      <td>0.271950</td>\n",
              "      <td>3.923477</td>\n",
              "      <td>64.524892</td>\n",
              "      <td>0.571746</td>\n",
              "      <td>0.326893</td>\n",
              "    </tr>\n",
              "    <tr>\n",
              "      <th>...</th>\n",
              "      <td>...</td>\n",
              "      <td>...</td>\n",
              "      <td>...</td>\n",
              "      <td>...</td>\n",
              "      <td>...</td>\n",
              "      <td>...</td>\n",
              "      <td>...</td>\n",
              "    </tr>\n",
              "    <tr>\n",
              "      <th>995</th>\n",
              "      <td>10.066625</td>\n",
              "      <td>12.556413</td>\n",
              "      <td>0.865296</td>\n",
              "      <td>5.220857</td>\n",
              "      <td>52.556413</td>\n",
              "      <td>0.442107</td>\n",
              "      <td>0.195459</td>\n",
              "    </tr>\n",
              "    <tr>\n",
              "      <th>996</th>\n",
              "      <td>91.814044</td>\n",
              "      <td>36.529170</td>\n",
              "      <td>0.157273</td>\n",
              "      <td>0.833524</td>\n",
              "      <td>76.529170</td>\n",
              "      <td>0.334401</td>\n",
              "      <td>0.111824</td>\n",
              "    </tr>\n",
              "    <tr>\n",
              "      <th>997</th>\n",
              "      <td>14.545044</td>\n",
              "      <td>-34.483359</td>\n",
              "      <td>0.309788</td>\n",
              "      <td>0.379280</td>\n",
              "      <td>5.516641</td>\n",
              "      <td>0.394572</td>\n",
              "      <td>0.155687</td>\n",
              "    </tr>\n",
              "    <tr>\n",
              "      <th>998</th>\n",
              "      <td>95.073498</td>\n",
              "      <td>-35.435622</td>\n",
              "      <td>0.290046</td>\n",
              "      <td>0.048009</td>\n",
              "      <td>4.564378</td>\n",
              "      <td>0.529941</td>\n",
              "      <td>0.280837</td>\n",
              "    </tr>\n",
              "    <tr>\n",
              "      <th>999</th>\n",
              "      <td>45.154572</td>\n",
              "      <td>-17.425034</td>\n",
              "      <td>0.871414</td>\n",
              "      <td>0.499949</td>\n",
              "      <td>22.574966</td>\n",
              "      <td>0.161367</td>\n",
              "      <td>0.026039</td>\n",
              "    </tr>\n",
              "  </tbody>\n",
              "</table>\n",
              "<p>1000 rows × 7 columns</p>\n",
              "</div>\n",
              "    <div class=\"colab-df-buttons\">\n",
              "\n",
              "  <div class=\"colab-df-container\">\n",
              "    <button class=\"colab-df-convert\" onclick=\"convertToInteractive('df-8e6e9d72-ee0e-49a8-9e0b-a9fcd93576e6')\"\n",
              "            title=\"Convert this dataframe to an interactive table.\"\n",
              "            style=\"display:none;\">\n",
              "\n",
              "  <svg xmlns=\"http://www.w3.org/2000/svg\" height=\"24px\" viewBox=\"0 -960 960 960\">\n",
              "    <path d=\"M120-120v-720h720v720H120Zm60-500h600v-160H180v160Zm220 220h160v-160H400v160Zm0 220h160v-160H400v160ZM180-400h160v-160H180v160Zm440 0h160v-160H620v160ZM180-180h160v-160H180v160Zm440 0h160v-160H620v160Z\"/>\n",
              "  </svg>\n",
              "    </button>\n",
              "\n",
              "  <style>\n",
              "    .colab-df-container {\n",
              "      display:flex;\n",
              "      gap: 12px;\n",
              "    }\n",
              "\n",
              "    .colab-df-convert {\n",
              "      background-color: #E8F0FE;\n",
              "      border: none;\n",
              "      border-radius: 50%;\n",
              "      cursor: pointer;\n",
              "      display: none;\n",
              "      fill: #1967D2;\n",
              "      height: 32px;\n",
              "      padding: 0 0 0 0;\n",
              "      width: 32px;\n",
              "    }\n",
              "\n",
              "    .colab-df-convert:hover {\n",
              "      background-color: #E2EBFA;\n",
              "      box-shadow: 0px 1px 2px rgba(60, 64, 67, 0.3), 0px 1px 3px 1px rgba(60, 64, 67, 0.15);\n",
              "      fill: #174EA6;\n",
              "    }\n",
              "\n",
              "    .colab-df-buttons div {\n",
              "      margin-bottom: 4px;\n",
              "    }\n",
              "\n",
              "    [theme=dark] .colab-df-convert {\n",
              "      background-color: #3B4455;\n",
              "      fill: #D2E3FC;\n",
              "    }\n",
              "\n",
              "    [theme=dark] .colab-df-convert:hover {\n",
              "      background-color: #434B5C;\n",
              "      box-shadow: 0px 1px 3px 1px rgba(0, 0, 0, 0.15);\n",
              "      filter: drop-shadow(0px 1px 2px rgba(0, 0, 0, 0.3));\n",
              "      fill: #FFFFFF;\n",
              "    }\n",
              "  </style>\n",
              "\n",
              "    <script>\n",
              "      const buttonEl =\n",
              "        document.querySelector('#df-8e6e9d72-ee0e-49a8-9e0b-a9fcd93576e6 button.colab-df-convert');\n",
              "      buttonEl.style.display =\n",
              "        google.colab.kernel.accessAllowed ? 'block' : 'none';\n",
              "\n",
              "      async function convertToInteractive(key) {\n",
              "        const element = document.querySelector('#df-8e6e9d72-ee0e-49a8-9e0b-a9fcd93576e6');\n",
              "        const dataTable =\n",
              "          await google.colab.kernel.invokeFunction('convertToInteractive',\n",
              "                                                    [key], {});\n",
              "        if (!dataTable) return;\n",
              "\n",
              "        const docLinkHtml = 'Like what you see? Visit the ' +\n",
              "          '<a target=\"_blank\" href=https://colab.research.google.com/notebooks/data_table.ipynb>data table notebook</a>'\n",
              "          + ' to learn more about interactive tables.';\n",
              "        element.innerHTML = '';\n",
              "        dataTable['output_type'] = 'display_data';\n",
              "        await google.colab.output.renderOutput(dataTable, element);\n",
              "        const docLink = document.createElement('div');\n",
              "        docLink.innerHTML = docLinkHtml;\n",
              "        element.appendChild(docLink);\n",
              "      }\n",
              "    </script>\n",
              "  </div>\n",
              "\n",
              "\n",
              "<div id=\"df-fba835ac-4eda-4368-9b3a-163fc8cd1893\">\n",
              "  <button class=\"colab-df-quickchart\" onclick=\"quickchart('df-fba835ac-4eda-4368-9b3a-163fc8cd1893')\"\n",
              "            title=\"Suggest charts\"\n",
              "            style=\"display:none;\">\n",
              "\n",
              "<svg xmlns=\"http://www.w3.org/2000/svg\" height=\"24px\"viewBox=\"0 0 24 24\"\n",
              "     width=\"24px\">\n",
              "    <g>\n",
              "        <path d=\"M19 3H5c-1.1 0-2 .9-2 2v14c0 1.1.9 2 2 2h14c1.1 0 2-.9 2-2V5c0-1.1-.9-2-2-2zM9 17H7v-7h2v7zm4 0h-2V7h2v10zm4 0h-2v-4h2v4z\"/>\n",
              "    </g>\n",
              "</svg>\n",
              "  </button>\n",
              "\n",
              "<style>\n",
              "  .colab-df-quickchart {\n",
              "      --bg-color: #E8F0FE;\n",
              "      --fill-color: #1967D2;\n",
              "      --hover-bg-color: #E2EBFA;\n",
              "      --hover-fill-color: #174EA6;\n",
              "      --disabled-fill-color: #AAA;\n",
              "      --disabled-bg-color: #DDD;\n",
              "  }\n",
              "\n",
              "  [theme=dark] .colab-df-quickchart {\n",
              "      --bg-color: #3B4455;\n",
              "      --fill-color: #D2E3FC;\n",
              "      --hover-bg-color: #434B5C;\n",
              "      --hover-fill-color: #FFFFFF;\n",
              "      --disabled-bg-color: #3B4455;\n",
              "      --disabled-fill-color: #666;\n",
              "  }\n",
              "\n",
              "  .colab-df-quickchart {\n",
              "    background-color: var(--bg-color);\n",
              "    border: none;\n",
              "    border-radius: 50%;\n",
              "    cursor: pointer;\n",
              "    display: none;\n",
              "    fill: var(--fill-color);\n",
              "    height: 32px;\n",
              "    padding: 0;\n",
              "    width: 32px;\n",
              "  }\n",
              "\n",
              "  .colab-df-quickchart:hover {\n",
              "    background-color: var(--hover-bg-color);\n",
              "    box-shadow: 0 1px 2px rgba(60, 64, 67, 0.3), 0 1px 3px 1px rgba(60, 64, 67, 0.15);\n",
              "    fill: var(--button-hover-fill-color);\n",
              "  }\n",
              "\n",
              "  .colab-df-quickchart-complete:disabled,\n",
              "  .colab-df-quickchart-complete:disabled:hover {\n",
              "    background-color: var(--disabled-bg-color);\n",
              "    fill: var(--disabled-fill-color);\n",
              "    box-shadow: none;\n",
              "  }\n",
              "\n",
              "  .colab-df-spinner {\n",
              "    border: 2px solid var(--fill-color);\n",
              "    border-color: transparent;\n",
              "    border-bottom-color: var(--fill-color);\n",
              "    animation:\n",
              "      spin 1s steps(1) infinite;\n",
              "  }\n",
              "\n",
              "  @keyframes spin {\n",
              "    0% {\n",
              "      border-color: transparent;\n",
              "      border-bottom-color: var(--fill-color);\n",
              "      border-left-color: var(--fill-color);\n",
              "    }\n",
              "    20% {\n",
              "      border-color: transparent;\n",
              "      border-left-color: var(--fill-color);\n",
              "      border-top-color: var(--fill-color);\n",
              "    }\n",
              "    30% {\n",
              "      border-color: transparent;\n",
              "      border-left-color: var(--fill-color);\n",
              "      border-top-color: var(--fill-color);\n",
              "      border-right-color: var(--fill-color);\n",
              "    }\n",
              "    40% {\n",
              "      border-color: transparent;\n",
              "      border-right-color: var(--fill-color);\n",
              "      border-top-color: var(--fill-color);\n",
              "    }\n",
              "    60% {\n",
              "      border-color: transparent;\n",
              "      border-right-color: var(--fill-color);\n",
              "    }\n",
              "    80% {\n",
              "      border-color: transparent;\n",
              "      border-right-color: var(--fill-color);\n",
              "      border-bottom-color: var(--fill-color);\n",
              "    }\n",
              "    90% {\n",
              "      border-color: transparent;\n",
              "      border-bottom-color: var(--fill-color);\n",
              "    }\n",
              "  }\n",
              "</style>\n",
              "\n",
              "  <script>\n",
              "    async function quickchart(key) {\n",
              "      const quickchartButtonEl =\n",
              "        document.querySelector('#' + key + ' button');\n",
              "      quickchartButtonEl.disabled = true;  // To prevent multiple clicks.\n",
              "      quickchartButtonEl.classList.add('colab-df-spinner');\n",
              "      try {\n",
              "        const charts = await google.colab.kernel.invokeFunction(\n",
              "            'suggestCharts', [key], {});\n",
              "      } catch (error) {\n",
              "        console.error('Error during call to suggestCharts:', error);\n",
              "      }\n",
              "      quickchartButtonEl.classList.remove('colab-df-spinner');\n",
              "      quickchartButtonEl.classList.add('colab-df-quickchart-complete');\n",
              "    }\n",
              "    (() => {\n",
              "      let quickchartButtonEl =\n",
              "        document.querySelector('#df-fba835ac-4eda-4368-9b3a-163fc8cd1893 button');\n",
              "      quickchartButtonEl.style.display =\n",
              "        google.colab.kernel.accessAllowed ? 'block' : 'none';\n",
              "    })();\n",
              "  </script>\n",
              "</div>\n",
              "    </div>\n",
              "  </div>\n"
            ],
            "application/vnd.google.colaboratory.intrinsic+json": {
              "type": "dataframe",
              "variable_name": "dataframe",
              "summary": "{\n  \"name\": \"dataframe\",\n  \"rows\": 1000,\n  \"fields\": [\n    {\n      \"column\": \"police\",\n      \"properties\": {\n        \"dtype\": \"number\",\n        \"std\": 28.921598832801116,\n        \"min\": 1.458570277455683,\n        \"max\": 99.97204965532693,\n        \"num_unique_values\": 1000,\n        \"samples\": [\n          38.70819480647113,\n          81.84334450768613,\n          46.805298781291036\n        ],\n        \"semantic_type\": \"\",\n        \"description\": \"\"\n      }\n    },\n    {\n      \"column\": \"temp\",\n      \"properties\": {\n        \"dtype\": \"number\",\n        \"std\": 23.37519147225246,\n        \"min\": -39.742538911657704,\n        \"max\": 39.95309806165332,\n        \"num_unique_values\": 1000,\n        \"samples\": [\n          34.75488214444114,\n          -24.430199054338793,\n          26.203031645349938\n        ],\n        \"semantic_type\": \"\",\n        \"description\": \"\"\n      }\n    },\n    {\n      \"column\": \"air\",\n      \"properties\": {\n        \"dtype\": \"number\",\n        \"std\": 0.29067419549704787,\n        \"min\": 1.1634755366141114e-05,\n        \"max\": 0.9978208556819782,\n        \"num_unique_values\": 1000,\n        \"samples\": [\n          0.13443512940812186,\n          0.5444823328002629,\n          0.3656807482613713\n        ],\n        \"semantic_type\": \"\",\n        \"description\": \"\"\n      }\n    },\n    {\n      \"column\": \"crimes\",\n      \"properties\": {\n        \"dtype\": \"number\",\n        \"std\": 3.248787951690916,\n        \"min\": 0.00522703256254395,\n        \"max\": 32.259791570907645,\n        \"num_unique_values\": 1000,\n        \"samples\": [\n          1.9312417568990798,\n          0.19023906023536227,\n          1.4144345484193885\n        ],\n        \"semantic_type\": \"\",\n        \"description\": \"\"\n      }\n    },\n    {\n      \"column\": \"ice\",\n      \"properties\": {\n        \"dtype\": \"number\",\n        \"std\": 23.37519147225246,\n        \"min\": 0.2574610883422963,\n        \"max\": 79.95309806165332,\n        \"num_unique_values\": 1000,\n        \"samples\": [\n          74.75488214444114,\n          15.569800945661207,\n          66.20303164534994\n        ],\n        \"semantic_type\": \"\",\n        \"description\": \"\"\n      }\n    },\n    {\n      \"column\": \"ie\",\n      \"properties\": {\n        \"dtype\": \"number\",\n        \"std\": 0.2864893443519954,\n        \"min\": 0.0006533907612995549,\n        \"max\": 0.9995577032504386,\n        \"num_unique_values\": 1000,\n        \"samples\": [\n          0.4691072110475787,\n          0.7511771369540428,\n          0.9043597749938572\n        ],\n        \"semantic_type\": \"\",\n        \"description\": \"\"\n      }\n    },\n    {\n      \"column\": \"comp\",\n      \"properties\": {\n        \"dtype\": \"number\",\n        \"std\": 0.2927922715067127,\n        \"min\": 4.2691948695161187e-07,\n        \"max\": 0.9991156021272918,\n        \"num_unique_values\": 1000,\n        \"samples\": [\n          0.22006157545683752,\n          0.5642670910824727,\n          0.8178666026269401\n        ],\n        \"semantic_type\": \"\",\n        \"description\": \"\"\n      }\n    }\n  ]\n}"
            }
          },
          "metadata": {},
          "execution_count": 27
        }
      ],
      "source": [
        "dataframe"
      ]
    },
    {
      "cell_type": "code",
      "execution_count": 28,
      "metadata": {
        "id": "_gwLovjHbZ04"
      },
      "outputs": [],
      "source": [
        "class OLS_test():\n",
        "    def __init__(self, y, x, z, data, alpha):\n",
        "        self.regression = sm.OLS.from_formula('{0}~{1}'.format(y[0], '+'.join(x + z)), data)\n",
        "        self.result = self.regression.fit()\n",
        "        self.x = x\n",
        "        self.y = y\n",
        "        self.z = z\n",
        "        self.alpha = alpha\n",
        "        print(y, x, z)\n",
        "\n",
        "    def independent(self):\n",
        "        to_fisher = '(' + ' ,'.join([x_ + '=0' for x_ in self.x]) + ')'\n",
        "        return self.result.f_test(to_fisher).pvalue > self.alpha"
      ]
    },
    {
      "cell_type": "code",
      "execution_count": 29,
      "metadata": {
        "id": "Ww37-WlSbZ05",
        "outputId": "7c68e693-6a41-41c3-c052-4864d7209573",
        "colab": {
          "base_uri": "https://localhost:8080/"
        }
      },
      "outputs": [
        {
          "output_type": "stream",
          "name": "stdout",
          "text": [
            "['temp'] ['police'] []\n",
            "['air'] ['police'] []\n",
            "['ice'] ['police'] []\n",
            "['crimes'] ['police'] []\n",
            "['ie'] ['police'] []\n",
            "['comp'] ['police'] []\n",
            "['air'] ['temp'] []\n",
            "['ice'] ['temp'] []\n",
            "['crimes'] ['temp'] []\n",
            "['ie'] ['temp'] []\n",
            "['comp'] ['temp'] []\n",
            "['ice'] ['air'] []\n",
            "['crimes'] ['air'] []\n",
            "['ie'] ['air'] []\n",
            "['comp'] ['air'] []\n",
            "['crimes'] ['ice'] []\n",
            "['ie'] ['ice'] []\n",
            "['comp'] ['ice'] []\n",
            "['ie'] ['crimes'] []\n",
            "['comp'] ['crimes'] []\n",
            "['comp'] ['ie'] []\n",
            "['crimes'] ['police'] ['temp']\n",
            "['crimes'] ['police'] ['ice']\n",
            "['ice'] ['temp'] ['crimes']\n",
            "['crimes'] ['temp'] ['police']\n",
            "['crimes'] ['temp'] ['ice']\n",
            "['crimes'] ['ice'] ['temp']\n",
            "['crimes'] ['ice'] ['police']\n",
            "['crimes'] ['ice'] ['temp', 'police']\n"
          ]
        }
      ],
      "source": [
        "variable_types = {'police' : 'd',\n",
        "                  'temp' : 'd',\n",
        "                  'air' : 'c',\n",
        "                  'ice' : 'd',\n",
        "                  'crimes' : 'd',\n",
        "                  'ie':'c',\n",
        "                  'comp':'c'}\n",
        "\n",
        "ic_algorithm = IC(OLS_test, alpha=0.05)\n",
        "graph = ic_algorithm.search(dataframe, variable_types)"
      ]
    },
    {
      "cell_type": "code",
      "execution_count": 30,
      "metadata": {
        "id": "nGG_HlSEbZ06",
        "outputId": "c68c7e5f-0fc8-4369-ac33-e3420dea9c3b",
        "colab": {
          "base_uri": "https://localhost:8080/",
          "height": 426
        }
      },
      "outputs": [
        {
          "output_type": "display_data",
          "data": {
            "text/plain": [
              "<Figure size 640x480 with 1 Axes>"
            ],
            "image/png": "[encoded data removed]"
          },
          "metadata": {}
        }
      ],
      "source": [
        "nx.draw_networkx(graph)"
      ]
    },
    {
      "cell_type": "code",
      "execution_count": 31,
      "metadata": {
        "id": "3falxmpAbZ07",
        "outputId": "f732ac67-a851-477d-fe12-762d7160f3b3",
        "colab": {
          "base_uri": "https://localhost:8080/",
          "height": 196
        }
      },
      "outputs": [
        {
          "output_type": "execute_result",
          "data": {
            "image/svg+xml": "<?xml version=\"1.0\" encoding=\"UTF-8\" standalone=\"no\"?>\n<!DOCTYPE svg PUBLIC \"-//W3C//DTD SVG 1.1//EN\"\n \"http://www.w3.org/Graphics/SVG/1.1/DTD/svg11.dtd\">\n<!-- Generated by graphviz version 2.43.0 (0)\n -->\n<!-- Title: %3 Pages: 1 -->\n<svg width=\"331pt\" height=\"116pt\"\n viewBox=\"0.00 0.00 331.45 116.00\" xmlns=\"http://www.w3.org/2000/svg\" xmlns:xlink=\"http://www.w3.org/1999/xlink\">\n<g id=\"graph0\" class=\"graph\" transform=\"scale(1 1) rotate(0) translate(4 112)\">\n<title>%3</title>\n<polygon fill=\"white\" stroke=\"transparent\" points=\"-4,4 -4,-112 327.45,-112 327.45,4 -4,4\"/>\n<!-- ICE -->\n<g id=\"node1\" class=\"node\">\n<title>ICE</title>\n<ellipse fill=\"none\" stroke=\"black\" cx=\"34.45\" cy=\"-18\" rx=\"27\" ry=\"18\"/>\n<text text-anchor=\"middle\" x=\"34.45\" y=\"-14.3\" font-family=\"Times,serif\" font-size=\"14.00\">ICE</text>\n</g>\n<!-- POLICE -->\n<g id=\"node2\" class=\"node\">\n<title>POLICE</title>\n<ellipse fill=\"none\" stroke=\"black\" cx=\"128.45\" cy=\"-90\" rx=\"41.69\" ry=\"18\"/>\n<text text-anchor=\"middle\" x=\"128.45\" y=\"-86.3\" font-family=\"Times,serif\" font-size=\"14.00\">POLICE</text>\n</g>\n<!-- CRIMES -->\n<g id=\"node4\" class=\"node\">\n<title>CRIMES</title>\n<ellipse fill=\"none\" stroke=\"black\" cx=\"125.45\" cy=\"-18\" rx=\"44.39\" ry=\"18\"/>\n<text text-anchor=\"middle\" x=\"125.45\" y=\"-14.3\" font-family=\"Times,serif\" font-size=\"14.00\">CRIMES</text>\n</g>\n<!-- POLICE&#45;&gt;CRIMES -->\n<g id=\"edge1\" class=\"edge\">\n<title>POLICE&#45;&gt;CRIMES</title>\n<path fill=\"none\" stroke=\"black\" d=\"M127.71,-71.7C127.37,-63.98 126.98,-54.71 126.61,-46.11\"/>\n<polygon fill=\"black\" stroke=\"black\" points=\"130.11,-45.95 126.18,-36.1 123.11,-46.25 130.11,-45.95\"/>\n</g>\n<!-- COMP -->\n<g id=\"node3\" class=\"node\">\n<title>COMP</title>\n<ellipse fill=\"none\" stroke=\"black\" cx=\"224.45\" cy=\"-18\" rx=\"36.29\" ry=\"18\"/>\n<text text-anchor=\"middle\" x=\"224.45\" y=\"-14.3\" font-family=\"Times,serif\" font-size=\"14.00\">COMP</text>\n</g>\n<!-- AIR -->\n<g id=\"node5\" class=\"node\">\n<title>AIR</title>\n<ellipse fill=\"none\" stroke=\"black\" cx=\"296.45\" cy=\"-90\" rx=\"27\" ry=\"18\"/>\n<text text-anchor=\"middle\" x=\"296.45\" y=\"-86.3\" font-family=\"Times,serif\" font-size=\"14.00\">AIR</text>\n</g>\n<!-- IE -->\n<g id=\"node6\" class=\"node\">\n<title>IE</title>\n<ellipse fill=\"none\" stroke=\"black\" cx=\"224.45\" cy=\"-90\" rx=\"27\" ry=\"18\"/>\n<text text-anchor=\"middle\" x=\"224.45\" y=\"-86.3\" font-family=\"Times,serif\" font-size=\"14.00\">IE</text>\n</g>\n<!-- IE&#45;&gt;COMP -->\n<g id=\"edge4\" class=\"edge\">\n<title>IE&#45;&gt;COMP</title>\n<path fill=\"none\" stroke=\"black\" d=\"M224.45,-71.7C224.45,-63.98 224.45,-54.71 224.45,-46.11\"/>\n<polygon fill=\"black\" stroke=\"black\" points=\"227.95,-46.1 224.45,-36.1 220.95,-46.1 227.95,-46.1\"/>\n</g>\n<!-- TEMP -->\n<g id=\"node7\" class=\"node\">\n<title>TEMP</title>\n<ellipse fill=\"none\" stroke=\"black\" cx=\"34.45\" cy=\"-90\" rx=\"34.39\" ry=\"18\"/>\n<text text-anchor=\"middle\" x=\"34.45\" y=\"-86.3\" font-family=\"Times,serif\" font-size=\"14.00\">TEMP</text>\n</g>\n<!-- TEMP&#45;&gt;ICE -->\n<g id=\"edge2\" class=\"edge\">\n<title>TEMP&#45;&gt;ICE</title>\n<path fill=\"none\" stroke=\"black\" d=\"M34.45,-71.7C34.45,-63.98 34.45,-54.71 34.45,-46.11\"/>\n<polygon fill=\"black\" stroke=\"black\" points=\"37.95,-46.1 34.45,-36.1 30.95,-46.1 37.95,-46.1\"/>\n</g>\n<!-- TEMP&#45;&gt;CRIMES -->\n<g id=\"edge3\" class=\"edge\">\n<title>TEMP&#45;&gt;CRIMES</title>\n<path fill=\"none\" stroke=\"black\" d=\"M53.3,-74.5C66.1,-64.65 83.23,-51.47 97.59,-40.43\"/>\n<polygon fill=\"black\" stroke=\"black\" points=\"99.88,-43.08 105.67,-34.21 95.61,-37.53 99.88,-43.08\"/>\n</g>\n</g>\n</svg>\n",
            "text/plain": [
              "<graphviz.graphs.Digraph at 0x7b0703553d60>"
            ]
          },
          "metadata": {},
          "execution_count": 31
        }
      ],
      "source": [
        "G = CausalGraphicalModel(nodes=['ICE','CRIMES','POLICE', 'TEMP','IE','COMP', 'AIR'],\n",
        "edges=[('TEMP','ICE'),  ('TEMP','CRIMES'), ('IE','COMP'), ('POLICE', 'CRIMES')])\n",
        "G.draw()"
      ]
    },
    {
      "cell_type": "code",
      "execution_count": 32,
      "metadata": {
        "id": "M-7XwkP9bZ07",
        "outputId": "c2c7a477-e73d-4a4c-f4e3-7ec085bd6427",
        "colab": {
          "base_uri": "https://localhost:8080/"
        }
      },
      "outputs": [
        {
          "output_type": "execute_result",
          "data": {
            "text/plain": [
              "EdgeView([('police', 'crimes'), ('temp', 'ice'), ('ice', 'crimes'), ('ie', 'comp')])"
            ]
          },
          "metadata": {},
          "execution_count": 32
        }
      ],
      "source": [
        "graph.edges"
      ]
    },
    {
      "cell_type": "markdown",
      "metadata": {
        "id": "129QQw6lbZ07"
      },
      "source": [
        "## Задача про курение"
      ]
    },
    {
      "cell_type": "code",
      "execution_count": 33,
      "metadata": {
        "id": "YxXnHE__bZ08",
        "outputId": "8ae3df05-acd1-4273-b398-8543d81358f2",
        "colab": {
          "base_uri": "https://localhost:8080/",
          "height": 223
        }
      },
      "outputs": [
        {
          "output_type": "execute_result",
          "data": {
            "text/plain": [
              "     smoke  tar  cancer\n",
              "733      0    0       1\n",
              "234      1    1       0\n",
              "478      0    0       1\n",
              "784      0    0       1\n",
              "2        1    1       0"
            ],
            "text/html": [
              "\n",
              "  <div id=\"df-31a04ecb-5a3f-438e-914d-cc1918b20e36\" class=\"colab-df-container\">\n",
              "    <div>\n",
              "<style scoped>\n",
              "    .dataframe tbody tr th:only-of-type {\n",
              "        vertical-align: middle;\n",
              "    }\n",
              "\n",
              "    .dataframe tbody tr th {\n",
              "        vertical-align: top;\n",
              "    }\n",
              "\n",
              "    .dataframe thead th {\n",
              "        text-align: right;\n",
              "    }\n",
              "</style>\n",
              "<table border=\"1\" class=\"dataframe\">\n",
              "  <thead>\n",
              "    <tr style=\"text-align: right;\">\n",
              "      <th></th>\n",
              "      <th>smoke</th>\n",
              "      <th>tar</th>\n",
              "      <th>cancer</th>\n",
              "    </tr>\n",
              "  </thead>\n",
              "  <tbody>\n",
              "    <tr>\n",
              "      <th>733</th>\n",
              "      <td>0</td>\n",
              "      <td>0</td>\n",
              "      <td>1</td>\n",
              "    </tr>\n",
              "    <tr>\n",
              "      <th>234</th>\n",
              "      <td>1</td>\n",
              "      <td>1</td>\n",
              "      <td>0</td>\n",
              "    </tr>\n",
              "    <tr>\n",
              "      <th>478</th>\n",
              "      <td>0</td>\n",
              "      <td>0</td>\n",
              "      <td>1</td>\n",
              "    </tr>\n",
              "    <tr>\n",
              "      <th>784</th>\n",
              "      <td>0</td>\n",
              "      <td>0</td>\n",
              "      <td>1</td>\n",
              "    </tr>\n",
              "    <tr>\n",
              "      <th>2</th>\n",
              "      <td>1</td>\n",
              "      <td>1</td>\n",
              "      <td>0</td>\n",
              "    </tr>\n",
              "  </tbody>\n",
              "</table>\n",
              "</div>\n",
              "    <div class=\"colab-df-buttons\">\n",
              "\n",
              "  <div class=\"colab-df-container\">\n",
              "    <button class=\"colab-df-convert\" onclick=\"convertToInteractive('df-31a04ecb-5a3f-438e-914d-cc1918b20e36')\"\n",
              "            title=\"Convert this dataframe to an interactive table.\"\n",
              "            style=\"display:none;\">\n",
              "\n",
              "  <svg xmlns=\"http://www.w3.org/2000/svg\" height=\"24px\" viewBox=\"0 -960 960 960\">\n",
              "    <path d=\"M120-120v-720h720v720H120Zm60-500h600v-160H180v160Zm220 220h160v-160H400v160Zm0 220h160v-160H400v160ZM180-400h160v-160H180v160Zm440 0h160v-160H620v160ZM180-180h160v-160H180v160Zm440 0h160v-160H620v160Z\"/>\n",
              "  </svg>\n",
              "    </button>\n",
              "\n",
              "  <style>\n",
              "    .colab-df-container {\n",
              "      display:flex;\n",
              "      gap: 12px;\n",
              "    }\n",
              "\n",
              "    .colab-df-convert {\n",
              "      background-color: #E8F0FE;\n",
              "      border: none;\n",
              "      border-radius: 50%;\n",
              "      cursor: pointer;\n",
              "      display: none;\n",
              "      fill: #1967D2;\n",
              "      height: 32px;\n",
              "      padding: 0 0 0 0;\n",
              "      width: 32px;\n",
              "    }\n",
              "\n",
              "    .colab-df-convert:hover {\n",
              "      background-color: #E2EBFA;\n",
              "      box-shadow: 0px 1px 2px rgba(60, 64, 67, 0.3), 0px 1px 3px 1px rgba(60, 64, 67, 0.15);\n",
              "      fill: #174EA6;\n",
              "    }\n",
              "\n",
              "    .colab-df-buttons div {\n",
              "      margin-bottom: 4px;\n",
              "    }\n",
              "\n",
              "    [theme=dark] .colab-df-convert {\n",
              "      background-color: #3B4455;\n",
              "      fill: #D2E3FC;\n",
              "    }\n",
              "\n",
              "    [theme=dark] .colab-df-convert:hover {\n",
              "      background-color: #434B5C;\n",
              "      box-shadow: 0px 1px 3px 1px rgba(0, 0, 0, 0.15);\n",
              "      filter: drop-shadow(0px 1px 2px rgba(0, 0, 0, 0.3));\n",
              "      fill: #FFFFFF;\n",
              "    }\n",
              "  </style>\n",
              "\n",
              "    <script>\n",
              "      const buttonEl =\n",
              "        document.querySelector('#df-31a04ecb-5a3f-438e-914d-cc1918b20e36 button.colab-df-convert');\n",
              "      buttonEl.style.display =\n",
              "        google.colab.kernel.accessAllowed ? 'block' : 'none';\n",
              "\n",
              "      async function convertToInteractive(key) {\n",
              "        const element = document.querySelector('#df-31a04ecb-5a3f-438e-914d-cc1918b20e36');\n",
              "        const dataTable =\n",
              "          await google.colab.kernel.invokeFunction('convertToInteractive',\n",
              "                                                    [key], {});\n",
              "        if (!dataTable) return;\n",
              "\n",
              "        const docLinkHtml = 'Like what you see? Visit the ' +\n",
              "          '<a target=\"_blank\" href=https://colab.research.google.com/notebooks/data_table.ipynb>data table notebook</a>'\n",
              "          + ' to learn more about interactive tables.';\n",
              "        element.innerHTML = '';\n",
              "        dataTable['output_type'] = 'display_data';\n",
              "        await google.colab.output.renderOutput(dataTable, element);\n",
              "        const docLink = document.createElement('div');\n",
              "        docLink.innerHTML = docLinkHtml;\n",
              "        element.appendChild(docLink);\n",
              "      }\n",
              "    </script>\n",
              "  </div>\n",
              "\n",
              "\n",
              "<div id=\"df-1a98016f-ab41-421b-b695-4c67bdb1988e\">\n",
              "  <button class=\"colab-df-quickchart\" onclick=\"quickchart('df-1a98016f-ab41-421b-b695-4c67bdb1988e')\"\n",
              "            title=\"Suggest charts\"\n",
              "            style=\"display:none;\">\n",
              "\n",
              "<svg xmlns=\"http://www.w3.org/2000/svg\" height=\"24px\"viewBox=\"0 0 24 24\"\n",
              "     width=\"24px\">\n",
              "    <g>\n",
              "        <path d=\"M19 3H5c-1.1 0-2 .9-2 2v14c0 1.1.9 2 2 2h14c1.1 0 2-.9 2-2V5c0-1.1-.9-2-2-2zM9 17H7v-7h2v7zm4 0h-2V7h2v10zm4 0h-2v-4h2v4z\"/>\n",
              "    </g>\n",
              "</svg>\n",
              "  </button>\n",
              "\n",
              "<style>\n",
              "  .colab-df-quickchart {\n",
              "      --bg-color: #E8F0FE;\n",
              "      --fill-color: #1967D2;\n",
              "      --hover-bg-color: #E2EBFA;\n",
              "      --hover-fill-color: #174EA6;\n",
              "      --disabled-fill-color: #AAA;\n",
              "      --disabled-bg-color: #DDD;\n",
              "  }\n",
              "\n",
              "  [theme=dark] .colab-df-quickchart {\n",
              "      --bg-color: #3B4455;\n",
              "      --fill-color: #D2E3FC;\n",
              "      --hover-bg-color: #434B5C;\n",
              "      --hover-fill-color: #FFFFFF;\n",
              "      --disabled-bg-color: #3B4455;\n",
              "      --disabled-fill-color: #666;\n",
              "  }\n",
              "\n",
              "  .colab-df-quickchart {\n",
              "    background-color: var(--bg-color);\n",
              "    border: none;\n",
              "    border-radius: 50%;\n",
              "    cursor: pointer;\n",
              "    display: none;\n",
              "    fill: var(--fill-color);\n",
              "    height: 32px;\n",
              "    padding: 0;\n",
              "    width: 32px;\n",
              "  }\n",
              "\n",
              "  .colab-df-quickchart:hover {\n",
              "    background-color: var(--hover-bg-color);\n",
              "    box-shadow: 0 1px 2px rgba(60, 64, 67, 0.3), 0 1px 3px 1px rgba(60, 64, 67, 0.15);\n",
              "    fill: var(--button-hover-fill-color);\n",
              "  }\n",
              "\n",
              "  .colab-df-quickchart-complete:disabled,\n",
              "  .colab-df-quickchart-complete:disabled:hover {\n",
              "    background-color: var(--disabled-bg-color);\n",
              "    fill: var(--disabled-fill-color);\n",
              "    box-shadow: none;\n",
              "  }\n",
              "\n",
              "  .colab-df-spinner {\n",
              "    border: 2px solid var(--fill-color);\n",
              "    border-color: transparent;\n",
              "    border-bottom-color: var(--fill-color);\n",
              "    animation:\n",
              "      spin 1s steps(1) infinite;\n",
              "  }\n",
              "\n",
              "  @keyframes spin {\n",
              "    0% {\n",
              "      border-color: transparent;\n",
              "      border-bottom-color: var(--fill-color);\n",
              "      border-left-color: var(--fill-color);\n",
              "    }\n",
              "    20% {\n",
              "      border-color: transparent;\n",
              "      border-left-color: var(--fill-color);\n",
              "      border-top-color: var(--fill-color);\n",
              "    }\n",
              "    30% {\n",
              "      border-color: transparent;\n",
              "      border-left-color: var(--fill-color);\n",
              "      border-top-color: var(--fill-color);\n",
              "      border-right-color: var(--fill-color);\n",
              "    }\n",
              "    40% {\n",
              "      border-color: transparent;\n",
              "      border-right-color: var(--fill-color);\n",
              "      border-top-color: var(--fill-color);\n",
              "    }\n",
              "    60% {\n",
              "      border-color: transparent;\n",
              "      border-right-color: var(--fill-color);\n",
              "    }\n",
              "    80% {\n",
              "      border-color: transparent;\n",
              "      border-right-color: var(--fill-color);\n",
              "      border-bottom-color: var(--fill-color);\n",
              "    }\n",
              "    90% {\n",
              "      border-color: transparent;\n",
              "      border-bottom-color: var(--fill-color);\n",
              "    }\n",
              "  }\n",
              "</style>\n",
              "\n",
              "  <script>\n",
              "    async function quickchart(key) {\n",
              "      const quickchartButtonEl =\n",
              "        document.querySelector('#' + key + ' button');\n",
              "      quickchartButtonEl.disabled = true;  // To prevent multiple clicks.\n",
              "      quickchartButtonEl.classList.add('colab-df-spinner');\n",
              "      try {\n",
              "        const charts = await google.colab.kernel.invokeFunction(\n",
              "            'suggestCharts', [key], {});\n",
              "      } catch (error) {\n",
              "        console.error('Error during call to suggestCharts:', error);\n",
              "      }\n",
              "      quickchartButtonEl.classList.remove('colab-df-spinner');\n",
              "      quickchartButtonEl.classList.add('colab-df-quickchart-complete');\n",
              "    }\n",
              "    (() => {\n",
              "      let quickchartButtonEl =\n",
              "        document.querySelector('#df-1a98016f-ab41-421b-b695-4c67bdb1988e button');\n",
              "      quickchartButtonEl.style.display =\n",
              "        google.colab.kernel.accessAllowed ? 'block' : 'none';\n",
              "    })();\n",
              "  </script>\n",
              "</div>\n",
              "    </div>\n",
              "  </div>\n"
            ],
            "application/vnd.google.colaboratory.intrinsic+json": {
              "type": "dataframe",
              "summary": "{\n  \"name\": \"dataframe\",\n  \"rows\": 5,\n  \"fields\": [\n    {\n      \"column\": \"smoke\",\n      \"properties\": {\n        \"dtype\": \"number\",\n        \"std\": 0,\n        \"min\": 0,\n        \"max\": 1,\n        \"num_unique_values\": 2,\n        \"samples\": [\n          1,\n          0\n        ],\n        \"semantic_type\": \"\",\n        \"description\": \"\"\n      }\n    },\n    {\n      \"column\": \"tar\",\n      \"properties\": {\n        \"dtype\": \"number\",\n        \"std\": 0,\n        \"min\": 0,\n        \"max\": 1,\n        \"num_unique_values\": 2,\n        \"samples\": [\n          1,\n          0\n        ],\n        \"semantic_type\": \"\",\n        \"description\": \"\"\n      }\n    },\n    {\n      \"column\": \"cancer\",\n      \"properties\": {\n        \"dtype\": \"number\",\n        \"std\": 0,\n        \"min\": 0,\n        \"max\": 1,\n        \"num_unique_values\": 2,\n        \"samples\": [\n          0,\n          1\n        ],\n        \"semantic_type\": \"\",\n        \"description\": \"\"\n      }\n    }\n  ]\n}"
            }
          },
          "metadata": {},
          "execution_count": 33
        }
      ],
      "source": [
        "smoke = []\n",
        "cancer = []\n",
        "tar = []\n",
        "\n",
        "smoke += [1] * 323\n",
        "cancer += [0]*323\n",
        "tar+=[1]*323\n",
        "\n",
        "smoke+=[0]\n",
        "cancer+=[0]\n",
        "tar+=[1]\n",
        "\n",
        "smoke+=[1]*57\n",
        "cancer+=[1]*57\n",
        "tar+=[1]*57\n",
        "\n",
        "smoke+=[0]*19\n",
        "cancer+=[1]*19\n",
        "tar+=[1]*19\n",
        "\n",
        "\n",
        "smoke+=[1]*18\n",
        "cancer+=[0]*18\n",
        "tar+=[0]*18\n",
        "\n",
        "smoke+=[0]*38\n",
        "cancer+=[0]*38\n",
        "tar+=[0]*38\n",
        "\n",
        "smoke+=[1]*2\n",
        "cancer+=[1]*2\n",
        "tar+=[0]*2\n",
        "\n",
        "smoke+=[0]*342\n",
        "cancer+=[1]*342\n",
        "tar+=[0]*342\n",
        "\n",
        "dataframe = pd.DataFrame({'smoke':smoke, 'tar':tar, 'cancer':cancer})\n",
        "dataframe.sample(5)"
      ]
    },
    {
      "cell_type": "markdown",
      "metadata": {
        "id": "WhymiyftbZ08"
      },
      "source": [
        "### Строим граф"
      ]
    },
    {
      "cell_type": "code",
      "execution_count": 34,
      "metadata": {
        "id": "e2SRmtDrbZ09"
      },
      "outputs": [],
      "source": [
        "g = nx.DiGraph()"
      ]
    },
    {
      "cell_type": "code",
      "execution_count": 35,
      "metadata": {
        "id": "6o5uMbcNbZ09"
      },
      "outputs": [],
      "source": [
        "g.add_nodes_from(['smoke','cancer','tar'])\n",
        "g.add_edges_from([('tar','cancer'),('smoke','tar')])"
      ]
    },
    {
      "cell_type": "code",
      "execution_count": 36,
      "metadata": {
        "id": "CIQJuM0WbZ09",
        "outputId": "2a11d958-2d92-48f3-cf9f-598cb64f56f5",
        "colab": {
          "base_uri": "https://localhost:8080/",
          "height": 426
        }
      },
      "outputs": [
        {
          "output_type": "display_data",
          "data": {
            "text/plain": [
              "<Figure size 640x480 with 1 Axes>"
            ],
            "image/png": "[encoded data removed]"
          },
          "metadata": {}
        }
      ],
      "source": [
        "nx.draw_networkx(g)"
      ]
    },
    {
      "cell_type": "markdown",
      "metadata": {
        "id": "8nXiAct4bZ0-"
      },
      "source": [
        "### Иследуем причинность"
      ]
    },
    {
      "cell_type": "code",
      "execution_count": 37,
      "metadata": {
        "id": "J3GDcxVobZ0-",
        "outputId": "7eaf47c3-e0ec-4a57-abf9-81af532f18ae",
        "colab": {
          "base_uri": "https://localhost:8080/"
        }
      },
      "outputs": [
        {
          "output_type": "execute_result",
          "data": {
            "text/plain": [
              "{'smoke'}"
            ]
          },
          "metadata": {},
          "execution_count": 37
        }
      ],
      "source": [
        "adjustment = AdjustForDirectCauses()\n",
        "admissable_set = adjustment.admissable_set(g,['tar'], ['cancer'])\n",
        "admissable_set"
      ]
    },
    {
      "cell_type": "code",
      "execution_count": 38,
      "metadata": {
        "id": "-_Dp_egPbZ0_",
        "outputId": "bb6f7ce3-55a5-4e3f-85bd-301a694731f1",
        "colab": {
          "base_uri": "https://localhost:8080/"
        }
      },
      "outputs": [
        {
          "output_type": "execute_result",
          "data": {
            "text/plain": [
              "Index(['smoke', 'tar', 'cancer'], dtype='object')"
            ]
          },
          "metadata": {},
          "execution_count": 38
        }
      ],
      "source": [
        "dataframe.columns"
      ]
    },
    {
      "cell_type": "code",
      "execution_count": 39,
      "metadata": {
        "id": "i8N9ckE9bZ0_"
      },
      "outputs": [],
      "source": [
        "effect = CausalEffect(dataframe.sample(299), ['smoke'], ['cancer'],\n",
        "                      variable_types={'smoke': 'u', 'cancer': 'u', 'tar': 'u'},\n",
        "                      admissable_set=[])"
      ]
    },
    {
      "cell_type": "code",
      "execution_count": 40,
      "metadata": {
        "id": "fzmuf3i-bZ1A"
      },
      "outputs": [],
      "source": [
        "smoke = pd.DataFrame({'smoke': [1], 'cancer': [1]})\n",
        "nsmoke = pd.DataFrame({'smoke': [0], 'cancer': [1]})"
      ]
    },
    {
      "cell_type": "code",
      "execution_count": 41,
      "metadata": {
        "id": "ZWiU5YDzbZ1A",
        "outputId": "4468c4ce-ad3f-4c08-83fb-20085d0c2c63",
        "colab": {
          "base_uri": "https://localhost:8080/",
          "height": 57
        }
      },
      "outputs": [
        {
          "output_type": "execute_result",
          "data": {
            "text/plain": [
              "-0.6226927944020787"
            ],
            "text/latex": "$\\displaystyle -0.622692794402079$"
          },
          "metadata": {},
          "execution_count": 41
        }
      ],
      "source": [
        "effect.pdf(smoke) - effect.pdf(nsmoke)"
      ]
    },
    {
      "cell_type": "markdown",
      "source": [
        "## DoWhy"
      ],
      "metadata": {
        "id": "yfH2vXAieOGU"
      }
    },
    {
      "cell_type": "markdown",
      "source": [
        "### Вилка"
      ],
      "metadata": {
        "id": "I-Xz-7w_eUl5"
      }
    },
    {
      "cell_type": "code",
      "execution_count": 42,
      "metadata": {
        "id": "h3vVSCUzbZ1B",
        "outputId": "056bd2e6-b86c-4624-ec48-9d6e4c64b957",
        "colab": {
          "base_uri": "https://localhost:8080/",
          "height": 223
        }
      },
      "outputs": [
        {
          "output_type": "execute_result",
          "data": {
            "text/plain": [
              "    X  Y  Z\n",
              "80  1  1  1\n",
              "22  1  1  1\n",
              "51  1  1  1\n",
              "2   1  1  1\n",
              "31  1  1  1"
            ],
            "text/html": [
              "\n",
              "  <div id=\"df-abec91a4-42b0-4f07-bc73-e7fb2d25b977\" class=\"colab-df-container\">\n",
              "    <div>\n",
              "<style scoped>\n",
              "    .dataframe tbody tr th:only-of-type {\n",
              "        vertical-align: middle;\n",
              "    }\n",
              "\n",
              "    .dataframe tbody tr th {\n",
              "        vertical-align: top;\n",
              "    }\n",
              "\n",
              "    .dataframe thead th {\n",
              "        text-align: right;\n",
              "    }\n",
              "</style>\n",
              "<table border=\"1\" class=\"dataframe\">\n",
              "  <thead>\n",
              "    <tr style=\"text-align: right;\">\n",
              "      <th></th>\n",
              "      <th>X</th>\n",
              "      <th>Y</th>\n",
              "      <th>Z</th>\n",
              "    </tr>\n",
              "  </thead>\n",
              "  <tbody>\n",
              "    <tr>\n",
              "      <th>80</th>\n",
              "      <td>1</td>\n",
              "      <td>1</td>\n",
              "      <td>1</td>\n",
              "    </tr>\n",
              "    <tr>\n",
              "      <th>22</th>\n",
              "      <td>1</td>\n",
              "      <td>1</td>\n",
              "      <td>1</td>\n",
              "    </tr>\n",
              "    <tr>\n",
              "      <th>51</th>\n",
              "      <td>1</td>\n",
              "      <td>1</td>\n",
              "      <td>1</td>\n",
              "    </tr>\n",
              "    <tr>\n",
              "      <th>2</th>\n",
              "      <td>1</td>\n",
              "      <td>1</td>\n",
              "      <td>1</td>\n",
              "    </tr>\n",
              "    <tr>\n",
              "      <th>31</th>\n",
              "      <td>1</td>\n",
              "      <td>1</td>\n",
              "      <td>1</td>\n",
              "    </tr>\n",
              "  </tbody>\n",
              "</table>\n",
              "</div>\n",
              "    <div class=\"colab-df-buttons\">\n",
              "\n",
              "  <div class=\"colab-df-container\">\n",
              "    <button class=\"colab-df-convert\" onclick=\"convertToInteractive('df-abec91a4-42b0-4f07-bc73-e7fb2d25b977')\"\n",
              "            title=\"Convert this dataframe to an interactive table.\"\n",
              "            style=\"display:none;\">\n",
              "\n",
              "  <svg xmlns=\"http://www.w3.org/2000/svg\" height=\"24px\" viewBox=\"0 -960 960 960\">\n",
              "    <path d=\"M120-120v-720h720v720H120Zm60-500h600v-160H180v160Zm220 220h160v-160H400v160Zm0 220h160v-160H400v160ZM180-400h160v-160H180v160Zm440 0h160v-160H620v160ZM180-180h160v-160H180v160Zm440 0h160v-160H620v160Z\"/>\n",
              "  </svg>\n",
              "    </button>\n",
              "\n",
              "  <style>\n",
              "    .colab-df-container {\n",
              "      display:flex;\n",
              "      gap: 12px;\n",
              "    }\n",
              "\n",
              "    .colab-df-convert {\n",
              "      background-color: #E8F0FE;\n",
              "      border: none;\n",
              "      border-radius: 50%;\n",
              "      cursor: pointer;\n",
              "      display: none;\n",
              "      fill: #1967D2;\n",
              "      height: 32px;\n",
              "      padding: 0 0 0 0;\n",
              "      width: 32px;\n",
              "    }\n",
              "\n",
              "    .colab-df-convert:hover {\n",
              "      background-color: #E2EBFA;\n",
              "      box-shadow: 0px 1px 2px rgba(60, 64, 67, 0.3), 0px 1px 3px 1px rgba(60, 64, 67, 0.15);\n",
              "      fill: #174EA6;\n",
              "    }\n",
              "\n",
              "    .colab-df-buttons div {\n",
              "      margin-bottom: 4px;\n",
              "    }\n",
              "\n",
              "    [theme=dark] .colab-df-convert {\n",
              "      background-color: #3B4455;\n",
              "      fill: #D2E3FC;\n",
              "    }\n",
              "\n",
              "    [theme=dark] .colab-df-convert:hover {\n",
              "      background-color: #434B5C;\n",
              "      box-shadow: 0px 1px 3px 1px rgba(0, 0, 0, 0.15);\n",
              "      filter: drop-shadow(0px 1px 2px rgba(0, 0, 0, 0.3));\n",
              "      fill: #FFFFFF;\n",
              "    }\n",
              "  </style>\n",
              "\n",
              "    <script>\n",
              "      const buttonEl =\n",
              "        document.querySelector('#df-abec91a4-42b0-4f07-bc73-e7fb2d25b977 button.colab-df-convert');\n",
              "      buttonEl.style.display =\n",
              "        google.colab.kernel.accessAllowed ? 'block' : 'none';\n",
              "\n",
              "      async function convertToInteractive(key) {\n",
              "        const element = document.querySelector('#df-abec91a4-42b0-4f07-bc73-e7fb2d25b977');\n",
              "        const dataTable =\n",
              "          await google.colab.kernel.invokeFunction('convertToInteractive',\n",
              "                                                    [key], {});\n",
              "        if (!dataTable) return;\n",
              "\n",
              "        const docLinkHtml = 'Like what you see? Visit the ' +\n",
              "          '<a target=\"_blank\" href=https://colab.research.google.com/notebooks/data_table.ipynb>data table notebook</a>'\n",
              "          + ' to learn more about interactive tables.';\n",
              "        element.innerHTML = '';\n",
              "        dataTable['output_type'] = 'display_data';\n",
              "        await google.colab.output.renderOutput(dataTable, element);\n",
              "        const docLink = document.createElement('div');\n",
              "        docLink.innerHTML = docLinkHtml;\n",
              "        element.appendChild(docLink);\n",
              "      }\n",
              "    </script>\n",
              "  </div>\n",
              "\n",
              "\n",
              "<div id=\"df-8c72aec5-2aa4-46c1-a908-76240da98349\">\n",
              "  <button class=\"colab-df-quickchart\" onclick=\"quickchart('df-8c72aec5-2aa4-46c1-a908-76240da98349')\"\n",
              "            title=\"Suggest charts\"\n",
              "            style=\"display:none;\">\n",
              "\n",
              "<svg xmlns=\"http://www.w3.org/2000/svg\" height=\"24px\"viewBox=\"0 0 24 24\"\n",
              "     width=\"24px\">\n",
              "    <g>\n",
              "        <path d=\"M19 3H5c-1.1 0-2 .9-2 2v14c0 1.1.9 2 2 2h14c1.1 0 2-.9 2-2V5c0-1.1-.9-2-2-2zM9 17H7v-7h2v7zm4 0h-2V7h2v10zm4 0h-2v-4h2v4z\"/>\n",
              "    </g>\n",
              "</svg>\n",
              "  </button>\n",
              "\n",
              "<style>\n",
              "  .colab-df-quickchart {\n",
              "      --bg-color: #E8F0FE;\n",
              "      --fill-color: #1967D2;\n",
              "      --hover-bg-color: #E2EBFA;\n",
              "      --hover-fill-color: #174EA6;\n",
              "      --disabled-fill-color: #AAA;\n",
              "      --disabled-bg-color: #DDD;\n",
              "  }\n",
              "\n",
              "  [theme=dark] .colab-df-quickchart {\n",
              "      --bg-color: #3B4455;\n",
              "      --fill-color: #D2E3FC;\n",
              "      --hover-bg-color: #434B5C;\n",
              "      --hover-fill-color: #FFFFFF;\n",
              "      --disabled-bg-color: #3B4455;\n",
              "      --disabled-fill-color: #666;\n",
              "  }\n",
              "\n",
              "  .colab-df-quickchart {\n",
              "    background-color: var(--bg-color);\n",
              "    border: none;\n",
              "    border-radius: 50%;\n",
              "    cursor: pointer;\n",
              "    display: none;\n",
              "    fill: var(--fill-color);\n",
              "    height: 32px;\n",
              "    padding: 0;\n",
              "    width: 32px;\n",
              "  }\n",
              "\n",
              "  .colab-df-quickchart:hover {\n",
              "    background-color: var(--hover-bg-color);\n",
              "    box-shadow: 0 1px 2px rgba(60, 64, 67, 0.3), 0 1px 3px 1px rgba(60, 64, 67, 0.15);\n",
              "    fill: var(--button-hover-fill-color);\n",
              "  }\n",
              "\n",
              "  .colab-df-quickchart-complete:disabled,\n",
              "  .colab-df-quickchart-complete:disabled:hover {\n",
              "    background-color: var(--disabled-bg-color);\n",
              "    fill: var(--disabled-fill-color);\n",
              "    box-shadow: none;\n",
              "  }\n",
              "\n",
              "  .colab-df-spinner {\n",
              "    border: 2px solid var(--fill-color);\n",
              "    border-color: transparent;\n",
              "    border-bottom-color: var(--fill-color);\n",
              "    animation:\n",
              "      spin 1s steps(1) infinite;\n",
              "  }\n",
              "\n",
              "  @keyframes spin {\n",
              "    0% {\n",
              "      border-color: transparent;\n",
              "      border-bottom-color: var(--fill-color);\n",
              "      border-left-color: var(--fill-color);\n",
              "    }\n",
              "    20% {\n",
              "      border-color: transparent;\n",
              "      border-left-color: var(--fill-color);\n",
              "      border-top-color: var(--fill-color);\n",
              "    }\n",
              "    30% {\n",
              "      border-color: transparent;\n",
              "      border-left-color: var(--fill-color);\n",
              "      border-top-color: var(--fill-color);\n",
              "      border-right-color: var(--fill-color);\n",
              "    }\n",
              "    40% {\n",
              "      border-color: transparent;\n",
              "      border-right-color: var(--fill-color);\n",
              "      border-top-color: var(--fill-color);\n",
              "    }\n",
              "    60% {\n",
              "      border-color: transparent;\n",
              "      border-right-color: var(--fill-color);\n",
              "    }\n",
              "    80% {\n",
              "      border-color: transparent;\n",
              "      border-right-color: var(--fill-color);\n",
              "      border-bottom-color: var(--fill-color);\n",
              "    }\n",
              "    90% {\n",
              "      border-color: transparent;\n",
              "      border-bottom-color: var(--fill-color);\n",
              "    }\n",
              "  }\n",
              "</style>\n",
              "\n",
              "  <script>\n",
              "    async function quickchart(key) {\n",
              "      const quickchartButtonEl =\n",
              "        document.querySelector('#' + key + ' button');\n",
              "      quickchartButtonEl.disabled = true;  // To prevent multiple clicks.\n",
              "      quickchartButtonEl.classList.add('colab-df-spinner');\n",
              "      try {\n",
              "        const charts = await google.colab.kernel.invokeFunction(\n",
              "            'suggestCharts', [key], {});\n",
              "      } catch (error) {\n",
              "        console.error('Error during call to suggestCharts:', error);\n",
              "      }\n",
              "      quickchartButtonEl.classList.remove('colab-df-spinner');\n",
              "      quickchartButtonEl.classList.add('colab-df-quickchart-complete');\n",
              "    }\n",
              "    (() => {\n",
              "      let quickchartButtonEl =\n",
              "        document.querySelector('#df-8c72aec5-2aa4-46c1-a908-76240da98349 button');\n",
              "      quickchartButtonEl.style.display =\n",
              "        google.colab.kernel.accessAllowed ? 'block' : 'none';\n",
              "    })();\n",
              "  </script>\n",
              "</div>\n",
              "    </div>\n",
              "  </div>\n"
            ],
            "application/vnd.google.colaboratory.intrinsic+json": {
              "type": "dataframe",
              "summary": "{\n  \"name\": \"dataframe\",\n  \"rows\": 5,\n  \"fields\": [\n    {\n      \"column\": \"X\",\n      \"properties\": {\n        \"dtype\": \"number\",\n        \"std\": 0,\n        \"min\": 1,\n        \"max\": 1,\n        \"num_unique_values\": 1,\n        \"samples\": [\n          1\n        ],\n        \"semantic_type\": \"\",\n        \"description\": \"\"\n      }\n    },\n    {\n      \"column\": \"Y\",\n      \"properties\": {\n        \"dtype\": \"number\",\n        \"std\": 0,\n        \"min\": 1,\n        \"max\": 1,\n        \"num_unique_values\": 1,\n        \"samples\": [\n          1\n        ],\n        \"semantic_type\": \"\",\n        \"description\": \"\"\n      }\n    },\n    {\n      \"column\": \"Z\",\n      \"properties\": {\n        \"dtype\": \"number\",\n        \"std\": 0,\n        \"min\": 1,\n        \"max\": 1,\n        \"num_unique_values\": 1,\n        \"samples\": [\n          1\n        ],\n        \"semantic_type\": \"\",\n        \"description\": \"\"\n      }\n    }\n  ]\n}"
            }
          },
          "metadata": {},
          "execution_count": 42
        }
      ],
      "source": [
        "rs = np.random.RandomState(42)\n",
        "X = []\n",
        "Y = []\n",
        "Z = []\n",
        "\n",
        "Z+=[1]*100\n",
        "Z+=[0]*100\n",
        "X = [z if rs.uniform()<0.85 else rs.randint(low=0, high=2) for z in Z]\n",
        "Y = [z if rs.uniform()<0.85 else rs.randint(low=0, high=2) for z in Z]\n",
        "\n",
        "dataframe = pd.DataFrame({'X':X, 'Y':Y, 'Z':Z})\n",
        "dataframe.sample(5)"
      ]
    },
    {
      "cell_type": "code",
      "source": [
        "model_xy = CausalModel(\n",
        "    data=dataframe,\n",
        "    treatment=['X'],\n",
        "    outcome=[\"Y\"])\n",
        "model_xy.interpret()"
      ],
      "metadata": {
        "id": "IdgUYNkveaxC",
        "outputId": "7ca7ba3d-088f-44f8-cd08-4cc4c7416f73",
        "colab": {
          "base_uri": "https://localhost:8080/",
          "height": 587
        }
      },
      "execution_count": 43,
      "outputs": [
        {
          "output_type": "stream",
          "name": "stderr",
          "text": [
            "WARNING:dowhy.causal_model:Causal Graph not provided. DoWhy will construct a graph based on data inputs.\n",
            "WARNING:dowhy.causal_model:Relevant variables to build causal graph not provided. You may want to use the learn_graph() function to construct the causal graph.\n",
            "WARNING:dowhy.causal_model:There are an additional 1 variables in the dataset that are not in the graph. Variable names are: '['Z']'\n"
          ]
        },
        {
          "output_type": "stream",
          "name": "stdout",
          "text": [
            "Model to find the causal effect of treatment ['X'] on outcome ['Y']\n"
          ]
        },
        {
          "output_type": "display_data",
          "data": {
            "text/plain": [
              "<Figure size 800x600 with 1 Axes>"
            ],
            "image/png": "[encoded data removed]"
          },
          "metadata": {}
        }
      ]
    },
    {
      "cell_type": "code",
      "source": [
        "model_xyz = CausalModel(\n",
        "    data=dataframe,\n",
        "    treatment=['X'],\n",
        "    outcome=[\"Y\"], common_causes=['Z']  )\n",
        "model_xyz.interpret()"
      ],
      "metadata": {
        "id": "zd9OxYwWedyf",
        "outputId": "91d2c884-80d2-4ccb-c5e2-39cf4d3de76e",
        "colab": {
          "base_uri": "https://localhost:8080/",
          "height": 553
        }
      },
      "execution_count": 44,
      "outputs": [
        {
          "output_type": "stream",
          "name": "stderr",
          "text": [
            "WARNING:dowhy.causal_model:Causal Graph not provided. DoWhy will construct a graph based on data inputs.\n"
          ]
        },
        {
          "output_type": "stream",
          "name": "stdout",
          "text": [
            "Model to find the causal effect of treatment ['X'] on outcome ['Y']\n"
          ]
        },
        {
          "output_type": "display_data",
          "data": {
            "text/plain": [
              "<Figure size 800x600 with 1 Axes>"
            ],
            "image/png": "[encoded data removed]"
          },
          "metadata": {}
        }
      ]
    },
    {
      "cell_type": "markdown",
      "source": [
        "#### Определяем эффект"
      ],
      "metadata": {
        "id": "vlHEi2OMhQ7k"
      }
    },
    {
      "cell_type": "code",
      "source": [
        "print(model_xy.identify_effect())"
      ],
      "metadata": {
        "id": "Sg4Bi0Q7e2VC",
        "outputId": "d30442f6-4ecc-47ef-8d88-348a31ba1383",
        "colab": {
          "base_uri": "https://localhost:8080/"
        }
      },
      "execution_count": 45,
      "outputs": [
        {
          "output_type": "stream",
          "name": "stdout",
          "text": [
            "Estimand type: EstimandType.NONPARAMETRIC_ATE\n",
            "\n",
            "### Estimand : 1\n",
            "Estimand name: backdoor\n",
            "Estimand expression:\n",
            " d        \n",
            "────(E[Y])\n",
            "d[X]      \n",
            "Estimand assumption 1, Unconfoundedness: If U→{X} and U→Y then P(Y|X,,U) = P(Y|X,)\n",
            "\n",
            "### Estimand : 2\n",
            "Estimand name: iv\n",
            "No such variable(s) found!\n",
            "\n",
            "### Estimand : 3\n",
            "Estimand name: frontdoor\n",
            "No such variable(s) found!\n",
            "\n"
          ]
        }
      ]
    },
    {
      "cell_type": "code",
      "source": [
        "print(model_xyz.identify_effect())"
      ],
      "metadata": {
        "id": "XGZEdY09fLXg",
        "outputId": "25a7d7d2-eb47-417c-b96f-4e4e6a65e584",
        "colab": {
          "base_uri": "https://localhost:8080/"
        }
      },
      "execution_count": 46,
      "outputs": [
        {
          "output_type": "stream",
          "name": "stdout",
          "text": [
            "Estimand type: EstimandType.NONPARAMETRIC_ATE\n",
            "\n",
            "### Estimand : 1\n",
            "Estimand name: backdoor\n",
            "Estimand expression:\n",
            " d          \n",
            "────(E[Y|Z])\n",
            "d[X]        \n",
            "Estimand assumption 1, Unconfoundedness: If U→{X} and U→Y then P(Y|X,Z,U) = P(Y|X,Z)\n",
            "\n",
            "### Estimand : 2\n",
            "Estimand name: iv\n",
            "No such variable(s) found!\n",
            "\n",
            "### Estimand : 3\n",
            "Estimand name: frontdoor\n",
            "No such variable(s) found!\n",
            "\n"
          ]
        }
      ]
    },
    {
      "cell_type": "markdown",
      "source": [
        "#### Размер эффекта"
      ],
      "metadata": {
        "id": "4JyR_1S7hVGA"
      }
    },
    {
      "cell_type": "code",
      "source": [
        "print(\n",
        "    model_xy.estimate_effect(\n",
        "        model_xy.identify_effect(),\n",
        "        method_name='backdoor.linear_regression',\n",
        "        test_significance=True))"
      ],
      "metadata": {
        "id": "oJwuDUBNhXZd",
        "outputId": "63bcf96e-bd0c-47db-8718-72b28869ec62",
        "colab": {
          "base_uri": "https://localhost:8080/"
        }
      },
      "execution_count": 47,
      "outputs": [
        {
          "output_type": "stream",
          "name": "stdout",
          "text": [
            "*** Causal Estimate ***\n",
            "\n",
            "## Identified estimand\n",
            "Estimand type: EstimandType.NONPARAMETRIC_ATE\n",
            "\n",
            "### Estimand : 1\n",
            "Estimand name: backdoor\n",
            "Estimand expression:\n",
            " d        \n",
            "────(E[Y])\n",
            "d[X]      \n",
            "Estimand assumption 1, Unconfoundedness: If U→{X} and U→Y then P(Y|X,,U) = P(Y|X,)\n",
            "\n",
            "## Realized estimand\n",
            "b: Y~X\n",
            "Target units: ate\n",
            "\n",
            "## Estimate\n",
            "Mean value: 0.7599759975997601\n",
            "p-value: [6.6231641e-39]\n",
            "\n"
          ]
        }
      ]
    },
    {
      "cell_type": "code",
      "source": [
        "print(\n",
        "    model_xyz.estimate_effect(\n",
        "        model_xyz.identify_effect(),\n",
        "        method_name='backdoor.linear_regression',\n",
        "        test_significance=True, ))"
      ],
      "metadata": {
        "id": "cm4FujsIhaoX",
        "outputId": "ca0834f8-646f-4539-a6dc-7e7afa2bbd0f",
        "colab": {
          "base_uri": "https://localhost:8080/"
        }
      },
      "execution_count": 48,
      "outputs": [
        {
          "output_type": "stream",
          "name": "stdout",
          "text": [
            "*** Causal Estimate ***\n",
            "\n",
            "## Identified estimand\n",
            "Estimand type: EstimandType.NONPARAMETRIC_ATE\n",
            "\n",
            "### Estimand : 1\n",
            "Estimand name: backdoor\n",
            "Estimand expression:\n",
            " d          \n",
            "────(E[Y|Z])\n",
            "d[X]        \n",
            "Estimand assumption 1, Unconfoundedness: If U→{X} and U→Y then P(Y|X,Z,U) = P(Y|X,Z)\n",
            "\n",
            "## Realized estimand\n",
            "b: Y~X+Z\n",
            "Target units: ate\n",
            "\n",
            "## Estimate\n",
            "Mean value: -0.06929740134744838\n",
            "p-value: [0.36853613]\n",
            "\n"
          ]
        }
      ]
    },
    {
      "cell_type": "markdown",
      "source": [
        "### Усложняем модель\n",
        "- Z->X->Y\n",
        "- U->X, U->Y,\n",
        "\n",
        "где U --- это скрытая переменная, при оценке эффекта мы ее не видим, но предполагаем, что она существует"
      ],
      "metadata": {
        "id": "FxvOC8dsipSw"
      }
    },
    {
      "cell_type": "code",
      "source": [
        "rs = np.random.RandomState(42)\n",
        "X = []\n",
        "Y = []\n",
        "Z = []\n",
        "U = []\n",
        "\n",
        "U+=[1]*100\n",
        "U+=[0]*100\n",
        "Z += [1]*100\n",
        "Z += [0] * 100\n",
        "rs.shuffle(Z) # Z - еще одна переменная, которая влияет на X. Чтобы она не совпадала с U - помешаем.\n",
        "\n",
        "X = [int((z+u)/2) if rs.uniform()<0.85 else rs.randint(low=0, high=2) for u,z in zip(U, Z)]\n",
        "Y = [int((x+u)/2) for x,u in zip(X,U)]\n",
        "\n",
        "dataframe = pd.DataFrame({'X':X, 'Y':Y, 'Z':Z})\n",
        "dataframe.sample(5)"
      ],
      "metadata": {
        "id": "Dw_hv0i5irbd",
        "outputId": "1bda6530-2750-42b5-9cfa-1f23b6820f6d",
        "colab": {
          "base_uri": "https://localhost:8080/",
          "height": 223
        }
      },
      "execution_count": 49,
      "outputs": [
        {
          "output_type": "execute_result",
          "data": {
            "text/plain": [
              "     X  Y  Z\n",
              "127  0  0  0\n",
              "186  0  0  1\n",
              "2    1  1  1\n",
              "169  0  0  1\n",
              "70   0  0  1"
            ],
            "text/html": [
              "\n",
              "  <div id=\"df-e6eb8fa9-b8ee-4c5a-b1be-8b0594721096\" class=\"colab-df-container\">\n",
              "    <div>\n",
              "<style scoped>\n",
              "    .dataframe tbody tr th:only-of-type {\n",
              "        vertical-align: middle;\n",
              "    }\n",
              "\n",
              "    .dataframe tbody tr th {\n",
              "        vertical-align: top;\n",
              "    }\n",
              "\n",
              "    .dataframe thead th {\n",
              "        text-align: right;\n",
              "    }\n",
              "</style>\n",
              "<table border=\"1\" class=\"dataframe\">\n",
              "  <thead>\n",
              "    <tr style=\"text-align: right;\">\n",
              "      <th></th>\n",
              "      <th>X</th>\n",
              "      <th>Y</th>\n",
              "      <th>Z</th>\n",
              "    </tr>\n",
              "  </thead>\n",
              "  <tbody>\n",
              "    <tr>\n",
              "      <th>127</th>\n",
              "      <td>0</td>\n",
              "      <td>0</td>\n",
              "      <td>0</td>\n",
              "    </tr>\n",
              "    <tr>\n",
              "      <th>186</th>\n",
              "      <td>0</td>\n",
              "      <td>0</td>\n",
              "      <td>1</td>\n",
              "    </tr>\n",
              "    <tr>\n",
              "      <th>2</th>\n",
              "      <td>1</td>\n",
              "      <td>1</td>\n",
              "      <td>1</td>\n",
              "    </tr>\n",
              "    <tr>\n",
              "      <th>169</th>\n",
              "      <td>0</td>\n",
              "      <td>0</td>\n",
              "      <td>1</td>\n",
              "    </tr>\n",
              "    <tr>\n",
              "      <th>70</th>\n",
              "      <td>0</td>\n",
              "      <td>0</td>\n",
              "      <td>1</td>\n",
              "    </tr>\n",
              "  </tbody>\n",
              "</table>\n",
              "</div>\n",
              "    <div class=\"colab-df-buttons\">\n",
              "\n",
              "  <div class=\"colab-df-container\">\n",
              "    <button class=\"colab-df-convert\" onclick=\"convertToInteractive('df-e6eb8fa9-b8ee-4c5a-b1be-8b0594721096')\"\n",
              "            title=\"Convert this dataframe to an interactive table.\"\n",
              "            style=\"display:none;\">\n",
              "\n",
              "  <svg xmlns=\"http://www.w3.org/2000/svg\" height=\"24px\" viewBox=\"0 -960 960 960\">\n",
              "    <path d=\"M120-120v-720h720v720H120Zm60-500h600v-160H180v160Zm220 220h160v-160H400v160Zm0 220h160v-160H400v160ZM180-400h160v-160H180v160Zm440 0h160v-160H620v160ZM180-180h160v-160H180v160Zm440 0h160v-160H620v160Z\"/>\n",
              "  </svg>\n",
              "    </button>\n",
              "\n",
              "  <style>\n",
              "    .colab-df-container {\n",
              "      display:flex;\n",
              "      gap: 12px;\n",
              "    }\n",
              "\n",
              "    .colab-df-convert {\n",
              "      background-color: #E8F0FE;\n",
              "      border: none;\n",
              "      border-radius: 50%;\n",
              "      cursor: pointer;\n",
              "      display: none;\n",
              "      fill: #1967D2;\n",
              "      height: 32px;\n",
              "      padding: 0 0 0 0;\n",
              "      width: 32px;\n",
              "    }\n",
              "\n",
              "    .colab-df-convert:hover {\n",
              "      background-color: #E2EBFA;\n",
              "      box-shadow: 0px 1px 2px rgba(60, 64, 67, 0.3), 0px 1px 3px 1px rgba(60, 64, 67, 0.15);\n",
              "      fill: #174EA6;\n",
              "    }\n",
              "\n",
              "    .colab-df-buttons div {\n",
              "      margin-bottom: 4px;\n",
              "    }\n",
              "\n",
              "    [theme=dark] .colab-df-convert {\n",
              "      background-color: #3B4455;\n",
              "      fill: #D2E3FC;\n",
              "    }\n",
              "\n",
              "    [theme=dark] .colab-df-convert:hover {\n",
              "      background-color: #434B5C;\n",
              "      box-shadow: 0px 1px 3px 1px rgba(0, 0, 0, 0.15);\n",
              "      filter: drop-shadow(0px 1px 2px rgba(0, 0, 0, 0.3));\n",
              "      fill: #FFFFFF;\n",
              "    }\n",
              "  </style>\n",
              "\n",
              "    <script>\n",
              "      const buttonEl =\n",
              "        document.querySelector('#df-e6eb8fa9-b8ee-4c5a-b1be-8b0594721096 button.colab-df-convert');\n",
              "      buttonEl.style.display =\n",
              "        google.colab.kernel.accessAllowed ? 'block' : 'none';\n",
              "\n",
              "      async function convertToInteractive(key) {\n",
              "        const element = document.querySelector('#df-e6eb8fa9-b8ee-4c5a-b1be-8b0594721096');\n",
              "        const dataTable =\n",
              "          await google.colab.kernel.invokeFunction('convertToInteractive',\n",
              "                                                    [key], {});\n",
              "        if (!dataTable) return;\n",
              "\n",
              "        const docLinkHtml = 'Like what you see? Visit the ' +\n",
              "          '<a target=\"_blank\" href=https://colab.research.google.com/notebooks/data_table.ipynb>data table notebook</a>'\n",
              "          + ' to learn more about interactive tables.';\n",
              "        element.innerHTML = '';\n",
              "        dataTable['output_type'] = 'display_data';\n",
              "        await google.colab.output.renderOutput(dataTable, element);\n",
              "        const docLink = document.createElement('div');\n",
              "        docLink.innerHTML = docLinkHtml;\n",
              "        element.appendChild(docLink);\n",
              "      }\n",
              "    </script>\n",
              "  </div>\n",
              "\n",
              "\n",
              "<div id=\"df-3ac51653-4333-447c-9351-de7cda571e50\">\n",
              "  <button class=\"colab-df-quickchart\" onclick=\"quickchart('df-3ac51653-4333-447c-9351-de7cda571e50')\"\n",
              "            title=\"Suggest charts\"\n",
              "            style=\"display:none;\">\n",
              "\n",
              "<svg xmlns=\"http://www.w3.org/2000/svg\" height=\"24px\"viewBox=\"0 0 24 24\"\n",
              "     width=\"24px\">\n",
              "    <g>\n",
              "        <path d=\"M19 3H5c-1.1 0-2 .9-2 2v14c0 1.1.9 2 2 2h14c1.1 0 2-.9 2-2V5c0-1.1-.9-2-2-2zM9 17H7v-7h2v7zm4 0h-2V7h2v10zm4 0h-2v-4h2v4z\"/>\n",
              "    </g>\n",
              "</svg>\n",
              "  </button>\n",
              "\n",
              "<style>\n",
              "  .colab-df-quickchart {\n",
              "      --bg-color: #E8F0FE;\n",
              "      --fill-color: #1967D2;\n",
              "      --hover-bg-color: #E2EBFA;\n",
              "      --hover-fill-color: #174EA6;\n",
              "      --disabled-fill-color: #AAA;\n",
              "      --disabled-bg-color: #DDD;\n",
              "  }\n",
              "\n",
              "  [theme=dark] .colab-df-quickchart {\n",
              "      --bg-color: #3B4455;\n",
              "      --fill-color: #D2E3FC;\n",
              "      --hover-bg-color: #434B5C;\n",
              "      --hover-fill-color: #FFFFFF;\n",
              "      --disabled-bg-color: #3B4455;\n",
              "      --disabled-fill-color: #666;\n",
              "  }\n",
              "\n",
              "  .colab-df-quickchart {\n",
              "    background-color: var(--bg-color);\n",
              "    border: none;\n",
              "    border-radius: 50%;\n",
              "    cursor: pointer;\n",
              "    display: none;\n",
              "    fill: var(--fill-color);\n",
              "    height: 32px;\n",
              "    padding: 0;\n",
              "    width: 32px;\n",
              "  }\n",
              "\n",
              "  .colab-df-quickchart:hover {\n",
              "    background-color: var(--hover-bg-color);\n",
              "    box-shadow: 0 1px 2px rgba(60, 64, 67, 0.3), 0 1px 3px 1px rgba(60, 64, 67, 0.15);\n",
              "    fill: var(--button-hover-fill-color);\n",
              "  }\n",
              "\n",
              "  .colab-df-quickchart-complete:disabled,\n",
              "  .colab-df-quickchart-complete:disabled:hover {\n",
              "    background-color: var(--disabled-bg-color);\n",
              "    fill: var(--disabled-fill-color);\n",
              "    box-shadow: none;\n",
              "  }\n",
              "\n",
              "  .colab-df-spinner {\n",
              "    border: 2px solid var(--fill-color);\n",
              "    border-color: transparent;\n",
              "    border-bottom-color: var(--fill-color);\n",
              "    animation:\n",
              "      spin 1s steps(1) infinite;\n",
              "  }\n",
              "\n",
              "  @keyframes spin {\n",
              "    0% {\n",
              "      border-color: transparent;\n",
              "      border-bottom-color: var(--fill-color);\n",
              "      border-left-color: var(--fill-color);\n",
              "    }\n",
              "    20% {\n",
              "      border-color: transparent;\n",
              "      border-left-color: var(--fill-color);\n",
              "      border-top-color: var(--fill-color);\n",
              "    }\n",
              "    30% {\n",
              "      border-color: transparent;\n",
              "      border-left-color: var(--fill-color);\n",
              "      border-top-color: var(--fill-color);\n",
              "      border-right-color: var(--fill-color);\n",
              "    }\n",
              "    40% {\n",
              "      border-color: transparent;\n",
              "      border-right-color: var(--fill-color);\n",
              "      border-top-color: var(--fill-color);\n",
              "    }\n",
              "    60% {\n",
              "      border-color: transparent;\n",
              "      border-right-color: var(--fill-color);\n",
              "    }\n",
              "    80% {\n",
              "      border-color: transparent;\n",
              "      border-right-color: var(--fill-color);\n",
              "      border-bottom-color: var(--fill-color);\n",
              "    }\n",
              "    90% {\n",
              "      border-color: transparent;\n",
              "      border-bottom-color: var(--fill-color);\n",
              "    }\n",
              "  }\n",
              "</style>\n",
              "\n",
              "  <script>\n",
              "    async function quickchart(key) {\n",
              "      const quickchartButtonEl =\n",
              "        document.querySelector('#' + key + ' button');\n",
              "      quickchartButtonEl.disabled = true;  // To prevent multiple clicks.\n",
              "      quickchartButtonEl.classList.add('colab-df-spinner');\n",
              "      try {\n",
              "        const charts = await google.colab.kernel.invokeFunction(\n",
              "            'suggestCharts', [key], {});\n",
              "      } catch (error) {\n",
              "        console.error('Error during call to suggestCharts:', error);\n",
              "      }\n",
              "      quickchartButtonEl.classList.remove('colab-df-spinner');\n",
              "      quickchartButtonEl.classList.add('colab-df-quickchart-complete');\n",
              "    }\n",
              "    (() => {\n",
              "      let quickchartButtonEl =\n",
              "        document.querySelector('#df-3ac51653-4333-447c-9351-de7cda571e50 button');\n",
              "      quickchartButtonEl.style.display =\n",
              "        google.colab.kernel.accessAllowed ? 'block' : 'none';\n",
              "    })();\n",
              "  </script>\n",
              "</div>\n",
              "    </div>\n",
              "  </div>\n"
            ],
            "application/vnd.google.colaboratory.intrinsic+json": {
              "type": "dataframe",
              "summary": "{\n  \"name\": \"dataframe\",\n  \"rows\": 5,\n  \"fields\": [\n    {\n      \"column\": \"X\",\n      \"properties\": {\n        \"dtype\": \"number\",\n        \"std\": 0,\n        \"min\": 0,\n        \"max\": 1,\n        \"num_unique_values\": 2,\n        \"samples\": [\n          1,\n          0\n        ],\n        \"semantic_type\": \"\",\n        \"description\": \"\"\n      }\n    },\n    {\n      \"column\": \"Y\",\n      \"properties\": {\n        \"dtype\": \"number\",\n        \"std\": 0,\n        \"min\": 0,\n        \"max\": 1,\n        \"num_unique_values\": 2,\n        \"samples\": [\n          1,\n          0\n        ],\n        \"semantic_type\": \"\",\n        \"description\": \"\"\n      }\n    },\n    {\n      \"column\": \"Z\",\n      \"properties\": {\n        \"dtype\": \"number\",\n        \"std\": 0,\n        \"min\": 0,\n        \"max\": 1,\n        \"num_unique_values\": 2,\n        \"samples\": [\n          1,\n          0\n        ],\n        \"semantic_type\": \"\",\n        \"description\": \"\"\n      }\n    }\n  ]\n}"
            }
          },
          "metadata": {},
          "execution_count": 49
        }
      ]
    },
    {
      "cell_type": "code",
      "source": [
        "model_xy = CausalModel(\n",
        "    data=dataframe,\n",
        "    treatment=['X'],\n",
        "    outcome=[\"Y\"]   )\n",
        "model_xy.interpret()"
      ],
      "metadata": {
        "id": "8biwOjg-i2JN",
        "outputId": "125e73c7-83eb-4361-9357-dc4660334a2b",
        "colab": {
          "base_uri": "https://localhost:8080/",
          "height": 587
        }
      },
      "execution_count": 50,
      "outputs": [
        {
          "output_type": "stream",
          "name": "stderr",
          "text": [
            "WARNING:dowhy.causal_model:Causal Graph not provided. DoWhy will construct a graph based on data inputs.\n",
            "WARNING:dowhy.causal_model:Relevant variables to build causal graph not provided. You may want to use the learn_graph() function to construct the causal graph.\n",
            "WARNING:dowhy.causal_model:There are an additional 1 variables in the dataset that are not in the graph. Variable names are: '['Z']'\n"
          ]
        },
        {
          "output_type": "stream",
          "name": "stdout",
          "text": [
            "Model to find the causal effect of treatment ['X'] on outcome ['Y']\n"
          ]
        },
        {
          "output_type": "display_data",
          "data": {
            "text/plain": [
              "<Figure size 800x600 with 1 Axes>"
            ],
            "image/png": "[encoded data removed]"
          },
          "metadata": {}
        }
      ]
    },
    {
      "cell_type": "code",
      "source": [
        "print(model_xy.identify_effect())"
      ],
      "metadata": {
        "id": "LUlHtreZjDCX",
        "outputId": "2c8593a7-489d-4c30-8c7e-f630ea184d33",
        "colab": {
          "base_uri": "https://localhost:8080/"
        }
      },
      "execution_count": 51,
      "outputs": [
        {
          "output_type": "stream",
          "name": "stdout",
          "text": [
            "Estimand type: EstimandType.NONPARAMETRIC_ATE\n",
            "\n",
            "### Estimand : 1\n",
            "Estimand name: backdoor\n",
            "Estimand expression:\n",
            " d        \n",
            "────(E[Y])\n",
            "d[X]      \n",
            "Estimand assumption 1, Unconfoundedness: If U→{X} and U→Y then P(Y|X,,U) = P(Y|X,)\n",
            "\n",
            "### Estimand : 2\n",
            "Estimand name: iv\n",
            "No such variable(s) found!\n",
            "\n",
            "### Estimand : 3\n",
            "Estimand name: frontdoor\n",
            "No such variable(s) found!\n",
            "\n"
          ]
        }
      ]
    },
    {
      "cell_type": "code",
      "source": [
        "print(\n",
        "    model_xy.estimate_effect(\n",
        "        model_xy.identify_effect(),\n",
        "        method_name='backdoor.linear_regression',\n",
        "        test_significance=True))"
      ],
      "metadata": {
        "id": "UvHfDXvDi4im",
        "outputId": "8d4cf561-0d24-4ab2-ab8b-e2c6cc7213cf",
        "colab": {
          "base_uri": "https://localhost:8080/"
        }
      },
      "execution_count": 52,
      "outputs": [
        {
          "output_type": "stream",
          "name": "stdout",
          "text": [
            "*** Causal Estimate ***\n",
            "\n",
            "## Identified estimand\n",
            "Estimand type: EstimandType.NONPARAMETRIC_ATE\n",
            "\n",
            "### Estimand : 1\n",
            "Estimand name: backdoor\n",
            "Estimand expression:\n",
            " d        \n",
            "────(E[Y])\n",
            "d[X]      \n",
            "Estimand assumption 1, Unconfoundedness: If U→{X} and U→Y then P(Y|X,,U) = P(Y|X,)\n",
            "\n",
            "## Realized estimand\n",
            "b: Y~X\n",
            "Target units: ate\n",
            "\n",
            "## Estimate\n",
            "Mean value: 0.9272727272727277\n",
            "p-value: [5.4915101e-102]\n",
            "\n"
          ]
        }
      ]
    },
    {
      "cell_type": "code",
      "source": [
        "causal_graph = \"\"\"digraph {\n",
        "X[label=\"X\"];\n",
        "Y[label=\"Y\"];\n",
        "Z[label=\"Z\"];\n",
        "U[label=\"Unobserved Confounders\",observed=\"no\"];\n",
        "U->{X;Y};\n",
        "X->{Y};\n",
        "Z->{X};\n",
        "}\"\"\"\n",
        "\n",
        "model = CausalModel(\n",
        "    data=dataframe,\n",
        "    treatment=['X'],\n",
        "    instruments=['Z'],\n",
        "    outcome=[\"Y\"],\n",
        "    graph=causal_graph)\n",
        "model.interpret()"
      ],
      "metadata": {
        "id": "gxSO1WS8jBou",
        "outputId": "b7f0e343-1b2a-448b-95eb-5cd849a76bdc",
        "colab": {
          "base_uri": "https://localhost:8080/",
          "height": 587
        }
      },
      "execution_count": 53,
      "outputs": [
        {
          "output_type": "stream",
          "name": "stderr",
          "text": [
            "ERROR:dowhy.causal_graph:Error: Pygraphviz cannot be loaded. No module named 'pygraphviz'\n",
            "Trying pydot ...\n",
            "WARNING:dowhy.causal_model:The graph defines 4 variables. 3 were found in the dataset and will be analyzed as observed variables. 1 were not found in the dataset and will be analyzed as unobserved variables. The observed variables are: '['X', 'Y', 'Z']'. The unobserved variables are: '['U']'. If this matches your expectations for observations, please continue. If you expected any of the unobserved variables to be in the dataframe, please check for typos.\n"
          ]
        },
        {
          "output_type": "stream",
          "name": "stdout",
          "text": [
            "Model to find the causal effect of treatment ['X'] on outcome ['Y']\n"
          ]
        },
        {
          "output_type": "display_data",
          "data": {
            "text/plain": [
              "<Figure size 800x600 with 1 Axes>"
            ],
            "image/png": "[encoded data removed]"
          },
          "metadata": {}
        }
      ]
    },
    {
      "cell_type": "code",
      "source": [
        "print(model.identify_effect())"
      ],
      "metadata": {
        "id": "nkJXYrpPjb4g",
        "outputId": "a5e2dd67-3c3f-40fd-84fc-407972a3b900",
        "colab": {
          "base_uri": "https://localhost:8080/"
        }
      },
      "execution_count": 54,
      "outputs": [
        {
          "output_type": "stream",
          "name": "stderr",
          "text": [
            "WARNING:dowhy.causal_identifier.auto_identifier:Backdoor identification failed.\n"
          ]
        },
        {
          "output_type": "stream",
          "name": "stdout",
          "text": [
            "Estimand type: EstimandType.NONPARAMETRIC_ATE\n",
            "\n",
            "### Estimand : 1\n",
            "Estimand name: backdoor\n",
            "No such variable(s) found!\n",
            "\n",
            "### Estimand : 2\n",
            "Estimand name: iv\n",
            "Estimand expression:\n",
            " ⎡                   -1⎤\n",
            " ⎢ d      ⎛ d       ⎞  ⎥\n",
            "E⎢────(Y)⋅⎜────([X])⎟  ⎥\n",
            " ⎣d[Z]    ⎝d[Z]     ⎠  ⎦\n",
            "Estimand assumption 1, As-if-random: If U→→Y then ¬(U →→{Z})\n",
            "Estimand assumption 2, Exclusion: If we remove {Z}→{X}, then ¬({Z}→Y)\n",
            "\n",
            "### Estimand : 3\n",
            "Estimand name: frontdoor\n",
            "No such variable(s) found!\n",
            "\n"
          ]
        }
      ]
    },
    {
      "cell_type": "code",
      "source": [
        "print(\n",
        "    model.estimate_effect(\n",
        "        model.identify_effect(),\n",
        "        method_name='iv.instrumental_variable',\n",
        "        test_significance=True))"
      ],
      "metadata": {
        "id": "FYyRZxq6jkAt",
        "outputId": "bde90a74-7349-43f8-aa9d-20ee9aff67ee",
        "colab": {
          "base_uri": "https://localhost:8080/"
        }
      },
      "execution_count": 55,
      "outputs": [
        {
          "output_type": "stream",
          "name": "stderr",
          "text": [
            "WARNING:dowhy.causal_identifier.auto_identifier:Backdoor identification failed.\n"
          ]
        },
        {
          "output_type": "stream",
          "name": "stdout",
          "text": [
            "*** Causal Estimate ***\n",
            "\n",
            "## Identified estimand\n",
            "Estimand type: EstimandType.NONPARAMETRIC_ATE\n",
            "\n",
            "### Estimand : 1\n",
            "Estimand name: iv\n",
            "Estimand expression:\n",
            " ⎡                   -1⎤\n",
            " ⎢ d      ⎛ d       ⎞  ⎥\n",
            "E⎢────(Y)⋅⎜────([X])⎟  ⎥\n",
            " ⎣d[Z]    ⎝d[Z]     ⎠  ⎦\n",
            "Estimand assumption 1, As-if-random: If U→→Y then ¬(U →→{Z})\n",
            "Estimand assumption 2, Exclusion: If we remove {Z}→{X}, then ¬({Z}→Y)\n",
            "\n",
            "## Realized estimand\n",
            "Realized estimand: Wald Estimator\n",
            "Realized estimand type: EstimandType.NONPARAMETRIC_ATE\n",
            "Estimand expression:\n",
            " ⎡d    ⎤  -1⎡d    ⎤\n",
            "E⎢──(Y)⎥⋅E  ⎢──(X)⎥\n",
            " ⎣dZ   ⎦    ⎣dZ   ⎦\n",
            "Estimand assumption 1, As-if-random: If U→→Y then ¬(U →→{Z})\n",
            "Estimand assumption 2, Exclusion: If we remove {Z}→{X}, then ¬({Z}→Y)\n",
            "Estimand assumption 3, treatment_effect_homogeneity: Each unit's treatment ['X'] is affected in the same way by common causes of ['X'] and ['Y']\n",
            "Estimand assumption 4, outcome_effect_homogeneity: Each unit's outcome ['Y'] is affected in the same way by common causes of ['X'] and ['Y']\n",
            "\n",
            "Target units: ate\n",
            "\n",
            "## Estimate\n",
            "Mean value: 0.9555555555555555\n",
            "p-value: [0, 0.001]\n",
            "\n"
          ]
        }
      ]
    },
    {
      "cell_type": "markdown",
      "source": [
        "Теперь немного поменяем данные:\n",
        "- Пусть Y в реальности зависит от скрытой переменной U но не зависит от X\n",
        "- Корреляция X и Y при этом объясняется именно общим влиянием U"
      ],
      "metadata": {
        "id": "cQjEs8__kFb4"
      }
    },
    {
      "cell_type": "code",
      "source": [
        "rs = np.random.RandomState(42)\n",
        "X = []\n",
        "Y = []\n",
        "Z = []\n",
        "U = []\n",
        "\n",
        "U+=[1]*100\n",
        "U+=[0]*100\n",
        "Z += [1]*100\n",
        "Z += [0] * 100\n",
        "rs.shuffle(Z)\n",
        "\n",
        "X = [int((z+u)/2) if rs.uniform()<0.85 else rs.randint(low=0, high=2) for u,z in zip(U, Z)]\n",
        "Y = [u for x,u in zip(X,U)]\n",
        "\n",
        "dataframe = pd.DataFrame({'X':X, 'Y':Y, 'Z':Z})\n",
        "dataframe.sample(5)"
      ],
      "metadata": {
        "id": "8mz9cz1Vju1b",
        "outputId": "46566279-eca3-49fa-afd3-0f16b7b3de65",
        "colab": {
          "base_uri": "https://localhost:8080/",
          "height": 223
        }
      },
      "execution_count": 56,
      "outputs": [
        {
          "output_type": "execute_result",
          "data": {
            "text/plain": [
              "     X  Y  Z\n",
              "123  0  0  0\n",
              "144  1  0  1\n",
              "12   0  1  0\n",
              "45   1  1  0\n",
              "59   1  1  1"
            ],
            "text/html": [
              "\n",
              "  <div id=\"df-43bee5c4-8f62-4de4-b25f-7acdb61e91c9\" class=\"colab-df-container\">\n",
              "    <div>\n",
              "<style scoped>\n",
              "    .dataframe tbody tr th:only-of-type {\n",
              "        vertical-align: middle;\n",
              "    }\n",
              "\n",
              "    .dataframe tbody tr th {\n",
              "        vertical-align: top;\n",
              "    }\n",
              "\n",
              "    .dataframe thead th {\n",
              "        text-align: right;\n",
              "    }\n",
              "</style>\n",
              "<table border=\"1\" class=\"dataframe\">\n",
              "  <thead>\n",
              "    <tr style=\"text-align: right;\">\n",
              "      <th></th>\n",
              "      <th>X</th>\n",
              "      <th>Y</th>\n",
              "      <th>Z</th>\n",
              "    </tr>\n",
              "  </thead>\n",
              "  <tbody>\n",
              "    <tr>\n",
              "      <th>123</th>\n",
              "      <td>0</td>\n",
              "      <td>0</td>\n",
              "      <td>0</td>\n",
              "    </tr>\n",
              "    <tr>\n",
              "      <th>144</th>\n",
              "      <td>1</td>\n",
              "      <td>0</td>\n",
              "      <td>1</td>\n",
              "    </tr>\n",
              "    <tr>\n",
              "      <th>12</th>\n",
              "      <td>0</td>\n",
              "      <td>1</td>\n",
              "      <td>0</td>\n",
              "    </tr>\n",
              "    <tr>\n",
              "      <th>45</th>\n",
              "      <td>1</td>\n",
              "      <td>1</td>\n",
              "      <td>0</td>\n",
              "    </tr>\n",
              "    <tr>\n",
              "      <th>59</th>\n",
              "      <td>1</td>\n",
              "      <td>1</td>\n",
              "      <td>1</td>\n",
              "    </tr>\n",
              "  </tbody>\n",
              "</table>\n",
              "</div>\n",
              "    <div class=\"colab-df-buttons\">\n",
              "\n",
              "  <div class=\"colab-df-container\">\n",
              "    <button class=\"colab-df-convert\" onclick=\"convertToInteractive('df-43bee5c4-8f62-4de4-b25f-7acdb61e91c9')\"\n",
              "            title=\"Convert this dataframe to an interactive table.\"\n",
              "            style=\"display:none;\">\n",
              "\n",
              "  <svg xmlns=\"http://www.w3.org/2000/svg\" height=\"24px\" viewBox=\"0 -960 960 960\">\n",
              "    <path d=\"M120-120v-720h720v720H120Zm60-500h600v-160H180v160Zm220 220h160v-160H400v160Zm0 220h160v-160H400v160ZM180-400h160v-160H180v160Zm440 0h160v-160H620v160ZM180-180h160v-160H180v160Zm440 0h160v-160H620v160Z\"/>\n",
              "  </svg>\n",
              "    </button>\n",
              "\n",
              "  <style>\n",
              "    .colab-df-container {\n",
              "      display:flex;\n",
              "      gap: 12px;\n",
              "    }\n",
              "\n",
              "    .colab-df-convert {\n",
              "      background-color: #E8F0FE;\n",
              "      border: none;\n",
              "      border-radius: 50%;\n",
              "      cursor: pointer;\n",
              "      display: none;\n",
              "      fill: #1967D2;\n",
              "      height: 32px;\n",
              "      padding: 0 0 0 0;\n",
              "      width: 32px;\n",
              "    }\n",
              "\n",
              "    .colab-df-convert:hover {\n",
              "      background-color: #E2EBFA;\n",
              "      box-shadow: 0px 1px 2px rgba(60, 64, 67, 0.3), 0px 1px 3px 1px rgba(60, 64, 67, 0.15);\n",
              "      fill: #174EA6;\n",
              "    }\n",
              "\n",
              "    .colab-df-buttons div {\n",
              "      margin-bottom: 4px;\n",
              "    }\n",
              "\n",
              "    [theme=dark] .colab-df-convert {\n",
              "      background-color: #3B4455;\n",
              "      fill: #D2E3FC;\n",
              "    }\n",
              "\n",
              "    [theme=dark] .colab-df-convert:hover {\n",
              "      background-color: #434B5C;\n",
              "      box-shadow: 0px 1px 3px 1px rgba(0, 0, 0, 0.15);\n",
              "      filter: drop-shadow(0px 1px 2px rgba(0, 0, 0, 0.3));\n",
              "      fill: #FFFFFF;\n",
              "    }\n",
              "  </style>\n",
              "\n",
              "    <script>\n",
              "      const buttonEl =\n",
              "        document.querySelector('#df-43bee5c4-8f62-4de4-b25f-7acdb61e91c9 button.colab-df-convert');\n",
              "      buttonEl.style.display =\n",
              "        google.colab.kernel.accessAllowed ? 'block' : 'none';\n",
              "\n",
              "      async function convertToInteractive(key) {\n",
              "        const element = document.querySelector('#df-43bee5c4-8f62-4de4-b25f-7acdb61e91c9');\n",
              "        const dataTable =\n",
              "          await google.colab.kernel.invokeFunction('convertToInteractive',\n",
              "                                                    [key], {});\n",
              "        if (!dataTable) return;\n",
              "\n",
              "        const docLinkHtml = 'Like what you see? Visit the ' +\n",
              "          '<a target=\"_blank\" href=https://colab.research.google.com/notebooks/data_table.ipynb>data table notebook</a>'\n",
              "          + ' to learn more about interactive tables.';\n",
              "        element.innerHTML = '';\n",
              "        dataTable['output_type'] = 'display_data';\n",
              "        await google.colab.output.renderOutput(dataTable, element);\n",
              "        const docLink = document.createElement('div');\n",
              "        docLink.innerHTML = docLinkHtml;\n",
              "        element.appendChild(docLink);\n",
              "      }\n",
              "    </script>\n",
              "  </div>\n",
              "\n",
              "\n",
              "<div id=\"df-6617c142-e89b-4bb1-8079-b367751d3a47\">\n",
              "  <button class=\"colab-df-quickchart\" onclick=\"quickchart('df-6617c142-e89b-4bb1-8079-b367751d3a47')\"\n",
              "            title=\"Suggest charts\"\n",
              "            style=\"display:none;\">\n",
              "\n",
              "<svg xmlns=\"http://www.w3.org/2000/svg\" height=\"24px\"viewBox=\"0 0 24 24\"\n",
              "     width=\"24px\">\n",
              "    <g>\n",
              "        <path d=\"M19 3H5c-1.1 0-2 .9-2 2v14c0 1.1.9 2 2 2h14c1.1 0 2-.9 2-2V5c0-1.1-.9-2-2-2zM9 17H7v-7h2v7zm4 0h-2V7h2v10zm4 0h-2v-4h2v4z\"/>\n",
              "    </g>\n",
              "</svg>\n",
              "  </button>\n",
              "\n",
              "<style>\n",
              "  .colab-df-quickchart {\n",
              "      --bg-color: #E8F0FE;\n",
              "      --fill-color: #1967D2;\n",
              "      --hover-bg-color: #E2EBFA;\n",
              "      --hover-fill-color: #174EA6;\n",
              "      --disabled-fill-color: #AAA;\n",
              "      --disabled-bg-color: #DDD;\n",
              "  }\n",
              "\n",
              "  [theme=dark] .colab-df-quickchart {\n",
              "      --bg-color: #3B4455;\n",
              "      --fill-color: #D2E3FC;\n",
              "      --hover-bg-color: #434B5C;\n",
              "      --hover-fill-color: #FFFFFF;\n",
              "      --disabled-bg-color: #3B4455;\n",
              "      --disabled-fill-color: #666;\n",
              "  }\n",
              "\n",
              "  .colab-df-quickchart {\n",
              "    background-color: var(--bg-color);\n",
              "    border: none;\n",
              "    border-radius: 50%;\n",
              "    cursor: pointer;\n",
              "    display: none;\n",
              "    fill: var(--fill-color);\n",
              "    height: 32px;\n",
              "    padding: 0;\n",
              "    width: 32px;\n",
              "  }\n",
              "\n",
              "  .colab-df-quickchart:hover {\n",
              "    background-color: var(--hover-bg-color);\n",
              "    box-shadow: 0 1px 2px rgba(60, 64, 67, 0.3), 0 1px 3px 1px rgba(60, 64, 67, 0.15);\n",
              "    fill: var(--button-hover-fill-color);\n",
              "  }\n",
              "\n",
              "  .colab-df-quickchart-complete:disabled,\n",
              "  .colab-df-quickchart-complete:disabled:hover {\n",
              "    background-color: var(--disabled-bg-color);\n",
              "    fill: var(--disabled-fill-color);\n",
              "    box-shadow: none;\n",
              "  }\n",
              "\n",
              "  .colab-df-spinner {\n",
              "    border: 2px solid var(--fill-color);\n",
              "    border-color: transparent;\n",
              "    border-bottom-color: var(--fill-color);\n",
              "    animation:\n",
              "      spin 1s steps(1) infinite;\n",
              "  }\n",
              "\n",
              "  @keyframes spin {\n",
              "    0% {\n",
              "      border-color: transparent;\n",
              "      border-bottom-color: var(--fill-color);\n",
              "      border-left-color: var(--fill-color);\n",
              "    }\n",
              "    20% {\n",
              "      border-color: transparent;\n",
              "      border-left-color: var(--fill-color);\n",
              "      border-top-color: var(--fill-color);\n",
              "    }\n",
              "    30% {\n",
              "      border-color: transparent;\n",
              "      border-left-color: var(--fill-color);\n",
              "      border-top-color: var(--fill-color);\n",
              "      border-right-color: var(--fill-color);\n",
              "    }\n",
              "    40% {\n",
              "      border-color: transparent;\n",
              "      border-right-color: var(--fill-color);\n",
              "      border-top-color: var(--fill-color);\n",
              "    }\n",
              "    60% {\n",
              "      border-color: transparent;\n",
              "      border-right-color: var(--fill-color);\n",
              "    }\n",
              "    80% {\n",
              "      border-color: transparent;\n",
              "      border-right-color: var(--fill-color);\n",
              "      border-bottom-color: var(--fill-color);\n",
              "    }\n",
              "    90% {\n",
              "      border-color: transparent;\n",
              "      border-bottom-color: var(--fill-color);\n",
              "    }\n",
              "  }\n",
              "</style>\n",
              "\n",
              "  <script>\n",
              "    async function quickchart(key) {\n",
              "      const quickchartButtonEl =\n",
              "        document.querySelector('#' + key + ' button');\n",
              "      quickchartButtonEl.disabled = true;  // To prevent multiple clicks.\n",
              "      quickchartButtonEl.classList.add('colab-df-spinner');\n",
              "      try {\n",
              "        const charts = await google.colab.kernel.invokeFunction(\n",
              "            'suggestCharts', [key], {});\n",
              "      } catch (error) {\n",
              "        console.error('Error during call to suggestCharts:', error);\n",
              "      }\n",
              "      quickchartButtonEl.classList.remove('colab-df-spinner');\n",
              "      quickchartButtonEl.classList.add('colab-df-quickchart-complete');\n",
              "    }\n",
              "    (() => {\n",
              "      let quickchartButtonEl =\n",
              "        document.querySelector('#df-6617c142-e89b-4bb1-8079-b367751d3a47 button');\n",
              "      quickchartButtonEl.style.display =\n",
              "        google.colab.kernel.accessAllowed ? 'block' : 'none';\n",
              "    })();\n",
              "  </script>\n",
              "</div>\n",
              "    </div>\n",
              "  </div>\n"
            ],
            "application/vnd.google.colaboratory.intrinsic+json": {
              "type": "dataframe",
              "summary": "{\n  \"name\": \"dataframe\",\n  \"rows\": 5,\n  \"fields\": [\n    {\n      \"column\": \"X\",\n      \"properties\": {\n        \"dtype\": \"number\",\n        \"std\": 0,\n        \"min\": 0,\n        \"max\": 1,\n        \"num_unique_values\": 2,\n        \"samples\": [\n          1,\n          0\n        ],\n        \"semantic_type\": \"\",\n        \"description\": \"\"\n      }\n    },\n    {\n      \"column\": \"Y\",\n      \"properties\": {\n        \"dtype\": \"number\",\n        \"std\": 0,\n        \"min\": 0,\n        \"max\": 1,\n        \"num_unique_values\": 2,\n        \"samples\": [\n          1,\n          0\n        ],\n        \"semantic_type\": \"\",\n        \"description\": \"\"\n      }\n    },\n    {\n      \"column\": \"Z\",\n      \"properties\": {\n        \"dtype\": \"number\",\n        \"std\": 0,\n        \"min\": 0,\n        \"max\": 1,\n        \"num_unique_values\": 2,\n        \"samples\": [\n          1,\n          0\n        ],\n        \"semantic_type\": \"\",\n        \"description\": \"\"\n      }\n    }\n  ]\n}"
            }
          },
          "metadata": {},
          "execution_count": 56
        }
      ]
    },
    {
      "cell_type": "code",
      "source": [
        "model = CausalModel(\n",
        "    data=dataframe,\n",
        "    treatment=['X'],\n",
        "    outcome=[\"Y\"])\n",
        "model.interpret()"
      ],
      "metadata": {
        "id": "wjGNcrwukdM0",
        "outputId": "89836977-f3d7-487e-c1bd-c6c1892afeee",
        "colab": {
          "base_uri": "https://localhost:8080/",
          "height": 587
        }
      },
      "execution_count": 57,
      "outputs": [
        {
          "output_type": "stream",
          "name": "stderr",
          "text": [
            "WARNING:dowhy.causal_model:Causal Graph not provided. DoWhy will construct a graph based on data inputs.\n",
            "WARNING:dowhy.causal_model:Relevant variables to build causal graph not provided. You may want to use the learn_graph() function to construct the causal graph.\n",
            "WARNING:dowhy.causal_model:There are an additional 1 variables in the dataset that are not in the graph. Variable names are: '['Z']'\n"
          ]
        },
        {
          "output_type": "stream",
          "name": "stdout",
          "text": [
            "Model to find the causal effect of treatment ['X'] on outcome ['Y']\n"
          ]
        },
        {
          "output_type": "display_data",
          "data": {
            "text/plain": [
              "<Figure size 800x600 with 1 Axes>"
            ],
            "image/png": "[encoded data removed]"
          },
          "metadata": {}
        }
      ]
    },
    {
      "cell_type": "code",
      "source": [
        "print(model.identify_effect())"
      ],
      "metadata": {
        "id": "BqPX2O0QkOoj",
        "outputId": "9727d48b-3681-4ac4-920f-75e70032af58",
        "colab": {
          "base_uri": "https://localhost:8080/"
        }
      },
      "execution_count": 58,
      "outputs": [
        {
          "output_type": "stream",
          "name": "stdout",
          "text": [
            "Estimand type: EstimandType.NONPARAMETRIC_ATE\n",
            "\n",
            "### Estimand : 1\n",
            "Estimand name: backdoor\n",
            "Estimand expression:\n",
            " d        \n",
            "────(E[Y])\n",
            "d[X]      \n",
            "Estimand assumption 1, Unconfoundedness: If U→{X} and U→Y then P(Y|X,,U) = P(Y|X,)\n",
            "\n",
            "### Estimand : 2\n",
            "Estimand name: iv\n",
            "No such variable(s) found!\n",
            "\n",
            "### Estimand : 3\n",
            "Estimand name: frontdoor\n",
            "No such variable(s) found!\n",
            "\n"
          ]
        }
      ]
    },
    {
      "cell_type": "code",
      "source": [
        "print(\n",
        "    model.estimate_effect(\n",
        "        model.identify_effect(),\n",
        "        method_name='backdoor.linear_regression',\n",
        "        test_significance=True))"
      ],
      "metadata": {
        "id": "6s7kvmqJkSxo",
        "outputId": "4e40f8bd-12d4-41d4-9812-55f480c0416e",
        "colab": {
          "base_uri": "https://localhost:8080/"
        }
      },
      "execution_count": 59,
      "outputs": [
        {
          "output_type": "stream",
          "name": "stdout",
          "text": [
            "*** Causal Estimate ***\n",
            "\n",
            "## Identified estimand\n",
            "Estimand type: EstimandType.NONPARAMETRIC_ATE\n",
            "\n",
            "### Estimand : 1\n",
            "Estimand name: backdoor\n",
            "Estimand expression:\n",
            " d        \n",
            "────(E[Y])\n",
            "d[X]      \n",
            "Estimand assumption 1, Unconfoundedness: If U→{X} and U→Y then P(Y|X,,U) = P(Y|X,)\n",
            "\n",
            "## Realized estimand\n",
            "b: Y~X\n",
            "Target units: ate\n",
            "\n",
            "## Estimate\n",
            "Mean value: 0.5893416927899682\n",
            "p-value: [1.20665026e-15]\n",
            "\n"
          ]
        }
      ]
    },
    {
      "cell_type": "code",
      "source": [
        "model = CausalModel(\n",
        "    data=dataframe,\n",
        "    treatment=['X'],\n",
        "    instruments=['Z'],\n",
        "    outcome=[\"Y\"],\n",
        "    graph=causal_graph)\n",
        "model.interpret()"
      ],
      "metadata": {
        "id": "i8Cd_6QxkU2F",
        "outputId": "86ad6370-e7ae-4edd-f9c7-6a7a23787cec",
        "colab": {
          "base_uri": "https://localhost:8080/",
          "height": 587
        }
      },
      "execution_count": 60,
      "outputs": [
        {
          "output_type": "stream",
          "name": "stderr",
          "text": [
            "ERROR:dowhy.causal_graph:Error: Pygraphviz cannot be loaded. No module named 'pygraphviz'\n",
            "Trying pydot ...\n",
            "WARNING:dowhy.causal_model:The graph defines 4 variables. 3 were found in the dataset and will be analyzed as observed variables. 1 were not found in the dataset and will be analyzed as unobserved variables. The observed variables are: '['X', 'Y', 'Z']'. The unobserved variables are: '['U']'. If this matches your expectations for observations, please continue. If you expected any of the unobserved variables to be in the dataframe, please check for typos.\n"
          ]
        },
        {
          "output_type": "stream",
          "name": "stdout",
          "text": [
            "Model to find the causal effect of treatment ['X'] on outcome ['Y']\n"
          ]
        },
        {
          "output_type": "display_data",
          "data": {
            "text/plain": [
              "<Figure size 800x600 with 1 Axes>"
            ],
            "image/png": "[encoded data removed]"
          },
          "metadata": {}
        }
      ]
    },
    {
      "cell_type": "code",
      "source": [
        "print(model.identify_effect())"
      ],
      "metadata": {
        "id": "kCJoCSjnkvPz",
        "outputId": "171beb17-0a7a-4399-faf6-5b4a9ba220f4",
        "colab": {
          "base_uri": "https://localhost:8080/"
        }
      },
      "execution_count": 61,
      "outputs": [
        {
          "output_type": "stream",
          "name": "stderr",
          "text": [
            "WARNING:dowhy.causal_identifier.auto_identifier:Backdoor identification failed.\n"
          ]
        },
        {
          "output_type": "stream",
          "name": "stdout",
          "text": [
            "Estimand type: EstimandType.NONPARAMETRIC_ATE\n",
            "\n",
            "### Estimand : 1\n",
            "Estimand name: backdoor\n",
            "No such variable(s) found!\n",
            "\n",
            "### Estimand : 2\n",
            "Estimand name: iv\n",
            "Estimand expression:\n",
            " ⎡                   -1⎤\n",
            " ⎢ d      ⎛ d       ⎞  ⎥\n",
            "E⎢────(Y)⋅⎜────([X])⎟  ⎥\n",
            " ⎣d[Z]    ⎝d[Z]     ⎠  ⎦\n",
            "Estimand assumption 1, As-if-random: If U→→Y then ¬(U →→{Z})\n",
            "Estimand assumption 2, Exclusion: If we remove {Z}→{X}, then ¬({Z}→Y)\n",
            "\n",
            "### Estimand : 3\n",
            "Estimand name: frontdoor\n",
            "No such variable(s) found!\n",
            "\n"
          ]
        }
      ]
    },
    {
      "cell_type": "code",
      "source": [
        "print(\n",
        "    model.estimate_effect(\n",
        "        model.identify_effect(),\n",
        "        method_name='iv.instrumental_variable',\n",
        "        test_significance=True))"
      ],
      "metadata": {
        "id": "pecq1ZPukxvq",
        "outputId": "34701666-c45f-42a2-ab4c-54b8c75413f6",
        "colab": {
          "base_uri": "https://localhost:8080/"
        }
      },
      "execution_count": 62,
      "outputs": [
        {
          "output_type": "stream",
          "name": "stderr",
          "text": [
            "WARNING:dowhy.causal_identifier.auto_identifier:Backdoor identification failed.\n"
          ]
        },
        {
          "output_type": "stream",
          "name": "stdout",
          "text": [
            "*** Causal Estimate ***\n",
            "\n",
            "## Identified estimand\n",
            "Estimand type: EstimandType.NONPARAMETRIC_ATE\n",
            "\n",
            "### Estimand : 1\n",
            "Estimand name: iv\n",
            "Estimand expression:\n",
            " ⎡                   -1⎤\n",
            " ⎢ d      ⎛ d       ⎞  ⎥\n",
            "E⎢────(Y)⋅⎜────([X])⎟  ⎥\n",
            " ⎣d[Z]    ⎝d[Z]     ⎠  ⎦\n",
            "Estimand assumption 1, As-if-random: If U→→Y then ¬(U →→{Z})\n",
            "Estimand assumption 2, Exclusion: If we remove {Z}→{X}, then ¬({Z}→Y)\n",
            "\n",
            "## Realized estimand\n",
            "Realized estimand: Wald Estimator\n",
            "Realized estimand type: EstimandType.NONPARAMETRIC_ATE\n",
            "Estimand expression:\n",
            " ⎡d    ⎤  -1⎡d    ⎤\n",
            "E⎢──(Y)⎥⋅E  ⎢──(X)⎥\n",
            " ⎣dZ   ⎦    ⎣dZ   ⎦\n",
            "Estimand assumption 1, As-if-random: If U→→Y then ¬(U →→{Z})\n",
            "Estimand assumption 2, Exclusion: If we remove {Z}→{X}, then ¬({Z}→Y)\n",
            "Estimand assumption 3, treatment_effect_homogeneity: Each unit's treatment ['X'] is affected in the same way by common causes of ['X'] and ['Y']\n",
            "Estimand assumption 4, outcome_effect_homogeneity: Each unit's outcome ['Y'] is affected in the same way by common causes of ['X'] and ['Y']\n",
            "\n",
            "Target units: ate\n",
            "\n",
            "## Estimate\n",
            "Mean value: 0.04444444444444448\n",
            "p-value: 0.476\n",
            "\n"
          ]
        }
      ]
    },
    {
      "cell_type": "markdown",
      "source": [
        "## Социо-Экономический Статус"
      ],
      "metadata": {
        "id": "BD_8IzP9lANv"
      }
    },
    {
      "cell_type": "code",
      "source": [
        "causal_graph = \"\"\"digraph {\n",
        "X[label=\"X\"];\n",
        "Y[label=\"Y\"];\n",
        "Z[label=\"Z\"];\n",
        "U[label=\"Unobserved Confounders\",observed=\"no\"];\n",
        "U->{X;Z};\n",
        "X->{Y};\n",
        "Z->{Y};\n",
        "}\"\"\""
      ],
      "metadata": {
        "id": "2ULli3nAkzww"
      },
      "execution_count": 63,
      "outputs": []
    },
    {
      "cell_type": "code",
      "source": [
        "rs = np.random.RandomState(42)\n",
        "U = [] # социо-экономический статус\n",
        "X = [] # лечение больного\n",
        "Y = [] # успешное лечение\n",
        "Z = [] # наличие лишнего веса\n",
        "\n",
        "U+=[1]*100\n",
        "U+=[0]*100\n",
        "\n",
        "Z = [u if rs.uniform()<0.85 else rs.randint(low=0, high=2) for u in U] #\n",
        "X = [u if rs.uniform()<0.85 else rs.randint(low=0, high=2) for u in U]\n",
        "Y = []\n",
        "for x,z in zip(X,Z):\n",
        "    # будем считать, что человек успешно вылечился, если назначено адекватное лечение и у него нет лишнего веса\n",
        "    y = int((x + (1-z))/2)\n",
        "    Y.append(y)\n",
        "\n",
        "\n",
        "dataframe = pd.DataFrame({'X':X, 'Y':Y, 'Z':Z})\n",
        "dataframe.sample(5)"
      ],
      "metadata": {
        "id": "ucSxJo2AlFfD",
        "outputId": "f608d2db-5104-4d54-bb23-797202576020",
        "colab": {
          "base_uri": "https://localhost:8080/",
          "height": 223
        }
      },
      "execution_count": 64,
      "outputs": [
        {
          "output_type": "execute_result",
          "data": {
            "text/plain": [
              "     X  Y  Z\n",
              "120  0  0  0\n",
              "172  0  0  0\n",
              "19   1  0  1\n",
              "147  0  0  0\n",
              "160  1  1  0"
            ],
            "text/html": [
              "\n",
              "  <div id=\"df-515e0658-ff17-4f30-9266-b38a412f2dbd\" class=\"colab-df-container\">\n",
              "    <div>\n",
              "<style scoped>\n",
              "    .dataframe tbody tr th:only-of-type {\n",
              "        vertical-align: middle;\n",
              "    }\n",
              "\n",
              "    .dataframe tbody tr th {\n",
              "        vertical-align: top;\n",
              "    }\n",
              "\n",
              "    .dataframe thead th {\n",
              "        text-align: right;\n",
              "    }\n",
              "</style>\n",
              "<table border=\"1\" class=\"dataframe\">\n",
              "  <thead>\n",
              "    <tr style=\"text-align: right;\">\n",
              "      <th></th>\n",
              "      <th>X</th>\n",
              "      <th>Y</th>\n",
              "      <th>Z</th>\n",
              "    </tr>\n",
              "  </thead>\n",
              "  <tbody>\n",
              "    <tr>\n",
              "      <th>120</th>\n",
              "      <td>0</td>\n",
              "      <td>0</td>\n",
              "      <td>0</td>\n",
              "    </tr>\n",
              "    <tr>\n",
              "      <th>172</th>\n",
              "      <td>0</td>\n",
              "      <td>0</td>\n",
              "      <td>0</td>\n",
              "    </tr>\n",
              "    <tr>\n",
              "      <th>19</th>\n",
              "      <td>1</td>\n",
              "      <td>0</td>\n",
              "      <td>1</td>\n",
              "    </tr>\n",
              "    <tr>\n",
              "      <th>147</th>\n",
              "      <td>0</td>\n",
              "      <td>0</td>\n",
              "      <td>0</td>\n",
              "    </tr>\n",
              "    <tr>\n",
              "      <th>160</th>\n",
              "      <td>1</td>\n",
              "      <td>1</td>\n",
              "      <td>0</td>\n",
              "    </tr>\n",
              "  </tbody>\n",
              "</table>\n",
              "</div>\n",
              "    <div class=\"colab-df-buttons\">\n",
              "\n",
              "  <div class=\"colab-df-container\">\n",
              "    <button class=\"colab-df-convert\" onclick=\"convertToInteractive('df-515e0658-ff17-4f30-9266-b38a412f2dbd')\"\n",
              "            title=\"Convert this dataframe to an interactive table.\"\n",
              "            style=\"display:none;\">\n",
              "\n",
              "  <svg xmlns=\"http://www.w3.org/2000/svg\" height=\"24px\" viewBox=\"0 -960 960 960\">\n",
              "    <path d=\"M120-120v-720h720v720H120Zm60-500h600v-160H180v160Zm220 220h160v-160H400v160Zm0 220h160v-160H400v160ZM180-400h160v-160H180v160Zm440 0h160v-160H620v160ZM180-180h160v-160H180v160Zm440 0h160v-160H620v160Z\"/>\n",
              "  </svg>\n",
              "    </button>\n",
              "\n",
              "  <style>\n",
              "    .colab-df-container {\n",
              "      display:flex;\n",
              "      gap: 12px;\n",
              "    }\n",
              "\n",
              "    .colab-df-convert {\n",
              "      background-color: #E8F0FE;\n",
              "      border: none;\n",
              "      border-radius: 50%;\n",
              "      cursor: pointer;\n",
              "      display: none;\n",
              "      fill: #1967D2;\n",
              "      height: 32px;\n",
              "      padding: 0 0 0 0;\n",
              "      width: 32px;\n",
              "    }\n",
              "\n",
              "    .colab-df-convert:hover {\n",
              "      background-color: #E2EBFA;\n",
              "      box-shadow: 0px 1px 2px rgba(60, 64, 67, 0.3), 0px 1px 3px 1px rgba(60, 64, 67, 0.15);\n",
              "      fill: #174EA6;\n",
              "    }\n",
              "\n",
              "    .colab-df-buttons div {\n",
              "      margin-bottom: 4px;\n",
              "    }\n",
              "\n",
              "    [theme=dark] .colab-df-convert {\n",
              "      background-color: #3B4455;\n",
              "      fill: #D2E3FC;\n",
              "    }\n",
              "\n",
              "    [theme=dark] .colab-df-convert:hover {\n",
              "      background-color: #434B5C;\n",
              "      box-shadow: 0px 1px 3px 1px rgba(0, 0, 0, 0.15);\n",
              "      filter: drop-shadow(0px 1px 2px rgba(0, 0, 0, 0.3));\n",
              "      fill: #FFFFFF;\n",
              "    }\n",
              "  </style>\n",
              "\n",
              "    <script>\n",
              "      const buttonEl =\n",
              "        document.querySelector('#df-515e0658-ff17-4f30-9266-b38a412f2dbd button.colab-df-convert');\n",
              "      buttonEl.style.display =\n",
              "        google.colab.kernel.accessAllowed ? 'block' : 'none';\n",
              "\n",
              "      async function convertToInteractive(key) {\n",
              "        const element = document.querySelector('#df-515e0658-ff17-4f30-9266-b38a412f2dbd');\n",
              "        const dataTable =\n",
              "          await google.colab.kernel.invokeFunction('convertToInteractive',\n",
              "                                                    [key], {});\n",
              "        if (!dataTable) return;\n",
              "\n",
              "        const docLinkHtml = 'Like what you see? Visit the ' +\n",
              "          '<a target=\"_blank\" href=https://colab.research.google.com/notebooks/data_table.ipynb>data table notebook</a>'\n",
              "          + ' to learn more about interactive tables.';\n",
              "        element.innerHTML = '';\n",
              "        dataTable['output_type'] = 'display_data';\n",
              "        await google.colab.output.renderOutput(dataTable, element);\n",
              "        const docLink = document.createElement('div');\n",
              "        docLink.innerHTML = docLinkHtml;\n",
              "        element.appendChild(docLink);\n",
              "      }\n",
              "    </script>\n",
              "  </div>\n",
              "\n",
              "\n",
              "<div id=\"df-8f3496ef-4d83-49f0-8522-5503b8f2c714\">\n",
              "  <button class=\"colab-df-quickchart\" onclick=\"quickchart('df-8f3496ef-4d83-49f0-8522-5503b8f2c714')\"\n",
              "            title=\"Suggest charts\"\n",
              "            style=\"display:none;\">\n",
              "\n",
              "<svg xmlns=\"http://www.w3.org/2000/svg\" height=\"24px\"viewBox=\"0 0 24 24\"\n",
              "     width=\"24px\">\n",
              "    <g>\n",
              "        <path d=\"M19 3H5c-1.1 0-2 .9-2 2v14c0 1.1.9 2 2 2h14c1.1 0 2-.9 2-2V5c0-1.1-.9-2-2-2zM9 17H7v-7h2v7zm4 0h-2V7h2v10zm4 0h-2v-4h2v4z\"/>\n",
              "    </g>\n",
              "</svg>\n",
              "  </button>\n",
              "\n",
              "<style>\n",
              "  .colab-df-quickchart {\n",
              "      --bg-color: #E8F0FE;\n",
              "      --fill-color: #1967D2;\n",
              "      --hover-bg-color: #E2EBFA;\n",
              "      --hover-fill-color: #174EA6;\n",
              "      --disabled-fill-color: #AAA;\n",
              "      --disabled-bg-color: #DDD;\n",
              "  }\n",
              "\n",
              "  [theme=dark] .colab-df-quickchart {\n",
              "      --bg-color: #3B4455;\n",
              "      --fill-color: #D2E3FC;\n",
              "      --hover-bg-color: #434B5C;\n",
              "      --hover-fill-color: #FFFFFF;\n",
              "      --disabled-bg-color: #3B4455;\n",
              "      --disabled-fill-color: #666;\n",
              "  }\n",
              "\n",
              "  .colab-df-quickchart {\n",
              "    background-color: var(--bg-color);\n",
              "    border: none;\n",
              "    border-radius: 50%;\n",
              "    cursor: pointer;\n",
              "    display: none;\n",
              "    fill: var(--fill-color);\n",
              "    height: 32px;\n",
              "    padding: 0;\n",
              "    width: 32px;\n",
              "  }\n",
              "\n",
              "  .colab-df-quickchart:hover {\n",
              "    background-color: var(--hover-bg-color);\n",
              "    box-shadow: 0 1px 2px rgba(60, 64, 67, 0.3), 0 1px 3px 1px rgba(60, 64, 67, 0.15);\n",
              "    fill: var(--button-hover-fill-color);\n",
              "  }\n",
              "\n",
              "  .colab-df-quickchart-complete:disabled,\n",
              "  .colab-df-quickchart-complete:disabled:hover {\n",
              "    background-color: var(--disabled-bg-color);\n",
              "    fill: var(--disabled-fill-color);\n",
              "    box-shadow: none;\n",
              "  }\n",
              "\n",
              "  .colab-df-spinner {\n",
              "    border: 2px solid var(--fill-color);\n",
              "    border-color: transparent;\n",
              "    border-bottom-color: var(--fill-color);\n",
              "    animation:\n",
              "      spin 1s steps(1) infinite;\n",
              "  }\n",
              "\n",
              "  @keyframes spin {\n",
              "    0% {\n",
              "      border-color: transparent;\n",
              "      border-bottom-color: var(--fill-color);\n",
              "      border-left-color: var(--fill-color);\n",
              "    }\n",
              "    20% {\n",
              "      border-color: transparent;\n",
              "      border-left-color: var(--fill-color);\n",
              "      border-top-color: var(--fill-color);\n",
              "    }\n",
              "    30% {\n",
              "      border-color: transparent;\n",
              "      border-left-color: var(--fill-color);\n",
              "      border-top-color: var(--fill-color);\n",
              "      border-right-color: var(--fill-color);\n",
              "    }\n",
              "    40% {\n",
              "      border-color: transparent;\n",
              "      border-right-color: var(--fill-color);\n",
              "      border-top-color: var(--fill-color);\n",
              "    }\n",
              "    60% {\n",
              "      border-color: transparent;\n",
              "      border-right-color: var(--fill-color);\n",
              "    }\n",
              "    80% {\n",
              "      border-color: transparent;\n",
              "      border-right-color: var(--fill-color);\n",
              "      border-bottom-color: var(--fill-color);\n",
              "    }\n",
              "    90% {\n",
              "      border-color: transparent;\n",
              "      border-bottom-color: var(--fill-color);\n",
              "    }\n",
              "  }\n",
              "</style>\n",
              "\n",
              "  <script>\n",
              "    async function quickchart(key) {\n",
              "      const quickchartButtonEl =\n",
              "        document.querySelector('#' + key + ' button');\n",
              "      quickchartButtonEl.disabled = true;  // To prevent multiple clicks.\n",
              "      quickchartButtonEl.classList.add('colab-df-spinner');\n",
              "      try {\n",
              "        const charts = await google.colab.kernel.invokeFunction(\n",
              "            'suggestCharts', [key], {});\n",
              "      } catch (error) {\n",
              "        console.error('Error during call to suggestCharts:', error);\n",
              "      }\n",
              "      quickchartButtonEl.classList.remove('colab-df-spinner');\n",
              "      quickchartButtonEl.classList.add('colab-df-quickchart-complete');\n",
              "    }\n",
              "    (() => {\n",
              "      let quickchartButtonEl =\n",
              "        document.querySelector('#df-8f3496ef-4d83-49f0-8522-5503b8f2c714 button');\n",
              "      quickchartButtonEl.style.display =\n",
              "        google.colab.kernel.accessAllowed ? 'block' : 'none';\n",
              "    })();\n",
              "  </script>\n",
              "</div>\n",
              "    </div>\n",
              "  </div>\n"
            ],
            "application/vnd.google.colaboratory.intrinsic+json": {
              "type": "dataframe",
              "summary": "{\n  \"name\": \"dataframe\",\n  \"rows\": 5,\n  \"fields\": [\n    {\n      \"column\": \"X\",\n      \"properties\": {\n        \"dtype\": \"number\",\n        \"std\": 0,\n        \"min\": 0,\n        \"max\": 1,\n        \"num_unique_values\": 2,\n        \"samples\": [\n          1,\n          0\n        ],\n        \"semantic_type\": \"\",\n        \"description\": \"\"\n      }\n    },\n    {\n      \"column\": \"Y\",\n      \"properties\": {\n        \"dtype\": \"number\",\n        \"std\": 0,\n        \"min\": 0,\n        \"max\": 1,\n        \"num_unique_values\": 2,\n        \"samples\": [\n          1,\n          0\n        ],\n        \"semantic_type\": \"\",\n        \"description\": \"\"\n      }\n    },\n    {\n      \"column\": \"Z\",\n      \"properties\": {\n        \"dtype\": \"number\",\n        \"std\": 0,\n        \"min\": 0,\n        \"max\": 1,\n        \"num_unique_values\": 2,\n        \"samples\": [\n          1,\n          0\n        ],\n        \"semantic_type\": \"\",\n        \"description\": \"\"\n      }\n    }\n  ]\n}"
            }
          },
          "metadata": {},
          "execution_count": 64
        }
      ]
    },
    {
      "cell_type": "code",
      "source": [
        "model = CausalModel(\n",
        "    data=dataframe,\n",
        "    treatment=['X'],\n",
        "    outcome=[\"Y\"])\n",
        "model.interpret()"
      ],
      "metadata": {
        "id": "7EBmsplElJD4",
        "outputId": "ea99a82a-e357-478c-9b20-1a9f3be8d102",
        "colab": {
          "base_uri": "https://localhost:8080/",
          "height": 587
        }
      },
      "execution_count": 65,
      "outputs": [
        {
          "output_type": "stream",
          "name": "stderr",
          "text": [
            "WARNING:dowhy.causal_model:Causal Graph not provided. DoWhy will construct a graph based on data inputs.\n",
            "WARNING:dowhy.causal_model:Relevant variables to build causal graph not provided. You may want to use the learn_graph() function to construct the causal graph.\n",
            "WARNING:dowhy.causal_model:There are an additional 1 variables in the dataset that are not in the graph. Variable names are: '['Z']'\n"
          ]
        },
        {
          "output_type": "stream",
          "name": "stdout",
          "text": [
            "Model to find the causal effect of treatment ['X'] on outcome ['Y']\n"
          ]
        },
        {
          "output_type": "display_data",
          "data": {
            "text/plain": [
              "<Figure size 800x600 with 1 Axes>"
            ],
            "image/png": "[encoded data removed]"
          },
          "metadata": {}
        }
      ]
    },
    {
      "cell_type": "code",
      "source": [
        "print(model.identify_effect())"
      ],
      "metadata": {
        "id": "WjYp05GtlN2Y",
        "outputId": "3c73267b-16b3-4044-a347-a9c5a91e4985",
        "colab": {
          "base_uri": "https://localhost:8080/"
        }
      },
      "execution_count": 66,
      "outputs": [
        {
          "output_type": "stream",
          "name": "stdout",
          "text": [
            "Estimand type: EstimandType.NONPARAMETRIC_ATE\n",
            "\n",
            "### Estimand : 1\n",
            "Estimand name: backdoor\n",
            "Estimand expression:\n",
            " d        \n",
            "────(E[Y])\n",
            "d[X]      \n",
            "Estimand assumption 1, Unconfoundedness: If U→{X} and U→Y then P(Y|X,,U) = P(Y|X,)\n",
            "\n",
            "### Estimand : 2\n",
            "Estimand name: iv\n",
            "No such variable(s) found!\n",
            "\n",
            "### Estimand : 3\n",
            "Estimand name: frontdoor\n",
            "No such variable(s) found!\n",
            "\n"
          ]
        }
      ]
    },
    {
      "cell_type": "code",
      "source": [
        "print(\n",
        "    model.estimate_effect(\n",
        "        model.identify_effect(),\n",
        "        method_name='backdoor.linear_regression',\n",
        "        test_significance=True))"
      ],
      "metadata": {
        "id": "bGV_fZBwlVEo",
        "outputId": "f91c694d-8dfa-44b8-f880-265bf8a28ee2",
        "colab": {
          "base_uri": "https://localhost:8080/"
        }
      },
      "execution_count": 67,
      "outputs": [
        {
          "output_type": "stream",
          "name": "stdout",
          "text": [
            "*** Causal Estimate ***\n",
            "\n",
            "## Identified estimand\n",
            "Estimand type: EstimandType.NONPARAMETRIC_ATE\n",
            "\n",
            "### Estimand : 1\n",
            "Estimand name: backdoor\n",
            "Estimand expression:\n",
            " d        \n",
            "────(E[Y])\n",
            "d[X]      \n",
            "Estimand assumption 1, Unconfoundedness: If U→{X} and U→Y then P(Y|X,,U) = P(Y|X,)\n",
            "\n",
            "## Realized estimand\n",
            "b: Y~X\n",
            "Target units: ate\n",
            "\n",
            "## Estimate\n",
            "Mean value: 0.11881188118811883\n",
            "p-value: [0.00035403]\n",
            "\n"
          ]
        }
      ]
    },
    {
      "cell_type": "code",
      "source": [
        "model = CausalModel(\n",
        "    data=dataframe,\n",
        "    treatment=['X'],\n",
        "    outcome=[\"Y\"],\n",
        "    graph=causal_graph)\n",
        "model.interpret()"
      ],
      "metadata": {
        "id": "GmvxlalElVqH",
        "outputId": "a8faffe5-eb42-42e1-e482-241bd406ba3a",
        "colab": {
          "base_uri": "https://localhost:8080/",
          "height": 587
        }
      },
      "execution_count": 68,
      "outputs": [
        {
          "output_type": "stream",
          "name": "stderr",
          "text": [
            "ERROR:dowhy.causal_graph:Error: Pygraphviz cannot be loaded. No module named 'pygraphviz'\n",
            "Trying pydot ...\n",
            "WARNING:dowhy.causal_model:The graph defines 4 variables. 3 were found in the dataset and will be analyzed as observed variables. 1 were not found in the dataset and will be analyzed as unobserved variables. The observed variables are: '['X', 'Y', 'Z']'. The unobserved variables are: '['U']'. If this matches your expectations for observations, please continue. If you expected any of the unobserved variables to be in the dataframe, please check for typos.\n"
          ]
        },
        {
          "output_type": "stream",
          "name": "stdout",
          "text": [
            "Model to find the causal effect of treatment ['X'] on outcome ['Y']\n"
          ]
        },
        {
          "output_type": "display_data",
          "data": {
            "text/plain": [
              "<Figure size 800x600 with 1 Axes>"
            ],
            "image/png": "[encoded data removed]"
          },
          "metadata": {}
        }
      ]
    },
    {
      "cell_type": "code",
      "source": [
        "print(model.identify_effect())"
      ],
      "metadata": {
        "id": "lfe_uhK-lcPs",
        "outputId": "4c2d01d1-9b64-4bb7-ffe0-4a0672bfe92d",
        "colab": {
          "base_uri": "https://localhost:8080/"
        }
      },
      "execution_count": 69,
      "outputs": [
        {
          "output_type": "stream",
          "name": "stdout",
          "text": [
            "Estimand type: EstimandType.NONPARAMETRIC_ATE\n",
            "\n",
            "### Estimand : 1\n",
            "Estimand name: backdoor\n",
            "Estimand expression:\n",
            " d          \n",
            "────(E[Y|Z])\n",
            "d[X]        \n",
            "Estimand assumption 1, Unconfoundedness: If U→{X} and U→Y then P(Y|X,Z,U) = P(Y|X,Z)\n",
            "\n",
            "### Estimand : 2\n",
            "Estimand name: iv\n",
            "No such variable(s) found!\n",
            "\n",
            "### Estimand : 3\n",
            "Estimand name: frontdoor\n",
            "No such variable(s) found!\n",
            "\n"
          ]
        }
      ]
    },
    {
      "cell_type": "code",
      "source": [
        "print(\n",
        "    model.estimate_effect(\n",
        "        model.identify_effect(),\n",
        "        method_name='backdoor.linear_regression',\n",
        "        test_significance=True))"
      ],
      "metadata": {
        "id": "IQxhgh23lepo",
        "outputId": "834a5d81-4919-4b51-9048-93487fbea6ff",
        "colab": {
          "base_uri": "https://localhost:8080/"
        }
      },
      "execution_count": 70,
      "outputs": [
        {
          "output_type": "stream",
          "name": "stdout",
          "text": [
            "*** Causal Estimate ***\n",
            "\n",
            "## Identified estimand\n",
            "Estimand type: EstimandType.NONPARAMETRIC_ATE\n",
            "\n",
            "### Estimand : 1\n",
            "Estimand name: backdoor\n",
            "Estimand expression:\n",
            " d          \n",
            "────(E[Y|Z])\n",
            "d[X]        \n",
            "Estimand assumption 1, Unconfoundedness: If U→{X} and U→Y then P(Y|X,Z,U) = P(Y|X,Z)\n",
            "\n",
            "## Realized estimand\n",
            "b: Y~X+Z+X*Z\n",
            "Target units: \n",
            "\n",
            "## Estimate\n",
            "Mean value: 0.4950000000000019\n",
            "p-value: [0.]\n",
            "### Conditional Estimates\n",
            "__categorical__Z\n",
            "(-0.001, 1.0]    0.495\n",
            "dtype: float64\n"
          ]
        }
      ]
    },
    {
      "cell_type": "markdown",
      "source": [
        "## И снова курение"
      ],
      "metadata": {
        "id": "wx-rFnIalwIb"
      }
    },
    {
      "cell_type": "code",
      "source": [
        "smoke = []\n",
        "cancer = []\n",
        "tar = []\n",
        "\n",
        "smoke += [1] * 323\n",
        "cancer += [0]*323\n",
        "tar+=[1]*323\n",
        "\n",
        "smoke+=[0]\n",
        "cancer+=[0]\n",
        "tar+=[1]\n",
        "\n",
        "smoke+=[1]*57\n",
        "cancer+=[1]*57\n",
        "tar+=[1]*57\n",
        "\n",
        "smoke+=[0]*19\n",
        "cancer+=[1]*19\n",
        "tar+=[1]*19\n",
        "\n",
        "\n",
        "smoke+=[1]*18\n",
        "cancer+=[0]*18\n",
        "tar+=[0]*18\n",
        "\n",
        "smoke+=[0]*38\n",
        "cancer+=[0]*38\n",
        "tar+=[0]*38\n",
        "\n",
        "smoke+=[1]*2\n",
        "cancer+=[1]*2\n",
        "tar+=[0]*2\n",
        "\n",
        "smoke+=[0]*342\n",
        "cancer+=[1]*342\n",
        "tar+=[0]*342\n",
        "\n",
        "dataframe = pd.DataFrame({'smoke':smoke, 'tar':tar, 'cancer':cancer})\n",
        "dataframe.sample(5)"
      ],
      "metadata": {
        "id": "4wN4btcGl0jS",
        "outputId": "f543bf19-4366-4241-e947-74e949e27cc5",
        "colab": {
          "base_uri": "https://localhost:8080/",
          "height": 223
        }
      },
      "execution_count": 71,
      "outputs": [
        {
          "output_type": "execute_result",
          "data": {
            "text/plain": [
              "     smoke  tar  cancer\n",
              "382      0    1       1\n",
              "442      0    0       0\n",
              "656      0    0       1\n",
              "361      1    1       1\n",
              "303      1    1       0"
            ],
            "text/html": [
              "\n",
              "  <div id=\"df-83e3621e-7681-47b8-8a30-1abb3ff58429\" class=\"colab-df-container\">\n",
              "    <div>\n",
              "<style scoped>\n",
              "    .dataframe tbody tr th:only-of-type {\n",
              "        vertical-align: middle;\n",
              "    }\n",
              "\n",
              "    .dataframe tbody tr th {\n",
              "        vertical-align: top;\n",
              "    }\n",
              "\n",
              "    .dataframe thead th {\n",
              "        text-align: right;\n",
              "    }\n",
              "</style>\n",
              "<table border=\"1\" class=\"dataframe\">\n",
              "  <thead>\n",
              "    <tr style=\"text-align: right;\">\n",
              "      <th></th>\n",
              "      <th>smoke</th>\n",
              "      <th>tar</th>\n",
              "      <th>cancer</th>\n",
              "    </tr>\n",
              "  </thead>\n",
              "  <tbody>\n",
              "    <tr>\n",
              "      <th>382</th>\n",
              "      <td>0</td>\n",
              "      <td>1</td>\n",
              "      <td>1</td>\n",
              "    </tr>\n",
              "    <tr>\n",
              "      <th>442</th>\n",
              "      <td>0</td>\n",
              "      <td>0</td>\n",
              "      <td>0</td>\n",
              "    </tr>\n",
              "    <tr>\n",
              "      <th>656</th>\n",
              "      <td>0</td>\n",
              "      <td>0</td>\n",
              "      <td>1</td>\n",
              "    </tr>\n",
              "    <tr>\n",
              "      <th>361</th>\n",
              "      <td>1</td>\n",
              "      <td>1</td>\n",
              "      <td>1</td>\n",
              "    </tr>\n",
              "    <tr>\n",
              "      <th>303</th>\n",
              "      <td>1</td>\n",
              "      <td>1</td>\n",
              "      <td>0</td>\n",
              "    </tr>\n",
              "  </tbody>\n",
              "</table>\n",
              "</div>\n",
              "    <div class=\"colab-df-buttons\">\n",
              "\n",
              "  <div class=\"colab-df-container\">\n",
              "    <button class=\"colab-df-convert\" onclick=\"convertToInteractive('df-83e3621e-7681-47b8-8a30-1abb3ff58429')\"\n",
              "            title=\"Convert this dataframe to an interactive table.\"\n",
              "            style=\"display:none;\">\n",
              "\n",
              "  <svg xmlns=\"http://www.w3.org/2000/svg\" height=\"24px\" viewBox=\"0 -960 960 960\">\n",
              "    <path d=\"M120-120v-720h720v720H120Zm60-500h600v-160H180v160Zm220 220h160v-160H400v160Zm0 220h160v-160H400v160ZM180-400h160v-160H180v160Zm440 0h160v-160H620v160ZM180-180h160v-160H180v160Zm440 0h160v-160H620v160Z\"/>\n",
              "  </svg>\n",
              "    </button>\n",
              "\n",
              "  <style>\n",
              "    .colab-df-container {\n",
              "      display:flex;\n",
              "      gap: 12px;\n",
              "    }\n",
              "\n",
              "    .colab-df-convert {\n",
              "      background-color: #E8F0FE;\n",
              "      border: none;\n",
              "      border-radius: 50%;\n",
              "      cursor: pointer;\n",
              "      display: none;\n",
              "      fill: #1967D2;\n",
              "      height: 32px;\n",
              "      padding: 0 0 0 0;\n",
              "      width: 32px;\n",
              "    }\n",
              "\n",
              "    .colab-df-convert:hover {\n",
              "      background-color: #E2EBFA;\n",
              "      box-shadow: 0px 1px 2px rgba(60, 64, 67, 0.3), 0px 1px 3px 1px rgba(60, 64, 67, 0.15);\n",
              "      fill: #174EA6;\n",
              "    }\n",
              "\n",
              "    .colab-df-buttons div {\n",
              "      margin-bottom: 4px;\n",
              "    }\n",
              "\n",
              "    [theme=dark] .colab-df-convert {\n",
              "      background-color: #3B4455;\n",
              "      fill: #D2E3FC;\n",
              "    }\n",
              "\n",
              "    [theme=dark] .colab-df-convert:hover {\n",
              "      background-color: #434B5C;\n",
              "      box-shadow: 0px 1px 3px 1px rgba(0, 0, 0, 0.15);\n",
              "      filter: drop-shadow(0px 1px 2px rgba(0, 0, 0, 0.3));\n",
              "      fill: #FFFFFF;\n",
              "    }\n",
              "  </style>\n",
              "\n",
              "    <script>\n",
              "      const buttonEl =\n",
              "        document.querySelector('#df-83e3621e-7681-47b8-8a30-1abb3ff58429 button.colab-df-convert');\n",
              "      buttonEl.style.display =\n",
              "        google.colab.kernel.accessAllowed ? 'block' : 'none';\n",
              "\n",
              "      async function convertToInteractive(key) {\n",
              "        const element = document.querySelector('#df-83e3621e-7681-47b8-8a30-1abb3ff58429');\n",
              "        const dataTable =\n",
              "          await google.colab.kernel.invokeFunction('convertToInteractive',\n",
              "                                                    [key], {});\n",
              "        if (!dataTable) return;\n",
              "\n",
              "        const docLinkHtml = 'Like what you see? Visit the ' +\n",
              "          '<a target=\"_blank\" href=https://colab.research.google.com/notebooks/data_table.ipynb>data table notebook</a>'\n",
              "          + ' to learn more about interactive tables.';\n",
              "        element.innerHTML = '';\n",
              "        dataTable['output_type'] = 'display_data';\n",
              "        await google.colab.output.renderOutput(dataTable, element);\n",
              "        const docLink = document.createElement('div');\n",
              "        docLink.innerHTML = docLinkHtml;\n",
              "        element.appendChild(docLink);\n",
              "      }\n",
              "    </script>\n",
              "  </div>\n",
              "\n",
              "\n",
              "<div id=\"df-1d21b294-ca0c-4e6f-9ea7-da9e1b02b063\">\n",
              "  <button class=\"colab-df-quickchart\" onclick=\"quickchart('df-1d21b294-ca0c-4e6f-9ea7-da9e1b02b063')\"\n",
              "            title=\"Suggest charts\"\n",
              "            style=\"display:none;\">\n",
              "\n",
              "<svg xmlns=\"http://www.w3.org/2000/svg\" height=\"24px\"viewBox=\"0 0 24 24\"\n",
              "     width=\"24px\">\n",
              "    <g>\n",
              "        <path d=\"M19 3H5c-1.1 0-2 .9-2 2v14c0 1.1.9 2 2 2h14c1.1 0 2-.9 2-2V5c0-1.1-.9-2-2-2zM9 17H7v-7h2v7zm4 0h-2V7h2v10zm4 0h-2v-4h2v4z\"/>\n",
              "    </g>\n",
              "</svg>\n",
              "  </button>\n",
              "\n",
              "<style>\n",
              "  .colab-df-quickchart {\n",
              "      --bg-color: #E8F0FE;\n",
              "      --fill-color: #1967D2;\n",
              "      --hover-bg-color: #E2EBFA;\n",
              "      --hover-fill-color: #174EA6;\n",
              "      --disabled-fill-color: #AAA;\n",
              "      --disabled-bg-color: #DDD;\n",
              "  }\n",
              "\n",
              "  [theme=dark] .colab-df-quickchart {\n",
              "      --bg-color: #3B4455;\n",
              "      --fill-color: #D2E3FC;\n",
              "      --hover-bg-color: #434B5C;\n",
              "      --hover-fill-color: #FFFFFF;\n",
              "      --disabled-bg-color: #3B4455;\n",
              "      --disabled-fill-color: #666;\n",
              "  }\n",
              "\n",
              "  .colab-df-quickchart {\n",
              "    background-color: var(--bg-color);\n",
              "    border: none;\n",
              "    border-radius: 50%;\n",
              "    cursor: pointer;\n",
              "    display: none;\n",
              "    fill: var(--fill-color);\n",
              "    height: 32px;\n",
              "    padding: 0;\n",
              "    width: 32px;\n",
              "  }\n",
              "\n",
              "  .colab-df-quickchart:hover {\n",
              "    background-color: var(--hover-bg-color);\n",
              "    box-shadow: 0 1px 2px rgba(60, 64, 67, 0.3), 0 1px 3px 1px rgba(60, 64, 67, 0.15);\n",
              "    fill: var(--button-hover-fill-color);\n",
              "  }\n",
              "\n",
              "  .colab-df-quickchart-complete:disabled,\n",
              "  .colab-df-quickchart-complete:disabled:hover {\n",
              "    background-color: var(--disabled-bg-color);\n",
              "    fill: var(--disabled-fill-color);\n",
              "    box-shadow: none;\n",
              "  }\n",
              "\n",
              "  .colab-df-spinner {\n",
              "    border: 2px solid var(--fill-color);\n",
              "    border-color: transparent;\n",
              "    border-bottom-color: var(--fill-color);\n",
              "    animation:\n",
              "      spin 1s steps(1) infinite;\n",
              "  }\n",
              "\n",
              "  @keyframes spin {\n",
              "    0% {\n",
              "      border-color: transparent;\n",
              "      border-bottom-color: var(--fill-color);\n",
              "      border-left-color: var(--fill-color);\n",
              "    }\n",
              "    20% {\n",
              "      border-color: transparent;\n",
              "      border-left-color: var(--fill-color);\n",
              "      border-top-color: var(--fill-color);\n",
              "    }\n",
              "    30% {\n",
              "      border-color: transparent;\n",
              "      border-left-color: var(--fill-color);\n",
              "      border-top-color: var(--fill-color);\n",
              "      border-right-color: var(--fill-color);\n",
              "    }\n",
              "    40% {\n",
              "      border-color: transparent;\n",
              "      border-right-color: var(--fill-color);\n",
              "      border-top-color: var(--fill-color);\n",
              "    }\n",
              "    60% {\n",
              "      border-color: transparent;\n",
              "      border-right-color: var(--fill-color);\n",
              "    }\n",
              "    80% {\n",
              "      border-color: transparent;\n",
              "      border-right-color: var(--fill-color);\n",
              "      border-bottom-color: var(--fill-color);\n",
              "    }\n",
              "    90% {\n",
              "      border-color: transparent;\n",
              "      border-bottom-color: var(--fill-color);\n",
              "    }\n",
              "  }\n",
              "</style>\n",
              "\n",
              "  <script>\n",
              "    async function quickchart(key) {\n",
              "      const quickchartButtonEl =\n",
              "        document.querySelector('#' + key + ' button');\n",
              "      quickchartButtonEl.disabled = true;  // To prevent multiple clicks.\n",
              "      quickchartButtonEl.classList.add('colab-df-spinner');\n",
              "      try {\n",
              "        const charts = await google.colab.kernel.invokeFunction(\n",
              "            'suggestCharts', [key], {});\n",
              "      } catch (error) {\n",
              "        console.error('Error during call to suggestCharts:', error);\n",
              "      }\n",
              "      quickchartButtonEl.classList.remove('colab-df-spinner');\n",
              "      quickchartButtonEl.classList.add('colab-df-quickchart-complete');\n",
              "    }\n",
              "    (() => {\n",
              "      let quickchartButtonEl =\n",
              "        document.querySelector('#df-1d21b294-ca0c-4e6f-9ea7-da9e1b02b063 button');\n",
              "      quickchartButtonEl.style.display =\n",
              "        google.colab.kernel.accessAllowed ? 'block' : 'none';\n",
              "    })();\n",
              "  </script>\n",
              "</div>\n",
              "    </div>\n",
              "  </div>\n"
            ],
            "application/vnd.google.colaboratory.intrinsic+json": {
              "type": "dataframe",
              "summary": "{\n  \"name\": \"dataframe\",\n  \"rows\": 5,\n  \"fields\": [\n    {\n      \"column\": \"smoke\",\n      \"properties\": {\n        \"dtype\": \"number\",\n        \"std\": 0,\n        \"min\": 0,\n        \"max\": 1,\n        \"num_unique_values\": 2,\n        \"samples\": [\n          1,\n          0\n        ],\n        \"semantic_type\": \"\",\n        \"description\": \"\"\n      }\n    },\n    {\n      \"column\": \"tar\",\n      \"properties\": {\n        \"dtype\": \"number\",\n        \"std\": 0,\n        \"min\": 0,\n        \"max\": 1,\n        \"num_unique_values\": 2,\n        \"samples\": [\n          0,\n          1\n        ],\n        \"semantic_type\": \"\",\n        \"description\": \"\"\n      }\n    },\n    {\n      \"column\": \"cancer\",\n      \"properties\": {\n        \"dtype\": \"number\",\n        \"std\": 0,\n        \"min\": 0,\n        \"max\": 1,\n        \"num_unique_values\": 2,\n        \"samples\": [\n          0,\n          1\n        ],\n        \"semantic_type\": \"\",\n        \"description\": \"\"\n      }\n    }\n  ]\n}"
            }
          },
          "metadata": {},
          "execution_count": 71
        }
      ]
    },
    {
      "cell_type": "code",
      "source": [
        "model = CausalModel(\n",
        "    data=dataframe,\n",
        "    treatment=['smoke'],\n",
        "    outcome=[\"cancer\"])\n",
        "model.interpret()"
      ],
      "metadata": {
        "id": "9XXXdNr2l4ls",
        "outputId": "1a225e5e-2b86-4d02-82ec-35832058bf8c",
        "colab": {
          "base_uri": "https://localhost:8080/",
          "height": 587
        }
      },
      "execution_count": 72,
      "outputs": [
        {
          "output_type": "stream",
          "name": "stderr",
          "text": [
            "WARNING:dowhy.causal_model:Causal Graph not provided. DoWhy will construct a graph based on data inputs.\n",
            "WARNING:dowhy.causal_model:Relevant variables to build causal graph not provided. You may want to use the learn_graph() function to construct the causal graph.\n",
            "WARNING:dowhy.causal_model:There are an additional 1 variables in the dataset that are not in the graph. Variable names are: '['tar']'\n"
          ]
        },
        {
          "output_type": "stream",
          "name": "stdout",
          "text": [
            "Model to find the causal effect of treatment ['smoke'] on outcome ['cancer']\n"
          ]
        },
        {
          "output_type": "display_data",
          "data": {
            "text/plain": [
              "<Figure size 800x600 with 1 Axes>"
            ],
            "image/png": "[encoded data removed]"
          },
          "metadata": {}
        }
      ]
    },
    {
      "cell_type": "code",
      "source": [
        "print(model.identify_effect(proceed_when_unidentifiable=True))"
      ],
      "metadata": {
        "id": "1j6JKP86mEr3",
        "outputId": "1ea99caa-08a3-4f7d-d390-17315f23c7b4",
        "colab": {
          "base_uri": "https://localhost:8080/"
        }
      },
      "execution_count": 73,
      "outputs": [
        {
          "output_type": "stream",
          "name": "stdout",
          "text": [
            "Estimand type: EstimandType.NONPARAMETRIC_ATE\n",
            "\n",
            "### Estimand : 1\n",
            "Estimand name: backdoor\n",
            "Estimand expression:\n",
            "   d               \n",
            "────────(E[cancer])\n",
            "d[smoke]           \n",
            "Estimand assumption 1, Unconfoundedness: If U→{smoke} and U→cancer then P(cancer|smoke,,U) = P(cancer|smoke,)\n",
            "\n",
            "### Estimand : 2\n",
            "Estimand name: iv\n",
            "No such variable(s) found!\n",
            "\n",
            "### Estimand : 3\n",
            "Estimand name: frontdoor\n",
            "No such variable(s) found!\n",
            "\n"
          ]
        }
      ]
    },
    {
      "cell_type": "code",
      "source": [
        "print(\n",
        "    model.estimate_effect(\n",
        "        model.identify_effect(proceed_when_unidentifiable=True),\n",
        "        method_name=\"backdoor.linear_regression\", ))\n"
      ],
      "metadata": {
        "id": "iYMGQ9mBmJl6",
        "outputId": "a8143a83-7245-46ad-9943-97b786f82af3",
        "colab": {
          "base_uri": "https://localhost:8080/"
        }
      },
      "execution_count": 74,
      "outputs": [
        {
          "output_type": "stream",
          "name": "stdout",
          "text": [
            "*** Causal Estimate ***\n",
            "\n",
            "## Identified estimand\n",
            "Estimand type: EstimandType.NONPARAMETRIC_ATE\n",
            "\n",
            "### Estimand : 1\n",
            "Estimand name: backdoor\n",
            "Estimand expression:\n",
            "   d               \n",
            "────────(E[cancer])\n",
            "d[smoke]           \n",
            "Estimand assumption 1, Unconfoundedness: If U→{smoke} and U→cancer then P(cancer|smoke,,U) = P(cancer|smoke,)\n",
            "\n",
            "## Realized estimand\n",
            "b: cancer~smoke\n",
            "Target units: ate\n",
            "\n",
            "## Estimate\n",
            "Mean value: -0.7550000000000004\n",
            "\n"
          ]
        }
      ]
    },
    {
      "cell_type": "markdown",
      "source": [
        "Получением, что пристрастие к курению сильно снижает вероятность рака)))"
      ],
      "metadata": {
        "id": "nKBDUWHll9g_"
      }
    },
    {
      "cell_type": "code",
      "source": [
        "causal_graph = \"\"\"digraph {\n",
        "smoke[label=\"smoke\"];\n",
        "tar[label=\"tar\"];\n",
        "cancer[label=\"cancer\"];\n",
        "U[label=\"Unobserved Confounders\",observed=\"no\"];\n",
        "U->{smoke;cancer};\n",
        "tar->{cancer};\n",
        "smoke->{tar};\n",
        "}\"\"\""
      ],
      "metadata": {
        "id": "5-0t2LXEmATW"
      },
      "execution_count": 75,
      "outputs": []
    },
    {
      "cell_type": "code",
      "source": [
        "model = CausalModel(\n",
        "    data=dataframe,\n",
        "    treatment=['smoke'],\n",
        "    outcome=[\"cancer\"],\n",
        "    instruments=[\"smoke\"],\n",
        "    graph=causal_graph)\n",
        "model.interpret()"
      ],
      "metadata": {
        "id": "gadOKbJMmfvM",
        "outputId": "55c7a52a-d262-4eec-c04f-22a2670cc4dc",
        "colab": {
          "base_uri": "https://localhost:8080/",
          "height": 587
        }
      },
      "execution_count": 76,
      "outputs": [
        {
          "output_type": "stream",
          "name": "stderr",
          "text": [
            "ERROR:dowhy.causal_graph:Error: Pygraphviz cannot be loaded. No module named 'pygraphviz'\n",
            "Trying pydot ...\n",
            "WARNING:dowhy.causal_model:The graph defines 4 variables. 3 were found in the dataset and will be analyzed as observed variables. 1 were not found in the dataset and will be analyzed as unobserved variables. The observed variables are: '['cancer', 'smoke', 'tar']'. The unobserved variables are: '['U']'. If this matches your expectations for observations, please continue. If you expected any of the unobserved variables to be in the dataframe, please check for typos.\n"
          ]
        },
        {
          "output_type": "stream",
          "name": "stdout",
          "text": [
            "Model to find the causal effect of treatment ['smoke'] on outcome ['cancer']\n"
          ]
        },
        {
          "output_type": "display_data",
          "data": {
            "text/plain": [
              "<Figure size 800x600 with 1 Axes>"
            ],
            "image/png": "[encoded data removed]"
          },
          "metadata": {}
        }
      ]
    },
    {
      "cell_type": "code",
      "source": [
        "print(model.identify_effect(proceed_when_unidentifiable=True))"
      ],
      "metadata": {
        "id": "3_51rLV4mjgR",
        "outputId": "450b118a-9d8c-461b-9a4d-cc3ae6c22f16",
        "colab": {
          "base_uri": "https://localhost:8080/"
        }
      },
      "execution_count": 77,
      "outputs": [
        {
          "output_type": "stream",
          "name": "stderr",
          "text": [
            "WARNING:dowhy.causal_identifier.auto_identifier:Backdoor identification failed.\n"
          ]
        },
        {
          "output_type": "stream",
          "name": "stdout",
          "text": [
            "Estimand type: EstimandType.NONPARAMETRIC_ATE\n",
            "\n",
            "### Estimand : 1\n",
            "Estimand name: backdoor\n",
            "No such variable(s) found!\n",
            "\n",
            "### Estimand : 2\n",
            "Estimand name: iv\n",
            "No such variable(s) found!\n",
            "\n",
            "### Estimand : 3\n",
            "Estimand name: frontdoor\n",
            "Estimand expression:\n",
            " ⎡  d               d           ⎤\n",
            "E⎢──────(cancer)⋅────────([tar])⎥\n",
            " ⎣d[tar]         d[smoke]       ⎦\n",
            "Estimand assumption 1, Full-mediation: tar intercepts (blocks) all directed paths from smoke to c,a,n,c,e,r.\n",
            "Estimand assumption 2, First-stage-unconfoundedness: If U→{smoke} and U→{tar} then P(tar|smoke,U) = P(tar|smoke)\n",
            "Estimand assumption 3, Second-stage-unconfoundedness: If U→{tar} and U→cancer then P(cancer|tar, smoke, U) = P(cancer|tar, smoke)\n",
            "\n"
          ]
        }
      ]
    },
    {
      "cell_type": "code",
      "source": [
        "print(\n",
        "    model.estimate_effect(\n",
        "        model.identify_effect(proceed_when_unidentifiable=True),\n",
        "        method_name=\"frontdoor.two_stage_regression\"))"
      ],
      "metadata": {
        "id": "XXoZTlh4mprh",
        "outputId": "1f983711-8b9e-4995-a1d9-12a9949cea3b",
        "colab": {
          "base_uri": "https://localhost:8080/"
        }
      },
      "execution_count": 78,
      "outputs": [
        {
          "output_type": "stream",
          "name": "stderr",
          "text": [
            "WARNING:dowhy.causal_identifier.auto_identifier:Backdoor identification failed.\n",
            "WARNING:dowhy.causal_estimator:First stage model not provided. Defaulting to sklearn.linear_model.LinearRegression.\n",
            "WARNING:dowhy.causal_estimator:Second stage model not provided. Defaulting to backdoor.linear_regression.\n"
          ]
        },
        {
          "output_type": "stream",
          "name": "stdout",
          "text": [
            "*** Causal Estimate ***\n",
            "\n",
            "## Identified estimand\n",
            "Estimand type: EstimandType.NONPARAMETRIC_ATE\n",
            "\n",
            "### Estimand : 1\n",
            "Estimand name: frontdoor\n",
            "Estimand expression:\n",
            " ⎡  d               d           ⎤\n",
            "E⎢──────(cancer)⋅────────([tar])⎥\n",
            " ⎣d[tar]         d[smoke]       ⎦\n",
            "Estimand assumption 1, Full-mediation: tar intercepts (blocks) all directed paths from smoke to c,a,n,c,e,r.\n",
            "Estimand assumption 2, First-stage-unconfoundedness: If U→{smoke} and U→{tar} then P(tar|smoke,U) = P(tar|smoke)\n",
            "Estimand assumption 3, Second-stage-unconfoundedness: If U→{tar} and U→cancer then P(cancer|tar, smoke, U) = P(cancer|tar, smoke)\n",
            "\n",
            "## Realized estimand\n",
            "(b: tar~smoke)*(b: cancer~tar+smoke)\n",
            "Target units: ate\n",
            "\n",
            "## Estimate\n",
            "Mean value: 0.044999999999999395\n",
            "\n"
          ]
        }
      ]
    }
  ],
  "metadata": {
    "kernelspec": {
      "display_name": "Python 3",
      "language": "python",
      "name": "python3"
    },
    "language_info": {
      "codemirror_mode": {
        "name": "ipython",
        "version": 3
      },
      "file_extension": ".py",
      "mimetype": "text/x-python",
      "name": "python",
      "nbconvert_exporter": "python",
      "pygments_lexer": "ipython3",
      "version": "3.7.3"
    },
    "colab": {
      "name": "main.ipynb",
      "provenance": []
    }
  },
  "nbformat": 4,
  "nbformat_minor": 0
}
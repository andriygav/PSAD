{
  "cells": [
    {
      "cell_type": "markdown",
      "metadata": {
        "id": "SWpzzBKX5lab"
      },
      "source": [
        "# Библиотеки"
      ]
    },
    {
      "cell_type": "code",
      "execution_count": null,
      "metadata": {
        "id": "DVElVx3w5lag"
      },
      "outputs": [],
      "source": [
        "from zlib import crc32\n",
        "\n",
        "import numpy as np\n",
        "import pandas as pd\n",
        "import scipy.stats as st"
      ]
    },
    {
      "cell_type": "markdown",
      "metadata": {
        "id": "W10bESh65lah"
      },
      "source": [
        "# Код генерации выборки"
      ]
    },
    {
      "cell_type": "code",
      "execution_count": null,
      "metadata": {
        "id": "-dRusc3I5lai"
      },
      "outputs": [],
      "source": [
        "import re\n",
        "EMAIL_REGEX = re.compile(r\"[^@]+@phystech.edu\")\n",
        "\n",
        "def generate_dataset(code):\n",
        "    rs = np.random.RandomState(code)\n",
        "    proba = 0.01 * rs.randint(low = 55, high = 70)\n",
        "    return 1.0*(rs.uniform(size = 5000) < proba)"
      ]
    },
    {
      "cell_type": "markdown",
      "metadata": {
        "id": "LXkXPYIz5laj"
      },
      "source": [
        "# Генерация выборки для вашей почты\n",
        "\n",
        "<span style=\"color:red\">\n",
        "    ВАЖНО!\n",
        "    Почта, которую укажете ниже и почта с которой Вы отправляете домашнее задание должна совпадать!\n",
        "    В момент проверки задания алгоритм генерирует выборку на основе почты из анкеты!\n",
        "</span>\n",
        "\n",
        "Внимательно проверьте почту для которой выполняется задание!"
      ]
    },
    {
      "cell_type": "code",
      "execution_count": null,
      "metadata": {
        "id": "h8bMsPHy5laj"
      },
      "outputs": [],
      "source": [
        "task = dict()\n",
        "task['mail'] = input(prompt='Enter your mail: ')\n",
        "assert EMAIL_REGEX.match(task['mail']), 'Not a mail in the phystech.edu domain'\n",
        "task['id'] = crc32(task['mail'].encode('utf-8'))\n",
        "task['data'] = generate_dataset(task['id'])\n",
        "\n",
        "task"
      ]
    },
    {
      "cell_type": "markdown",
      "metadata": {
        "id": "WprDKyMv5lak"
      },
      "source": [
        "# Работа с выборкой"
      ]
    },
    {
      "cell_type": "code",
      "execution_count": null,
      "metadata": {
        "id": "ZHQaq3RJ5lal"
      },
      "outputs": [],
      "source": [
        "data = task['data']"
      ]
    },
    {
      "cell_type": "markdown",
      "source": [
        "## Оценка вероятности методом максимального правдоподобия. (Ответ округлите до 3-х знаков после запятой)."
      ],
      "metadata": {
        "id": "9y9IwwTbxX7u"
      }
    },
    {
      "cell_type": "code",
      "execution_count": null,
      "metadata": {
        "id": "y3U23VKk5lal"
      },
      "outputs": [],
      "source": [
        "##################\n",
        "# your code here #\n",
        "##################"
      ]
    },
    {
      "cell_type": "markdown",
      "source": [
        "## С помощью последовательного анализа проверить нулевую гипотезу p0=0.5 против p1, полученной методом максимального правдоподобия. Использовать библиотеку sprt с alpha=beta=0.05. Гипотеза принимается?"
      ],
      "metadata": {
        "id": "5QJeWXJTxb53"
      }
    },
    {
      "cell_type": "code",
      "source": [
        "##################\n",
        "# your code here #\n",
        "##################"
      ],
      "metadata": {
        "id": "MqtpymLAxh1K"
      },
      "execution_count": null,
      "outputs": []
    },
    {
      "cell_type": "markdown",
      "source": [
        "## Какое минимальное количество итераций требуется для вынесения решения по данной гипотезе?"
      ],
      "metadata": {
        "id": "CCD435v2xduy"
      }
    },
    {
      "cell_type": "code",
      "source": [
        "##################\n",
        "# your code here #\n",
        "##################"
      ],
      "metadata": {
        "id": "2s-sEc_3xikN"
      },
      "execution_count": null,
      "outputs": []
    },
    {
      "cell_type": "markdown",
      "source": [
        "## Матождиание требуемого количества итераций (для решения уравнения со слайдов можно использовать scipy.optimize.root_scalar). За истинное значение параметра принимать МП-оценку. Округлять до целого числа в меньшую сторону."
      ],
      "metadata": {
        "id": "HJa49hxcxflJ"
      }
    },
    {
      "cell_type": "code",
      "source": [
        "##################\n",
        "# your code here #\n",
        "##################"
      ],
      "metadata": {
        "id": "FhuuFxetxhPW"
      },
      "execution_count": null,
      "outputs": []
    }
  ],
  "metadata": {
    "kernelspec": {
      "display_name": "Python 3",
      "language": "python",
      "name": "python3"
    },
    "language_info": {
      "codemirror_mode": {
        "name": "ipython",
        "version": 3
      },
      "file_extension": ".py",
      "mimetype": "text/x-python",
      "name": "python",
      "nbconvert_exporter": "python",
      "pygments_lexer": "ipython3",
      "version": "3.7.3"
    },
    "colab": {
      "name": "sem10.ipynb",
      "provenance": []
    }
  },
  "nbformat": 4,
  "nbformat_minor": 0
}
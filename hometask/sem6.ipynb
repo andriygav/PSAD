{
  "cells": [
    {
      "cell_type": "markdown",
      "metadata": {
        "id": "SWpzzBKX5lab"
      },
      "source": [
        "# Библиотеки"
      ]
    },
    {
      "cell_type": "code",
      "execution_count": null,
      "metadata": {
        "id": "DVElVx3w5lag"
      },
      "outputs": [],
      "source": [
        "from zlib import crc32\n",
        "\n",
        "import numpy as np\n",
        "import pandas as pd\n",
        "import scipy.stats as st"
      ]
    },
    {
      "cell_type": "markdown",
      "metadata": {
        "id": "W10bESh65lah"
      },
      "source": [
        "# Код генерации выборки"
      ]
    },
    {
      "cell_type": "code",
      "execution_count": null,
      "metadata": {
        "id": "-dRusc3I5lai"
      },
      "outputs": [],
      "source": [
        "import re\n",
        "EMAIL_REGEX = re.compile(r\"[^@]+@phystech.edu\")\n",
        "\n",
        "def generate_dataset(code):\n",
        "    rs = np.random.RandomState(code)\n",
        "    tip = rs.randint(low = 0, high = 4)\n",
        "    C1 = rs.choice([1, 5], size = 1000)\n",
        "    C2 = rs.choice([2, 4], size = 1000)\n",
        "    if tip == 0 :\n",
        "        data = rs.randn(1000)\n",
        "    if tip == 1:\n",
        "        data = []\n",
        "        for c1,c2 in zip(C1, C2):\n",
        "            if c1 == 1:\n",
        "                data.append(rs.randn(1) + 1)\n",
        "            if c1 == 5:\n",
        "                data.append(rs.randn(1) - 1)\n",
        "        data = np.array(data)\n",
        "    if tip == 2:\n",
        "        data = []\n",
        "        for c1,c2 in zip(C1, C2):\n",
        "            if c1==1:\n",
        "                c1 = 0\n",
        "            else:\n",
        "                c1= 1\n",
        "            if c2 ==2:\n",
        "                c2 = 0\n",
        "            else:\n",
        "                c2 = 1\n",
        "            data.append(rs.randn(1) + c1 + c2)\n",
        "    if tip == 3:# on c1, c2\n",
        "        data = []\n",
        "        for c1,c2 in zip(C1,C2):\n",
        "            if c1==1:\n",
        "                c1 = 0\n",
        "            else:\n",
        "                c1= 1\n",
        "            if c2 ==2:\n",
        "                c2 = 0\n",
        "            else:\n",
        "                c2 = 1\n",
        "            data.append(rs.randn(1) + c1 + c2 + 5*c1*c2)\n",
        "        data = np.array(data)\n",
        "    return np.hstack([np.array(data).reshape(1000, 1), C1.reshape(1000, 1), C2.reshape(1000, 1)])"
      ]
    },
    {
      "cell_type": "markdown",
      "metadata": {
        "id": "LXkXPYIz5laj"
      },
      "source": [
        "# Генерация выборки для вашей почты\n",
        "\n",
        "<span style=\"color:red\">\n",
        "    ВАЖНО!\n",
        "    Почта, которую укажете ниже и почта с которой Вы отправляете домашнее задание должна совпадать!\n",
        "    В момент проверки задания алгоритм генерирует выборку на основе почты из анкеты!\n",
        "</span>\n",
        "\n",
        "Внимательно проверьте почту для которой выполняется задание!"
      ]
    },
    {
      "cell_type": "code",
      "execution_count": null,
      "metadata": {
        "id": "h8bMsPHy5laj"
      },
      "outputs": [],
      "source": [
        "task = dict()\n",
        "task['mail'] = input(prompt='Enter your mail: ')\n",
        "assert EMAIL_REGEX.match(task['mail']), 'Not a mail in the phystech.edu domain'\n",
        "task['id'] = crc32(task['mail'].encode('utf-8'))\n",
        "task['data'] = generate_dataset(task['id'])\n",
        "\n",
        "task"
      ]
    },
    {
      "cell_type": "markdown",
      "metadata": {
        "id": "WprDKyMv5lak"
      },
      "source": [
        "# Работа с выборкой"
      ]
    },
    {
      "cell_type": "code",
      "execution_count": null,
      "metadata": {
        "id": "ZHQaq3RJ5lal"
      },
      "outputs": [],
      "source": [
        "data = task['data']"
      ]
    },
    {
      "cell_type": "markdown",
      "source": [
        "## Оценка p(X_{i+1}= 0|X_{i}=0) методом максимального правдоподобия"
      ],
      "metadata": {
        "id": "O5p71wQ9opPr"
      }
    },
    {
      "cell_type": "code",
      "source": [
        "##################\n",
        "# your code here #\n",
        "##################"
      ],
      "metadata": {
        "id": "aeLtuYX3ooiF"
      },
      "execution_count": null,
      "outputs": []
    },
    {
      "cell_type": "markdown",
      "source": [
        "## Отвергается ли нулевая гипотеза p(X_{i+1}= 0|X_{i}=0)=0.9?"
      ],
      "metadata": {
        "id": "lpAHvv8dotep"
      }
    },
    {
      "cell_type": "code",
      "source": [
        "##################\n",
        "# your code here #\n",
        "##################"
      ],
      "metadata": {
        "id": "TqkkLtHgou9x"
      },
      "execution_count": null,
      "outputs": []
    },
    {
      "cell_type": "markdown",
      "source": [
        "## Какова вероятность встретить Xi=2 с применением сглаживания Лапласа?"
      ],
      "metadata": {
        "id": "s3Fwto0Vov2t"
      }
    },
    {
      "cell_type": "code",
      "source": [
        "##################\n",
        "# your code here #\n",
        "##################"
      ],
      "metadata": {
        "id": "A0KMmlmyoxjq"
      },
      "execution_count": null,
      "outputs": []
    }
  ],
  "metadata": {
    "kernelspec": {
      "display_name": "Python 3",
      "language": "python",
      "name": "python3"
    },
    "language_info": {
      "codemirror_mode": {
        "name": "ipython",
        "version": 3
      },
      "file_extension": ".py",
      "mimetype": "text/x-python",
      "name": "python",
      "nbconvert_exporter": "python",
      "pygments_lexer": "ipython3",
      "version": "3.7.3"
    },
    "colab": {
      "name": "sem6.ipynb",
      "provenance": []
    }
  },
  "nbformat": 4,
  "nbformat_minor": 0
}
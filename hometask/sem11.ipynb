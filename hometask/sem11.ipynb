{
  "cells": [
    {
      "cell_type": "markdown",
      "metadata": {
        "id": "SWpzzBKX5lab"
      },
      "source": [
        "# Библиотеки"
      ]
    },
    {
      "cell_type": "code",
      "execution_count": null,
      "metadata": {
        "id": "DVElVx3w5lag"
      },
      "outputs": [],
      "source": [
        "from zlib import crc32\n",
        "\n",
        "import numpy as np\n",
        "import pandas as pd\n",
        "import scipy.stats as st\n",
        "import networkx as nx"
      ]
    },
    {
      "cell_type": "markdown",
      "metadata": {
        "id": "W10bESh65lah"
      },
      "source": [
        "# Код генерации выборки"
      ]
    },
    {
      "cell_type": "code",
      "execution_count": null,
      "metadata": {
        "id": "-dRusc3I5lai"
      },
      "outputs": [],
      "source": [
        "import re\n",
        "EMAIL_REGEX = re.compile(r\"[^@]+@phystech.edu\")\n",
        "\n",
        "def generate_dataset(code):\n",
        "    rs = np.random.RandomState(code)\n",
        "    g = nx.DiGraph(nodes=[str(i) for i in range(5)])\n",
        "    edges = []\n",
        "    for i in range(5):\n",
        "        for j in range(5):\n",
        "            if i == j:\n",
        "                continue\n",
        "            if rs.uniform() > 0.35:\n",
        "                g.add_edge(str(i),str(j))\n",
        "                if not nx.is_directed_acyclic_graph(g):\n",
        "                    g.remove_edge(str(i),str(j))\n",
        "                else:\n",
        "                    edges.append((str(i), str(j)))\n",
        "\n",
        "    edges = [[int(a[0]), int(a[1])] for a in edges]\n",
        "    edges = np.array(edges).astype(np.uint32)\n",
        "    return edges"
      ]
    },
    {
      "cell_type": "markdown",
      "metadata": {
        "id": "LXkXPYIz5laj"
      },
      "source": [
        "# Генерация выборки для вашей почты\n",
        "\n",
        "<span style=\"color:red\">\n",
        "    ВАЖНО!\n",
        "    Почта, которую укажете ниже и почта с которой Вы отправляете домашнее задание должна совпадать!\n",
        "    В момент проверки задания алгоритм генерирует выборку на основе почты из анкеты!\n",
        "</span>\n",
        "\n",
        "Внимательно проверьте почту для которой выполняется задание!"
      ]
    },
    {
      "cell_type": "code",
      "execution_count": null,
      "metadata": {
        "id": "h8bMsPHy5laj"
      },
      "outputs": [],
      "source": [
        "task = dict()\n",
        "task['mail'] = input(prompt='Enter your mail: ')\n",
        "assert EMAIL_REGEX.match(task['mail']), 'Not a mail in the phystech.edu domain'\n",
        "task['id'] = crc32(task['mail'].encode('utf-8'))\n",
        "task['data'] = generate_dataset(task['id'])\n",
        "\n",
        "task"
      ]
    },
    {
      "cell_type": "markdown",
      "metadata": {
        "id": "WprDKyMv5lak"
      },
      "source": [
        "# Работа с выборкой"
      ]
    },
    {
      "cell_type": "code",
      "execution_count": null,
      "metadata": {
        "id": "ZHQaq3RJ5lal"
      },
      "outputs": [],
      "source": [
        "data = task['data']"
      ]
    },
    {
      "cell_type": "markdown",
      "source": [
        "## Количество цепочек (из 3 вершин) внутри графа"
      ],
      "metadata": {
        "id": "jbUSkOk9xrPU"
      }
    },
    {
      "cell_type": "code",
      "execution_count": null,
      "metadata": {
        "id": "y3U23VKk5lal"
      },
      "outputs": [],
      "source": [
        "##################\n",
        "# your code here #\n",
        "##################"
      ]
    },
    {
      "cell_type": "markdown",
      "source": [
        "## Количество вилок внутри графа"
      ],
      "metadata": {
        "id": "_KIigKJsxuQL"
      }
    },
    {
      "cell_type": "code",
      "source": [
        "##################\n",
        "# your code here #\n",
        "##################"
      ],
      "metadata": {
        "id": "Z-F5gbDOxycv"
      },
      "execution_count": null,
      "outputs": []
    },
    {
      "cell_type": "markdown",
      "source": [
        "## Количество коллайдеров внутри графа"
      ],
      "metadata": {
        "id": "XuVfsakDxwra"
      }
    },
    {
      "cell_type": "code",
      "source": [
        "##################\n",
        "# your code here #\n",
        "##################"
      ],
      "metadata": {
        "id": "iX1D95ZDxzOo"
      },
      "execution_count": null,
      "outputs": []
    }
  ],
  "metadata": {
    "colab": {
      "name": "sem11.ipynb",
      "provenance": []
    },
    "kernelspec": {
      "display_name": "Python 3",
      "language": "python",
      "name": "python3"
    },
    "language_info": {
      "codemirror_mode": {
        "name": "ipython",
        "version": 3
      },
      "file_extension": ".py",
      "mimetype": "text/x-python",
      "name": "python",
      "nbconvert_exporter": "python",
      "pygments_lexer": "ipython3",
      "version": "3.7.3"
    }
  },
  "nbformat": 4,
  "nbformat_minor": 0
}